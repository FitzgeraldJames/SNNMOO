{
 "cells": [
  {
   "cell_type": "code",
   "execution_count": 1,
   "metadata": {},
   "outputs": [
    {
     "data": {
      "text/html": [
       "        <script type=\"text/javascript\">\n",
       "        window.PlotlyConfig = {MathJaxConfig: 'local'};\n",
       "        if (window.MathJax) {MathJax.Hub.Config({SVG: {font: \"STIX-Web\"}});}\n",
       "        if (typeof require !== 'undefined') {\n",
       "        require.undef(\"plotly\");\n",
       "        requirejs.config({\n",
       "            paths: {\n",
       "                'plotly': ['https://cdn.plot.ly/plotly-latest.min']\n",
       "            }\n",
       "        });\n",
       "        require(['plotly'], function(Plotly) {\n",
       "            window._Plotly = Plotly;\n",
       "        });\n",
       "        }\n",
       "        </script>\n",
       "        "
      ]
     },
     "metadata": {},
     "output_type": "display_data"
    }
   ],
   "source": [
    "import pandas as pd\n",
    "import os\n",
    "import json\n",
    "\n",
    "from pprint import pprint\n",
    "\n",
    "import chart_studio.plotly as plt\n",
    "import plotly.graph_objects as go\n",
    "from plotly.subplots import make_subplots\n",
    "from plotly.offline import init_notebook_mode, iplot\n",
    "import random\n",
    "init_notebook_mode(connected=True)"
   ]
  },
  {
   "cell_type": "code",
   "execution_count": 6,
   "metadata": {
    "scrolled": false
   },
   "outputs": [],
   "source": [
    "def plot_3x3_grid(run_dir_path):\n",
    "    # Gather files from combined firing optimisation\n",
    "    files = list(map(lambda x: f'{run_dir_path}/{x}', os.listdir(run_dir_path)))\n",
    "\n",
    "    file_firing = []\n",
    "\n",
    "    for filename in files:\n",
    "        params = json.load(open(f'{filename}/params.json'))\n",
    "        \n",
    "        file_firing.append((\n",
    "            filename,\n",
    "            params,\n",
    "            pd.read_csv(f'{filename}/frontier.csv'),\n",
    "            pd.read_csv(f'{filename}/opt.csv')\n",
    "        ))\n",
    "      \n",
    "    # Sort results by sparsity, excitatory_firing, inhibitory firing\n",
    "    firings = sorted(\n",
    "        file_firing, \n",
    "        key=lambda x: (-x[1]['sparsity'],-x[1]['ex_target'],x[1]['in_target'])\n",
    "    )\n",
    "\n",
    "    plot_titles = [\n",
    "        f'f: {params[\"sparsity\"]}, exc: {params[\"ex_target\"]}, inh: {params[\"in_target\"]}'\n",
    "        for filename, params, frontier, opt in firings\n",
    "    ]\n",
    "\n",
    "    fig = make_subplots(\n",
    "        rows=3, cols=3,\n",
    "        subplot_titles=plot_titles,\n",
    "        x_title='Excitatory neural firing rate error (Hz)',\n",
    "        y_title='Inhibitory neural firing rate error (Hz)',\n",
    "    )\n",
    "\n",
    "    positions =[\n",
    "        (1,1),(1,2),(1,3),\n",
    "        (2,1),(2,2),(2,3),\n",
    "        (3,1),(3,2),(3,3) \n",
    "    ]\n",
    "\n",
    "    for i, (filename, params, frontier, opt) in enumerate(firings, start=1):\n",
    "        position = positions[i-1]\n",
    "\n",
    "        fig.add_trace(go.Scatter(\n",
    "                x=frontier['inhib_firing_error'],\n",
    "                y=frontier['ex_firing_error'],\n",
    "                name='excitatory connections',\n",
    "                mode='markers',\n",
    "                marker={\n",
    "                    'color':'black'\n",
    "                },\n",
    "            ), \n",
    "            row=position[0], col=position[1]\n",
    "        )\n",
    "\n",
    "    fig.update_layout(\n",
    "        height=900, width=900, title='Final frontiers of firing error',\n",
    "\n",
    "    )\n",
    "\n",
    "\n",
    "    fig.show()"
   ]
  },
  {
   "cell_type": "markdown",
   "metadata": {},
   "source": [
    "# Multi-Objective Optimisation of Spiking Neural Networks"
   ]
  },
  {
   "cell_type": "markdown",
   "metadata": {},
   "source": [
    "## Pareto front convergence"
   ]
  },
  {
   "cell_type": "markdown",
   "metadata": {},
   "source": [
    "## Constrained search\n",
    "Attempted to reduce errors by reducing the set of solutions that are accepted into the frontier. With a fixed max error of 5 the search has much hight errors for all combanations, and finds no possible solutions with a firing rate of 10,2."
   ]
  },
  {
   "cell_type": "code",
   "execution_count": 11,
   "metadata": {},
   "outputs": [
    {
     "data": {
      "application/vnd.plotly.v1+json": {
       "config": {
        "plotlyServerURL": "https://plot.ly"
       },
       "data": [
        {
         "marker": {
          "color": "black"
         },
         "mode": "markers",
         "name": "excitatory connections",
         "type": "scatter",
         "x": [
          0.4474999999999998,
          0.018750000000000044,
          0.3624999999999998,
          0.82375,
          0.8087499999999999,
          0.09624999999999996,
          0.3687499999999999,
          0.5074999999999998,
          0.25749999999999984,
          0.1974999999999998,
          0.006250000000000089,
          0.0037499999999999205,
          0.24750000000000005,
          0,
          0.0012499999999999734
         ],
         "xaxis": "x",
         "y": [
          1.3462499999999995,
          2.62625,
          1.97875,
          0.2837499999999995,
          0.6024999999999991,
          2.32625,
          1.6974999999999998,
          0.6762499999999996,
          2.1587500000000004,
          2.3237500000000004,
          2.95875,
          3.31625,
          2.175,
          3.77875,
          3.4525
         ],
         "yaxis": "y"
        },
        {
         "marker": {
          "color": "black"
         },
         "mode": "markers",
         "name": "excitatory connections",
         "type": "scatter",
         "x": [
          1.60625,
          1.01125,
          0.8975,
          1.01375,
          0.10499999999999997,
          0.18375000000000008,
          1.1425,
          1.07875,
          0.8425,
          0.6275,
          1.3775,
          1.49625,
          1.27625,
          0.6637500000000001,
          1.23375,
          0.39375,
          1.56625,
          0.1412500000000001,
          0.4862500000000001,
          1.2275,
          1.3575,
          1.51375,
          0.5625,
          0.74,
          1.595,
          0.12250000000000005,
          0.7862499999999999,
          0.5700000000000001,
          1.37625,
          0.42875,
          0.75125,
          0.77,
          0.4199999999999999,
          1.50875,
          0.4412499999999999,
          1.57625,
          1.37125,
          0.46875,
          1.2925,
          0.10624999999999996,
          1.415,
          0.0012499999999999734,
          0.2675000000000001,
          1.26875,
          1.19875
         ],
         "xaxis": "x2",
         "y": [
          1.38,
          2.965,
          3.01875,
          2.725,
          4.12375,
          3.8525,
          2.61125,
          2.635,
          3.1012500000000003,
          3.35875,
          2.06375,
          1.78375,
          2.3600000000000003,
          3.29375,
          2.53625,
          3.665,
          1.57625,
          3.975,
          3.50875,
          2.55125,
          2.2925000000000004,
          1.69375,
          3.44625,
          3.2662500000000003,
          1.51125,
          4.0025,
          3.1625,
          3.4450000000000003,
          2.2375,
          3.595,
          3.24,
          3.17875,
          3.65875,
          1.6949999999999998,
          3.5387500000000003,
          1.5437500000000002,
          2.25375,
          3.5225,
          2.3287500000000003,
          4.03375,
          1.90625,
          4.22375,
          3.72375,
          2.5325,
          2.58125
         ],
         "yaxis": "y2"
        },
        {
         "marker": {
          "color": "black"
         },
         "mode": "markers",
         "name": "excitatory connections",
         "type": "scatter",
         "x": [],
         "xaxis": "x3",
         "y": [],
         "yaxis": "y3"
        },
        {
         "marker": {
          "color": "black"
         },
         "mode": "markers",
         "name": "excitatory connections",
         "type": "scatter",
         "x": [
          0.010000000000000007,
          0.10499999999999997,
          0.3450000000000002,
          0.17499999999999982,
          0.4624999999999999,
          0.6349999999999998,
          0.98375,
          0.24250000000000016,
          0.0037499999999999205,
          0.6324999999999998,
          0.09375,
          0.10124999999999984,
          0.76125,
          0.07125000000000004,
          0.015000000000000124
         ],
         "xaxis": "x4",
         "y": [
          2.83625,
          2.28125,
          1.6024999999999991,
          2.1100000000000003,
          0.9275000000000002,
          0.37374999999999936,
          0.1349999999999998,
          2.0525,
          2.86125,
          0.4674999999999994,
          2.58125,
          2.5112500000000004,
          0.15000000000000036,
          2.6775,
          2.74125
         ],
         "yaxis": "y4"
        },
        {
         "marker": {
          "color": "black"
         },
         "mode": "markers",
         "name": "excitatory connections",
         "type": "scatter",
         "x": [
          1.46,
          1.39375,
          1.48875,
          0.5874999999999999,
          0.16375000000000006,
          1.36875,
          0.2962499999999999,
          1.485,
          0.11375000000000003,
          0.935,
          1.44875,
          0.13874999999999993,
          0.66875,
          0.2437499999999999,
          0.0625,
          1.29125,
          0.665,
          0.9025,
          0.8087500000000001,
          1.535,
          1.43125,
          1.0387499999999998,
          0.4312499999999999,
          1.51125,
          1.185,
          0.02875000000000005,
          1.155,
          0.9175,
          0.40625,
          0.47875,
          0.4862500000000001,
          0.4650000000000001,
          0.3187500000000001,
          0.5137499999999999,
          0.31125,
          0.3200000000000001,
          1.1575,
          0.2925,
          1.6225,
          1.435,
          1.54125,
          1.27875,
          1.525,
          0.15999999999999992,
          0.84375,
          0.59125
         ],
         "xaxis": "x5",
         "y": [
          1.96875,
          2.2525000000000004,
          1.86125,
          3.59375,
          4.31,
          2.27,
          4.12625,
          1.92125,
          4.50875,
          2.99625,
          2.0737500000000004,
          4.475,
          3.3125,
          4.18625,
          4.57625,
          2.32125,
          3.42375,
          3.17375,
          3.25625,
          1.7487499999999998,
          2.115,
          2.845,
          3.79625,
          1.85375,
          2.5112500000000004,
          4.69,
          2.7175,
          3.00125,
          3.8625,
          3.765,
          3.685,
          3.7875,
          3.93125,
          3.6025,
          3.99125,
          3.87125,
          2.59375,
          4.15,
          1.62875,
          2.08875,
          1.6437499999999998,
          2.5075000000000003,
          1.7937500000000002,
          4.42375,
          3.185,
          3.4925
         ],
         "yaxis": "y5"
        },
        {
         "marker": {
          "color": "black"
         },
         "mode": "markers",
         "name": "excitatory connections",
         "type": "scatter",
         "x": [],
         "xaxis": "x6",
         "y": [],
         "yaxis": "y6"
        },
        {
         "marker": {
          "color": "black"
         },
         "mode": "markers",
         "name": "excitatory connections",
         "type": "scatter",
         "x": [
          0.009999999999999787,
          0.935,
          0.3312499999999998,
          0.5237500000000002,
          0.5012500000000002,
          0.11125000000000007,
          0.25,
          0.036249999999999886,
          0.0012500000000001956,
          0.7799999999999998,
          0.08000000000000007,
          0.3325,
          0.17249999999999988,
          0.07249999999999979,
          0.94875,
          0.16000000000000014,
          0.02249999999999996,
          0.6175000000000002,
          0.09750000000000014,
          0.20624999999999985
         ],
         "xaxis": "x7",
         "y": [
          2.6075,
          0.04749999999999943,
          1.6537500000000005,
          1.0237499999999995,
          1.1525,
          2.31375,
          1.8450000000000009,
          2.50625,
          2.84375,
          0.20374999999999946,
          2.46875,
          1.50375,
          2.14375,
          2.4850000000000003,
          0.006249999999999646,
          2.2437500000000004,
          2.54125,
          0.2712500000000002,
          2.43,
          2.0475000000000003
         ],
         "yaxis": "y7"
        },
        {
         "marker": {
          "color": "black"
         },
         "mode": "markers",
         "name": "excitatory connections",
         "type": "scatter",
         "x": [
          1.4675,
          1.43875,
          0.65625,
          1.1637499999999998,
          1.185,
          1.3362500000000002,
          1,
          1.20375,
          1.11875,
          0.6087499999999999,
          1.17625,
          1.05875,
          1.09125,
          0.1825000000000001,
          0.09375,
          0.8812500000000001,
          1.37875,
          1.0074999999999998,
          0.99875,
          1.1949999999999998,
          0.9325,
          1.42125,
          0.21124999999999994,
          0.4450000000000001,
          1.47375,
          0.69,
          0.675,
          1.3,
          0.73125,
          0.77125,
          0.6499999999999999,
          0.41625,
          0.010000000000000007,
          0.2649999999999999,
          1.1125,
          0.1087499999999999,
          0,
          1.515,
          0.5462499999999999,
          0.46125,
          0.4950000000000001
         ],
         "xaxis": "x8",
         "y": [
          2.1012500000000003,
          2.1050000000000004,
          3.50375,
          2.75375,
          2.64625,
          2.2425,
          2.9850000000000003,
          2.4725,
          2.79375,
          3.5250000000000004,
          2.6987500000000004,
          2.865,
          2.8525,
          4.17375,
          4.47375,
          3.1325000000000003,
          2.15375,
          2.9675,
          3.06125,
          2.6275000000000004,
          3.08625,
          2.13375,
          4.16875,
          3.76125,
          1.93,
          3.3575,
          3.435,
          2.415,
          3.2875,
          3.23625,
          3.52125,
          3.94125,
          4.76875,
          3.9525,
          2.8275,
          4.3825,
          4.99375,
          1.84,
          3.5875000000000004,
          3.7075,
          3.6525
         ],
         "yaxis": "y8"
        },
        {
         "marker": {
          "color": "black"
         },
         "mode": "markers",
         "name": "excitatory connections",
         "type": "scatter",
         "x": [],
         "xaxis": "x9",
         "y": [],
         "yaxis": "y9"
        }
       ],
       "layout": {
        "annotations": [
         {
          "font": {
           "size": 16
          },
          "showarrow": false,
          "text": "f: 1, exc: 10, inh: 2",
          "x": 0.14444444444444446,
          "xanchor": "center",
          "xref": "paper",
          "y": 1,
          "yanchor": "bottom",
          "yref": "paper"
         },
         {
          "font": {
           "size": 16
          },
          "showarrow": false,
          "text": "f: 1, exc: 2, inh: 2",
          "x": 0.5,
          "xanchor": "center",
          "xref": "paper",
          "y": 1,
          "yanchor": "bottom",
          "yref": "paper"
         },
         {
          "font": {
           "size": 16
          },
          "showarrow": false,
          "text": "f: 1, exc: 2, inh: 10",
          "x": 0.8555555555555556,
          "xanchor": "center",
          "xref": "paper",
          "y": 1,
          "yanchor": "bottom",
          "yref": "paper"
         },
         {
          "font": {
           "size": 16
          },
          "showarrow": false,
          "text": "f: 0.5, exc: 10, inh: 2",
          "x": 0.14444444444444446,
          "xanchor": "center",
          "xref": "paper",
          "y": 0.6111111111111112,
          "yanchor": "bottom",
          "yref": "paper"
         },
         {
          "font": {
           "size": 16
          },
          "showarrow": false,
          "text": "f: 0.5, exc: 2, inh: 2",
          "x": 0.5,
          "xanchor": "center",
          "xref": "paper",
          "y": 0.6111111111111112,
          "yanchor": "bottom",
          "yref": "paper"
         },
         {
          "font": {
           "size": 16
          },
          "showarrow": false,
          "text": "f: 0.5, exc: 2, inh: 10",
          "x": 0.8555555555555556,
          "xanchor": "center",
          "xref": "paper",
          "y": 0.6111111111111112,
          "yanchor": "bottom",
          "yref": "paper"
         },
         {
          "font": {
           "size": 16
          },
          "showarrow": false,
          "text": "f: 0.2, exc: 10, inh: 2",
          "x": 0.14444444444444446,
          "xanchor": "center",
          "xref": "paper",
          "y": 0.22222222222222224,
          "yanchor": "bottom",
          "yref": "paper"
         },
         {
          "font": {
           "size": 16
          },
          "showarrow": false,
          "text": "f: 0.2, exc: 2, inh: 2",
          "x": 0.5,
          "xanchor": "center",
          "xref": "paper",
          "y": 0.22222222222222224,
          "yanchor": "bottom",
          "yref": "paper"
         },
         {
          "font": {
           "size": 16
          },
          "showarrow": false,
          "text": "f: 0.2, exc: 2, inh: 10",
          "x": 0.8555555555555556,
          "xanchor": "center",
          "xref": "paper",
          "y": 0.22222222222222224,
          "yanchor": "bottom",
          "yref": "paper"
         },
         {
          "font": {
           "size": 16
          },
          "showarrow": false,
          "text": "Excitatory neural firing rate error (Hz)",
          "x": 0.5,
          "xanchor": "center",
          "xref": "paper",
          "y": 0,
          "yanchor": "top",
          "yref": "paper",
          "yshift": -30
         },
         {
          "font": {
           "size": 16
          },
          "showarrow": false,
          "text": "Inhibitory neural firing rate error (Hz)",
          "textangle": -90,
          "x": 0,
          "xanchor": "right",
          "xref": "paper",
          "xshift": -40,
          "y": 0.5,
          "yanchor": "middle",
          "yref": "paper"
         }
        ],
        "height": 900,
        "template": {
         "data": {
          "bar": [
           {
            "error_x": {
             "color": "#2a3f5f"
            },
            "error_y": {
             "color": "#2a3f5f"
            },
            "marker": {
             "line": {
              "color": "#E5ECF6",
              "width": 0.5
             }
            },
            "type": "bar"
           }
          ],
          "barpolar": [
           {
            "marker": {
             "line": {
              "color": "#E5ECF6",
              "width": 0.5
             }
            },
            "type": "barpolar"
           }
          ],
          "carpet": [
           {
            "aaxis": {
             "endlinecolor": "#2a3f5f",
             "gridcolor": "white",
             "linecolor": "white",
             "minorgridcolor": "white",
             "startlinecolor": "#2a3f5f"
            },
            "baxis": {
             "endlinecolor": "#2a3f5f",
             "gridcolor": "white",
             "linecolor": "white",
             "minorgridcolor": "white",
             "startlinecolor": "#2a3f5f"
            },
            "type": "carpet"
           }
          ],
          "choropleth": [
           {
            "colorbar": {
             "outlinewidth": 0,
             "ticks": ""
            },
            "type": "choropleth"
           }
          ],
          "contour": [
           {
            "colorbar": {
             "outlinewidth": 0,
             "ticks": ""
            },
            "colorscale": [
             [
              0,
              "#0d0887"
             ],
             [
              0.1111111111111111,
              "#46039f"
             ],
             [
              0.2222222222222222,
              "#7201a8"
             ],
             [
              0.3333333333333333,
              "#9c179e"
             ],
             [
              0.4444444444444444,
              "#bd3786"
             ],
             [
              0.5555555555555556,
              "#d8576b"
             ],
             [
              0.6666666666666666,
              "#ed7953"
             ],
             [
              0.7777777777777778,
              "#fb9f3a"
             ],
             [
              0.8888888888888888,
              "#fdca26"
             ],
             [
              1,
              "#f0f921"
             ]
            ],
            "type": "contour"
           }
          ],
          "contourcarpet": [
           {
            "colorbar": {
             "outlinewidth": 0,
             "ticks": ""
            },
            "type": "contourcarpet"
           }
          ],
          "heatmap": [
           {
            "colorbar": {
             "outlinewidth": 0,
             "ticks": ""
            },
            "colorscale": [
             [
              0,
              "#0d0887"
             ],
             [
              0.1111111111111111,
              "#46039f"
             ],
             [
              0.2222222222222222,
              "#7201a8"
             ],
             [
              0.3333333333333333,
              "#9c179e"
             ],
             [
              0.4444444444444444,
              "#bd3786"
             ],
             [
              0.5555555555555556,
              "#d8576b"
             ],
             [
              0.6666666666666666,
              "#ed7953"
             ],
             [
              0.7777777777777778,
              "#fb9f3a"
             ],
             [
              0.8888888888888888,
              "#fdca26"
             ],
             [
              1,
              "#f0f921"
             ]
            ],
            "type": "heatmap"
           }
          ],
          "heatmapgl": [
           {
            "colorbar": {
             "outlinewidth": 0,
             "ticks": ""
            },
            "colorscale": [
             [
              0,
              "#0d0887"
             ],
             [
              0.1111111111111111,
              "#46039f"
             ],
             [
              0.2222222222222222,
              "#7201a8"
             ],
             [
              0.3333333333333333,
              "#9c179e"
             ],
             [
              0.4444444444444444,
              "#bd3786"
             ],
             [
              0.5555555555555556,
              "#d8576b"
             ],
             [
              0.6666666666666666,
              "#ed7953"
             ],
             [
              0.7777777777777778,
              "#fb9f3a"
             ],
             [
              0.8888888888888888,
              "#fdca26"
             ],
             [
              1,
              "#f0f921"
             ]
            ],
            "type": "heatmapgl"
           }
          ],
          "histogram": [
           {
            "marker": {
             "colorbar": {
              "outlinewidth": 0,
              "ticks": ""
             }
            },
            "type": "histogram"
           }
          ],
          "histogram2d": [
           {
            "colorbar": {
             "outlinewidth": 0,
             "ticks": ""
            },
            "colorscale": [
             [
              0,
              "#0d0887"
             ],
             [
              0.1111111111111111,
              "#46039f"
             ],
             [
              0.2222222222222222,
              "#7201a8"
             ],
             [
              0.3333333333333333,
              "#9c179e"
             ],
             [
              0.4444444444444444,
              "#bd3786"
             ],
             [
              0.5555555555555556,
              "#d8576b"
             ],
             [
              0.6666666666666666,
              "#ed7953"
             ],
             [
              0.7777777777777778,
              "#fb9f3a"
             ],
             [
              0.8888888888888888,
              "#fdca26"
             ],
             [
              1,
              "#f0f921"
             ]
            ],
            "type": "histogram2d"
           }
          ],
          "histogram2dcontour": [
           {
            "colorbar": {
             "outlinewidth": 0,
             "ticks": ""
            },
            "colorscale": [
             [
              0,
              "#0d0887"
             ],
             [
              0.1111111111111111,
              "#46039f"
             ],
             [
              0.2222222222222222,
              "#7201a8"
             ],
             [
              0.3333333333333333,
              "#9c179e"
             ],
             [
              0.4444444444444444,
              "#bd3786"
             ],
             [
              0.5555555555555556,
              "#d8576b"
             ],
             [
              0.6666666666666666,
              "#ed7953"
             ],
             [
              0.7777777777777778,
              "#fb9f3a"
             ],
             [
              0.8888888888888888,
              "#fdca26"
             ],
             [
              1,
              "#f0f921"
             ]
            ],
            "type": "histogram2dcontour"
           }
          ],
          "mesh3d": [
           {
            "colorbar": {
             "outlinewidth": 0,
             "ticks": ""
            },
            "type": "mesh3d"
           }
          ],
          "parcoords": [
           {
            "line": {
             "colorbar": {
              "outlinewidth": 0,
              "ticks": ""
             }
            },
            "type": "parcoords"
           }
          ],
          "pie": [
           {
            "automargin": true,
            "type": "pie"
           }
          ],
          "scatter": [
           {
            "marker": {
             "colorbar": {
              "outlinewidth": 0,
              "ticks": ""
             }
            },
            "type": "scatter"
           }
          ],
          "scatter3d": [
           {
            "line": {
             "colorbar": {
              "outlinewidth": 0,
              "ticks": ""
             }
            },
            "marker": {
             "colorbar": {
              "outlinewidth": 0,
              "ticks": ""
             }
            },
            "type": "scatter3d"
           }
          ],
          "scattercarpet": [
           {
            "marker": {
             "colorbar": {
              "outlinewidth": 0,
              "ticks": ""
             }
            },
            "type": "scattercarpet"
           }
          ],
          "scattergeo": [
           {
            "marker": {
             "colorbar": {
              "outlinewidth": 0,
              "ticks": ""
             }
            },
            "type": "scattergeo"
           }
          ],
          "scattergl": [
           {
            "marker": {
             "colorbar": {
              "outlinewidth": 0,
              "ticks": ""
             }
            },
            "type": "scattergl"
           }
          ],
          "scattermapbox": [
           {
            "marker": {
             "colorbar": {
              "outlinewidth": 0,
              "ticks": ""
             }
            },
            "type": "scattermapbox"
           }
          ],
          "scatterpolar": [
           {
            "marker": {
             "colorbar": {
              "outlinewidth": 0,
              "ticks": ""
             }
            },
            "type": "scatterpolar"
           }
          ],
          "scatterpolargl": [
           {
            "marker": {
             "colorbar": {
              "outlinewidth": 0,
              "ticks": ""
             }
            },
            "type": "scatterpolargl"
           }
          ],
          "scatterternary": [
           {
            "marker": {
             "colorbar": {
              "outlinewidth": 0,
              "ticks": ""
             }
            },
            "type": "scatterternary"
           }
          ],
          "surface": [
           {
            "colorbar": {
             "outlinewidth": 0,
             "ticks": ""
            },
            "colorscale": [
             [
              0,
              "#0d0887"
             ],
             [
              0.1111111111111111,
              "#46039f"
             ],
             [
              0.2222222222222222,
              "#7201a8"
             ],
             [
              0.3333333333333333,
              "#9c179e"
             ],
             [
              0.4444444444444444,
              "#bd3786"
             ],
             [
              0.5555555555555556,
              "#d8576b"
             ],
             [
              0.6666666666666666,
              "#ed7953"
             ],
             [
              0.7777777777777778,
              "#fb9f3a"
             ],
             [
              0.8888888888888888,
              "#fdca26"
             ],
             [
              1,
              "#f0f921"
             ]
            ],
            "type": "surface"
           }
          ],
          "table": [
           {
            "cells": {
             "fill": {
              "color": "#EBF0F8"
             },
             "line": {
              "color": "white"
             }
            },
            "header": {
             "fill": {
              "color": "#C8D4E3"
             },
             "line": {
              "color": "white"
             }
            },
            "type": "table"
           }
          ]
         },
         "layout": {
          "annotationdefaults": {
           "arrowcolor": "#2a3f5f",
           "arrowhead": 0,
           "arrowwidth": 1
          },
          "coloraxis": {
           "colorbar": {
            "outlinewidth": 0,
            "ticks": ""
           }
          },
          "colorscale": {
           "diverging": [
            [
             0,
             "#8e0152"
            ],
            [
             0.1,
             "#c51b7d"
            ],
            [
             0.2,
             "#de77ae"
            ],
            [
             0.3,
             "#f1b6da"
            ],
            [
             0.4,
             "#fde0ef"
            ],
            [
             0.5,
             "#f7f7f7"
            ],
            [
             0.6,
             "#e6f5d0"
            ],
            [
             0.7,
             "#b8e186"
            ],
            [
             0.8,
             "#7fbc41"
            ],
            [
             0.9,
             "#4d9221"
            ],
            [
             1,
             "#276419"
            ]
           ],
           "sequential": [
            [
             0,
             "#0d0887"
            ],
            [
             0.1111111111111111,
             "#46039f"
            ],
            [
             0.2222222222222222,
             "#7201a8"
            ],
            [
             0.3333333333333333,
             "#9c179e"
            ],
            [
             0.4444444444444444,
             "#bd3786"
            ],
            [
             0.5555555555555556,
             "#d8576b"
            ],
            [
             0.6666666666666666,
             "#ed7953"
            ],
            [
             0.7777777777777778,
             "#fb9f3a"
            ],
            [
             0.8888888888888888,
             "#fdca26"
            ],
            [
             1,
             "#f0f921"
            ]
           ],
           "sequentialminus": [
            [
             0,
             "#0d0887"
            ],
            [
             0.1111111111111111,
             "#46039f"
            ],
            [
             0.2222222222222222,
             "#7201a8"
            ],
            [
             0.3333333333333333,
             "#9c179e"
            ],
            [
             0.4444444444444444,
             "#bd3786"
            ],
            [
             0.5555555555555556,
             "#d8576b"
            ],
            [
             0.6666666666666666,
             "#ed7953"
            ],
            [
             0.7777777777777778,
             "#fb9f3a"
            ],
            [
             0.8888888888888888,
             "#fdca26"
            ],
            [
             1,
             "#f0f921"
            ]
           ]
          },
          "colorway": [
           "#636efa",
           "#EF553B",
           "#00cc96",
           "#ab63fa",
           "#FFA15A",
           "#19d3f3",
           "#FF6692",
           "#B6E880",
           "#FF97FF",
           "#FECB52"
          ],
          "font": {
           "color": "#2a3f5f"
          },
          "geo": {
           "bgcolor": "white",
           "lakecolor": "white",
           "landcolor": "#E5ECF6",
           "showlakes": true,
           "showland": true,
           "subunitcolor": "white"
          },
          "hoverlabel": {
           "align": "left"
          },
          "hovermode": "closest",
          "mapbox": {
           "style": "light"
          },
          "paper_bgcolor": "white",
          "plot_bgcolor": "#E5ECF6",
          "polar": {
           "angularaxis": {
            "gridcolor": "white",
            "linecolor": "white",
            "ticks": ""
           },
           "bgcolor": "#E5ECF6",
           "radialaxis": {
            "gridcolor": "white",
            "linecolor": "white",
            "ticks": ""
           }
          },
          "scene": {
           "xaxis": {
            "backgroundcolor": "#E5ECF6",
            "gridcolor": "white",
            "gridwidth": 2,
            "linecolor": "white",
            "showbackground": true,
            "ticks": "",
            "zerolinecolor": "white"
           },
           "yaxis": {
            "backgroundcolor": "#E5ECF6",
            "gridcolor": "white",
            "gridwidth": 2,
            "linecolor": "white",
            "showbackground": true,
            "ticks": "",
            "zerolinecolor": "white"
           },
           "zaxis": {
            "backgroundcolor": "#E5ECF6",
            "gridcolor": "white",
            "gridwidth": 2,
            "linecolor": "white",
            "showbackground": true,
            "ticks": "",
            "zerolinecolor": "white"
           }
          },
          "shapedefaults": {
           "line": {
            "color": "#2a3f5f"
           }
          },
          "ternary": {
           "aaxis": {
            "gridcolor": "white",
            "linecolor": "white",
            "ticks": ""
           },
           "baxis": {
            "gridcolor": "white",
            "linecolor": "white",
            "ticks": ""
           },
           "bgcolor": "#E5ECF6",
           "caxis": {
            "gridcolor": "white",
            "linecolor": "white",
            "ticks": ""
           }
          },
          "title": {
           "x": 0.05
          },
          "xaxis": {
           "automargin": true,
           "gridcolor": "white",
           "linecolor": "white",
           "ticks": "",
           "title": {
            "standoff": 15
           },
           "zerolinecolor": "white",
           "zerolinewidth": 2
          },
          "yaxis": {
           "automargin": true,
           "gridcolor": "white",
           "linecolor": "white",
           "ticks": "",
           "title": {
            "standoff": 15
           },
           "zerolinecolor": "white",
           "zerolinewidth": 2
          }
         }
        },
        "title": {
         "text": "Final frontiers of firing error"
        },
        "width": 900,
        "xaxis": {
         "anchor": "y",
         "domain": [
          0,
          0.2888888888888889
         ]
        },
        "xaxis2": {
         "anchor": "y2",
         "domain": [
          0.35555555555555557,
          0.6444444444444445
         ]
        },
        "xaxis3": {
         "anchor": "y3",
         "domain": [
          0.7111111111111111,
          1
         ]
        },
        "xaxis4": {
         "anchor": "y4",
         "domain": [
          0,
          0.2888888888888889
         ]
        },
        "xaxis5": {
         "anchor": "y5",
         "domain": [
          0.35555555555555557,
          0.6444444444444445
         ]
        },
        "xaxis6": {
         "anchor": "y6",
         "domain": [
          0.7111111111111111,
          1
         ]
        },
        "xaxis7": {
         "anchor": "y7",
         "domain": [
          0,
          0.2888888888888889
         ]
        },
        "xaxis8": {
         "anchor": "y8",
         "domain": [
          0.35555555555555557,
          0.6444444444444445
         ]
        },
        "xaxis9": {
         "anchor": "y9",
         "domain": [
          0.7111111111111111,
          1
         ]
        },
        "yaxis": {
         "anchor": "x",
         "domain": [
          0.7777777777777778,
          1
         ]
        },
        "yaxis2": {
         "anchor": "x2",
         "domain": [
          0.7777777777777778,
          1
         ]
        },
        "yaxis3": {
         "anchor": "x3",
         "domain": [
          0.7777777777777778,
          1
         ]
        },
        "yaxis4": {
         "anchor": "x4",
         "domain": [
          0.3888888888888889,
          0.6111111111111112
         ]
        },
        "yaxis5": {
         "anchor": "x5",
         "domain": [
          0.3888888888888889,
          0.6111111111111112
         ]
        },
        "yaxis6": {
         "anchor": "x6",
         "domain": [
          0.3888888888888889,
          0.6111111111111112
         ]
        },
        "yaxis7": {
         "anchor": "x7",
         "domain": [
          0,
          0.22222222222222224
         ]
        },
        "yaxis8": {
         "anchor": "x8",
         "domain": [
          0,
          0.22222222222222224
         ]
        },
        "yaxis9": {
         "anchor": "x9",
         "domain": [
          0,
          0.22222222222222224
         ]
        }
       }
      },
      "text/html": [
       "<div>                            <div id=\"6fb9c0f1-1812-4d0e-9ec6-053a08f8e2a5\" class=\"plotly-graph-div\" style=\"height:900px; width:900px;\"></div>            <script type=\"text/javascript\">                require([\"plotly\"], function(Plotly) {                    window.PLOTLYENV=window.PLOTLYENV || {};                                    if (document.getElementById(\"6fb9c0f1-1812-4d0e-9ec6-053a08f8e2a5\")) {                    Plotly.newPlot(                        \"6fb9c0f1-1812-4d0e-9ec6-053a08f8e2a5\",                        [{\"marker\": {\"color\": \"black\"}, \"mode\": \"markers\", \"name\": \"excitatory connections\", \"type\": \"scatter\", \"x\": [0.4474999999999998, 0.018750000000000044, 0.3624999999999998, 0.82375, 0.8087499999999999, 0.09624999999999996, 0.3687499999999999, 0.5074999999999998, 0.25749999999999984, 0.1974999999999998, 0.006250000000000089, 0.0037499999999999205, 0.24750000000000005, 0.0, 0.0012499999999999734], \"xaxis\": \"x\", \"y\": [1.3462499999999995, 2.62625, 1.97875, 0.2837499999999995, 0.6024999999999991, 2.32625, 1.6974999999999998, 0.6762499999999996, 2.1587500000000004, 2.3237500000000004, 2.95875, 3.31625, 2.175, 3.77875, 3.4525], \"yaxis\": \"y\"}, {\"marker\": {\"color\": \"black\"}, \"mode\": \"markers\", \"name\": \"excitatory connections\", \"type\": \"scatter\", \"x\": [1.60625, 1.01125, 0.8975, 1.01375, 0.10499999999999997, 0.18375000000000008, 1.1425, 1.07875, 0.8425, 0.6275, 1.3775, 1.49625, 1.27625, 0.6637500000000001, 1.23375, 0.39375, 1.56625, 0.1412500000000001, 0.4862500000000001, 1.2275, 1.3575, 1.51375, 0.5625, 0.74, 1.595, 0.12250000000000005, 0.7862499999999999, 0.5700000000000001, 1.37625, 0.42875, 0.75125, 0.77, 0.4199999999999999, 1.50875, 0.4412499999999999, 1.57625, 1.37125, 0.46875, 1.2925, 0.10624999999999996, 1.415, 0.0012499999999999734, 0.2675000000000001, 1.26875, 1.19875], \"xaxis\": \"x2\", \"y\": [1.38, 2.965, 3.01875, 2.725, 4.12375, 3.8525, 2.61125, 2.635, 3.1012500000000003, 3.35875, 2.06375, 1.78375, 2.3600000000000003, 3.29375, 2.53625, 3.665, 1.57625, 3.975, 3.50875, 2.55125, 2.2925000000000004, 1.69375, 3.44625, 3.2662500000000003, 1.51125, 4.0025, 3.1625, 3.4450000000000003, 2.2375, 3.595, 3.24, 3.17875, 3.65875, 1.6949999999999998, 3.5387500000000003, 1.5437500000000002, 2.25375, 3.5225, 2.3287500000000003, 4.03375, 1.90625, 4.22375, 3.72375, 2.5325, 2.58125], \"yaxis\": \"y2\"}, {\"marker\": {\"color\": \"black\"}, \"mode\": \"markers\", \"name\": \"excitatory connections\", \"type\": \"scatter\", \"x\": [], \"xaxis\": \"x3\", \"y\": [], \"yaxis\": \"y3\"}, {\"marker\": {\"color\": \"black\"}, \"mode\": \"markers\", \"name\": \"excitatory connections\", \"type\": \"scatter\", \"x\": [0.010000000000000007, 0.10499999999999997, 0.3450000000000002, 0.17499999999999982, 0.4624999999999999, 0.6349999999999998, 0.98375, 0.24250000000000016, 0.0037499999999999205, 0.6324999999999998, 0.09375, 0.10124999999999984, 0.76125, 0.07125000000000004, 0.015000000000000124], \"xaxis\": \"x4\", \"y\": [2.83625, 2.28125, 1.6024999999999991, 2.1100000000000003, 0.9275000000000002, 0.37374999999999936, 0.1349999999999998, 2.0525, 2.86125, 0.4674999999999994, 2.58125, 2.5112500000000004, 0.15000000000000036, 2.6775, 2.74125], \"yaxis\": \"y4\"}, {\"marker\": {\"color\": \"black\"}, \"mode\": \"markers\", \"name\": \"excitatory connections\", \"type\": \"scatter\", \"x\": [1.46, 1.39375, 1.48875, 0.5874999999999999, 0.16375000000000006, 1.36875, 0.2962499999999999, 1.485, 0.11375000000000003, 0.935, 1.44875, 0.13874999999999993, 0.66875, 0.2437499999999999, 0.0625, 1.29125, 0.665, 0.9025, 0.8087500000000001, 1.535, 1.43125, 1.0387499999999998, 0.4312499999999999, 1.51125, 1.185, 0.02875000000000005, 1.155, 0.9175, 0.40625, 0.47875, 0.4862500000000001, 0.4650000000000001, 0.3187500000000001, 0.5137499999999999, 0.31125, 0.3200000000000001, 1.1575, 0.2925, 1.6225, 1.435, 1.54125, 1.27875, 1.525, 0.15999999999999992, 0.84375, 0.59125], \"xaxis\": \"x5\", \"y\": [1.96875, 2.2525000000000004, 1.86125, 3.59375, 4.31, 2.27, 4.12625, 1.92125, 4.50875, 2.99625, 2.0737500000000004, 4.475, 3.3125, 4.18625, 4.57625, 2.32125, 3.42375, 3.17375, 3.25625, 1.7487499999999998, 2.115, 2.845, 3.79625, 1.85375, 2.5112500000000004, 4.69, 2.7175, 3.00125, 3.8625, 3.765, 3.685, 3.7875, 3.93125, 3.6025, 3.99125, 3.87125, 2.59375, 4.15, 1.62875, 2.08875, 1.6437499999999998, 2.5075000000000003, 1.7937500000000002, 4.42375, 3.185, 3.4925], \"yaxis\": \"y5\"}, {\"marker\": {\"color\": \"black\"}, \"mode\": \"markers\", \"name\": \"excitatory connections\", \"type\": \"scatter\", \"x\": [], \"xaxis\": \"x6\", \"y\": [], \"yaxis\": \"y6\"}, {\"marker\": {\"color\": \"black\"}, \"mode\": \"markers\", \"name\": \"excitatory connections\", \"type\": \"scatter\", \"x\": [0.009999999999999787, 0.935, 0.3312499999999998, 0.5237500000000002, 0.5012500000000002, 0.11125000000000007, 0.25, 0.036249999999999886, 0.0012500000000001956, 0.7799999999999998, 0.08000000000000007, 0.3325, 0.17249999999999988, 0.07249999999999979, 0.94875, 0.16000000000000014, 0.02249999999999996, 0.6175000000000002, 0.09750000000000014, 0.20624999999999985], \"xaxis\": \"x7\", \"y\": [2.6075, 0.04749999999999943, 1.6537500000000005, 1.0237499999999995, 1.1525, 2.31375, 1.8450000000000009, 2.50625, 2.84375, 0.20374999999999946, 2.46875, 1.50375, 2.14375, 2.4850000000000003, 0.006249999999999646, 2.2437500000000004, 2.54125, 0.2712500000000002, 2.43, 2.0475000000000003], \"yaxis\": \"y7\"}, {\"marker\": {\"color\": \"black\"}, \"mode\": \"markers\", \"name\": \"excitatory connections\", \"type\": \"scatter\", \"x\": [1.4675, 1.43875, 0.65625, 1.1637499999999998, 1.185, 1.3362500000000002, 1.0, 1.20375, 1.11875, 0.6087499999999999, 1.17625, 1.05875, 1.09125, 0.1825000000000001, 0.09375, 0.8812500000000001, 1.37875, 1.0074999999999998, 0.99875, 1.1949999999999998, 0.9325, 1.42125, 0.21124999999999994, 0.4450000000000001, 1.47375, 0.69, 0.675, 1.3, 0.73125, 0.77125, 0.6499999999999999, 0.41625, 0.010000000000000007, 0.2649999999999999, 1.1125, 0.1087499999999999, 0.0, 1.515, 0.5462499999999999, 0.46125, 0.4950000000000001], \"xaxis\": \"x8\", \"y\": [2.1012500000000003, 2.1050000000000004, 3.50375, 2.75375, 2.64625, 2.2425, 2.9850000000000003, 2.4725, 2.79375, 3.5250000000000004, 2.6987500000000004, 2.865, 2.8525, 4.17375, 4.47375, 3.1325000000000003, 2.15375, 2.9675, 3.06125, 2.6275000000000004, 3.08625, 2.13375, 4.16875, 3.76125, 1.93, 3.3575, 3.435, 2.415, 3.2875, 3.23625, 3.52125, 3.94125, 4.76875, 3.9525, 2.8275, 4.3825, 4.99375, 1.84, 3.5875000000000004, 3.7075, 3.6525], \"yaxis\": \"y8\"}, {\"marker\": {\"color\": \"black\"}, \"mode\": \"markers\", \"name\": \"excitatory connections\", \"type\": \"scatter\", \"x\": [], \"xaxis\": \"x9\", \"y\": [], \"yaxis\": \"y9\"}],                        {\"annotations\": [{\"font\": {\"size\": 16}, \"showarrow\": false, \"text\": \"f: 1, exc: 10, inh: 2\", \"x\": 0.14444444444444446, \"xanchor\": \"center\", \"xref\": \"paper\", \"y\": 1.0, \"yanchor\": \"bottom\", \"yref\": \"paper\"}, {\"font\": {\"size\": 16}, \"showarrow\": false, \"text\": \"f: 1, exc: 2, inh: 2\", \"x\": 0.5, \"xanchor\": \"center\", \"xref\": \"paper\", \"y\": 1.0, \"yanchor\": \"bottom\", \"yref\": \"paper\"}, {\"font\": {\"size\": 16}, \"showarrow\": false, \"text\": \"f: 1, exc: 2, inh: 10\", \"x\": 0.8555555555555556, \"xanchor\": \"center\", \"xref\": \"paper\", \"y\": 1.0, \"yanchor\": \"bottom\", \"yref\": \"paper\"}, {\"font\": {\"size\": 16}, \"showarrow\": false, \"text\": \"f: 0.5, exc: 10, inh: 2\", \"x\": 0.14444444444444446, \"xanchor\": \"center\", \"xref\": \"paper\", \"y\": 0.6111111111111112, \"yanchor\": \"bottom\", \"yref\": \"paper\"}, {\"font\": {\"size\": 16}, \"showarrow\": false, \"text\": \"f: 0.5, exc: 2, inh: 2\", \"x\": 0.5, \"xanchor\": \"center\", \"xref\": \"paper\", \"y\": 0.6111111111111112, \"yanchor\": \"bottom\", \"yref\": \"paper\"}, {\"font\": {\"size\": 16}, \"showarrow\": false, \"text\": \"f: 0.5, exc: 2, inh: 10\", \"x\": 0.8555555555555556, \"xanchor\": \"center\", \"xref\": \"paper\", \"y\": 0.6111111111111112, \"yanchor\": \"bottom\", \"yref\": \"paper\"}, {\"font\": {\"size\": 16}, \"showarrow\": false, \"text\": \"f: 0.2, exc: 10, inh: 2\", \"x\": 0.14444444444444446, \"xanchor\": \"center\", \"xref\": \"paper\", \"y\": 0.22222222222222224, \"yanchor\": \"bottom\", \"yref\": \"paper\"}, {\"font\": {\"size\": 16}, \"showarrow\": false, \"text\": \"f: 0.2, exc: 2, inh: 2\", \"x\": 0.5, \"xanchor\": \"center\", \"xref\": \"paper\", \"y\": 0.22222222222222224, \"yanchor\": \"bottom\", \"yref\": \"paper\"}, {\"font\": {\"size\": 16}, \"showarrow\": false, \"text\": \"f: 0.2, exc: 2, inh: 10\", \"x\": 0.8555555555555556, \"xanchor\": \"center\", \"xref\": \"paper\", \"y\": 0.22222222222222224, \"yanchor\": \"bottom\", \"yref\": \"paper\"}, {\"font\": {\"size\": 16}, \"showarrow\": false, \"text\": \"Excitatory neural firing rate error (Hz)\", \"x\": 0.5, \"xanchor\": \"center\", \"xref\": \"paper\", \"y\": 0, \"yanchor\": \"top\", \"yref\": \"paper\", \"yshift\": -30}, {\"font\": {\"size\": 16}, \"showarrow\": false, \"text\": \"Inhibitory neural firing rate error (Hz)\", \"textangle\": -90, \"x\": 0, \"xanchor\": \"right\", \"xref\": \"paper\", \"xshift\": -40, \"y\": 0.5, \"yanchor\": \"middle\", \"yref\": \"paper\"}], \"height\": 900, \"template\": {\"data\": {\"bar\": [{\"error_x\": {\"color\": \"#2a3f5f\"}, \"error_y\": {\"color\": \"#2a3f5f\"}, \"marker\": {\"line\": {\"color\": \"#E5ECF6\", \"width\": 0.5}}, \"type\": \"bar\"}], \"barpolar\": [{\"marker\": {\"line\": {\"color\": \"#E5ECF6\", \"width\": 0.5}}, \"type\": \"barpolar\"}], \"carpet\": [{\"aaxis\": {\"endlinecolor\": \"#2a3f5f\", \"gridcolor\": \"white\", \"linecolor\": \"white\", \"minorgridcolor\": \"white\", \"startlinecolor\": \"#2a3f5f\"}, \"baxis\": {\"endlinecolor\": \"#2a3f5f\", \"gridcolor\": \"white\", \"linecolor\": \"white\", \"minorgridcolor\": \"white\", \"startlinecolor\": \"#2a3f5f\"}, \"type\": \"carpet\"}], \"choropleth\": [{\"colorbar\": {\"outlinewidth\": 0, \"ticks\": \"\"}, \"type\": \"choropleth\"}], \"contour\": [{\"colorbar\": {\"outlinewidth\": 0, \"ticks\": \"\"}, \"colorscale\": [[0.0, \"#0d0887\"], [0.1111111111111111, \"#46039f\"], [0.2222222222222222, \"#7201a8\"], [0.3333333333333333, \"#9c179e\"], [0.4444444444444444, \"#bd3786\"], [0.5555555555555556, \"#d8576b\"], [0.6666666666666666, \"#ed7953\"], [0.7777777777777778, \"#fb9f3a\"], [0.8888888888888888, \"#fdca26\"], [1.0, \"#f0f921\"]], \"type\": \"contour\"}], \"contourcarpet\": [{\"colorbar\": {\"outlinewidth\": 0, \"ticks\": \"\"}, \"type\": \"contourcarpet\"}], \"heatmap\": [{\"colorbar\": {\"outlinewidth\": 0, \"ticks\": \"\"}, \"colorscale\": [[0.0, \"#0d0887\"], [0.1111111111111111, \"#46039f\"], [0.2222222222222222, \"#7201a8\"], [0.3333333333333333, \"#9c179e\"], [0.4444444444444444, \"#bd3786\"], [0.5555555555555556, \"#d8576b\"], [0.6666666666666666, \"#ed7953\"], [0.7777777777777778, \"#fb9f3a\"], [0.8888888888888888, \"#fdca26\"], [1.0, \"#f0f921\"]], \"type\": \"heatmap\"}], \"heatmapgl\": [{\"colorbar\": {\"outlinewidth\": 0, \"ticks\": \"\"}, \"colorscale\": [[0.0, \"#0d0887\"], [0.1111111111111111, \"#46039f\"], [0.2222222222222222, \"#7201a8\"], [0.3333333333333333, \"#9c179e\"], [0.4444444444444444, \"#bd3786\"], [0.5555555555555556, \"#d8576b\"], [0.6666666666666666, \"#ed7953\"], [0.7777777777777778, \"#fb9f3a\"], [0.8888888888888888, \"#fdca26\"], [1.0, \"#f0f921\"]], \"type\": \"heatmapgl\"}], \"histogram\": [{\"marker\": {\"colorbar\": {\"outlinewidth\": 0, \"ticks\": \"\"}}, \"type\": \"histogram\"}], \"histogram2d\": [{\"colorbar\": {\"outlinewidth\": 0, \"ticks\": \"\"}, \"colorscale\": [[0.0, \"#0d0887\"], [0.1111111111111111, \"#46039f\"], [0.2222222222222222, \"#7201a8\"], [0.3333333333333333, \"#9c179e\"], [0.4444444444444444, \"#bd3786\"], [0.5555555555555556, \"#d8576b\"], [0.6666666666666666, \"#ed7953\"], [0.7777777777777778, \"#fb9f3a\"], [0.8888888888888888, \"#fdca26\"], [1.0, \"#f0f921\"]], \"type\": \"histogram2d\"}], \"histogram2dcontour\": [{\"colorbar\": {\"outlinewidth\": 0, \"ticks\": \"\"}, \"colorscale\": [[0.0, \"#0d0887\"], [0.1111111111111111, \"#46039f\"], [0.2222222222222222, \"#7201a8\"], [0.3333333333333333, \"#9c179e\"], [0.4444444444444444, \"#bd3786\"], [0.5555555555555556, \"#d8576b\"], [0.6666666666666666, \"#ed7953\"], [0.7777777777777778, \"#fb9f3a\"], [0.8888888888888888, \"#fdca26\"], [1.0, \"#f0f921\"]], \"type\": \"histogram2dcontour\"}], \"mesh3d\": [{\"colorbar\": {\"outlinewidth\": 0, \"ticks\": \"\"}, \"type\": \"mesh3d\"}], \"parcoords\": [{\"line\": {\"colorbar\": {\"outlinewidth\": 0, \"ticks\": \"\"}}, \"type\": \"parcoords\"}], \"pie\": [{\"automargin\": true, \"type\": \"pie\"}], \"scatter\": [{\"marker\": {\"colorbar\": {\"outlinewidth\": 0, \"ticks\": \"\"}}, \"type\": \"scatter\"}], \"scatter3d\": [{\"line\": {\"colorbar\": {\"outlinewidth\": 0, \"ticks\": \"\"}}, \"marker\": {\"colorbar\": {\"outlinewidth\": 0, \"ticks\": \"\"}}, \"type\": \"scatter3d\"}], \"scattercarpet\": [{\"marker\": {\"colorbar\": {\"outlinewidth\": 0, \"ticks\": \"\"}}, \"type\": \"scattercarpet\"}], \"scattergeo\": [{\"marker\": {\"colorbar\": {\"outlinewidth\": 0, \"ticks\": \"\"}}, \"type\": \"scattergeo\"}], \"scattergl\": [{\"marker\": {\"colorbar\": {\"outlinewidth\": 0, \"ticks\": \"\"}}, \"type\": \"scattergl\"}], \"scattermapbox\": [{\"marker\": {\"colorbar\": {\"outlinewidth\": 0, \"ticks\": \"\"}}, \"type\": \"scattermapbox\"}], \"scatterpolar\": [{\"marker\": {\"colorbar\": {\"outlinewidth\": 0, \"ticks\": \"\"}}, \"type\": \"scatterpolar\"}], \"scatterpolargl\": [{\"marker\": {\"colorbar\": {\"outlinewidth\": 0, \"ticks\": \"\"}}, \"type\": \"scatterpolargl\"}], \"scatterternary\": [{\"marker\": {\"colorbar\": {\"outlinewidth\": 0, \"ticks\": \"\"}}, \"type\": \"scatterternary\"}], \"surface\": [{\"colorbar\": {\"outlinewidth\": 0, \"ticks\": \"\"}, \"colorscale\": [[0.0, \"#0d0887\"], [0.1111111111111111, \"#46039f\"], [0.2222222222222222, \"#7201a8\"], [0.3333333333333333, \"#9c179e\"], [0.4444444444444444, \"#bd3786\"], [0.5555555555555556, \"#d8576b\"], [0.6666666666666666, \"#ed7953\"], [0.7777777777777778, \"#fb9f3a\"], [0.8888888888888888, \"#fdca26\"], [1.0, \"#f0f921\"]], \"type\": \"surface\"}], \"table\": [{\"cells\": {\"fill\": {\"color\": \"#EBF0F8\"}, \"line\": {\"color\": \"white\"}}, \"header\": {\"fill\": {\"color\": \"#C8D4E3\"}, \"line\": {\"color\": \"white\"}}, \"type\": \"table\"}]}, \"layout\": {\"annotationdefaults\": {\"arrowcolor\": \"#2a3f5f\", \"arrowhead\": 0, \"arrowwidth\": 1}, \"coloraxis\": {\"colorbar\": {\"outlinewidth\": 0, \"ticks\": \"\"}}, \"colorscale\": {\"diverging\": [[0, \"#8e0152\"], [0.1, \"#c51b7d\"], [0.2, \"#de77ae\"], [0.3, \"#f1b6da\"], [0.4, \"#fde0ef\"], [0.5, \"#f7f7f7\"], [0.6, \"#e6f5d0\"], [0.7, \"#b8e186\"], [0.8, \"#7fbc41\"], [0.9, \"#4d9221\"], [1, \"#276419\"]], \"sequential\": [[0.0, \"#0d0887\"], [0.1111111111111111, \"#46039f\"], [0.2222222222222222, \"#7201a8\"], [0.3333333333333333, \"#9c179e\"], [0.4444444444444444, \"#bd3786\"], [0.5555555555555556, \"#d8576b\"], [0.6666666666666666, \"#ed7953\"], [0.7777777777777778, \"#fb9f3a\"], [0.8888888888888888, \"#fdca26\"], [1.0, \"#f0f921\"]], \"sequentialminus\": [[0.0, \"#0d0887\"], [0.1111111111111111, \"#46039f\"], [0.2222222222222222, \"#7201a8\"], [0.3333333333333333, \"#9c179e\"], [0.4444444444444444, \"#bd3786\"], [0.5555555555555556, \"#d8576b\"], [0.6666666666666666, \"#ed7953\"], [0.7777777777777778, \"#fb9f3a\"], [0.8888888888888888, \"#fdca26\"], [1.0, \"#f0f921\"]]}, \"colorway\": [\"#636efa\", \"#EF553B\", \"#00cc96\", \"#ab63fa\", \"#FFA15A\", \"#19d3f3\", \"#FF6692\", \"#B6E880\", \"#FF97FF\", \"#FECB52\"], \"font\": {\"color\": \"#2a3f5f\"}, \"geo\": {\"bgcolor\": \"white\", \"lakecolor\": \"white\", \"landcolor\": \"#E5ECF6\", \"showlakes\": true, \"showland\": true, \"subunitcolor\": \"white\"}, \"hoverlabel\": {\"align\": \"left\"}, \"hovermode\": \"closest\", \"mapbox\": {\"style\": \"light\"}, \"paper_bgcolor\": \"white\", \"plot_bgcolor\": \"#E5ECF6\", \"polar\": {\"angularaxis\": {\"gridcolor\": \"white\", \"linecolor\": \"white\", \"ticks\": \"\"}, \"bgcolor\": \"#E5ECF6\", \"radialaxis\": {\"gridcolor\": \"white\", \"linecolor\": \"white\", \"ticks\": \"\"}}, \"scene\": {\"xaxis\": {\"backgroundcolor\": \"#E5ECF6\", \"gridcolor\": \"white\", \"gridwidth\": 2, \"linecolor\": \"white\", \"showbackground\": true, \"ticks\": \"\", \"zerolinecolor\": \"white\"}, \"yaxis\": {\"backgroundcolor\": \"#E5ECF6\", \"gridcolor\": \"white\", \"gridwidth\": 2, \"linecolor\": \"white\", \"showbackground\": true, \"ticks\": \"\", \"zerolinecolor\": \"white\"}, \"zaxis\": {\"backgroundcolor\": \"#E5ECF6\", \"gridcolor\": \"white\", \"gridwidth\": 2, \"linecolor\": \"white\", \"showbackground\": true, \"ticks\": \"\", \"zerolinecolor\": \"white\"}}, \"shapedefaults\": {\"line\": {\"color\": \"#2a3f5f\"}}, \"ternary\": {\"aaxis\": {\"gridcolor\": \"white\", \"linecolor\": \"white\", \"ticks\": \"\"}, \"baxis\": {\"gridcolor\": \"white\", \"linecolor\": \"white\", \"ticks\": \"\"}, \"bgcolor\": \"#E5ECF6\", \"caxis\": {\"gridcolor\": \"white\", \"linecolor\": \"white\", \"ticks\": \"\"}}, \"title\": {\"x\": 0.05}, \"xaxis\": {\"automargin\": true, \"gridcolor\": \"white\", \"linecolor\": \"white\", \"ticks\": \"\", \"title\": {\"standoff\": 15}, \"zerolinecolor\": \"white\", \"zerolinewidth\": 2}, \"yaxis\": {\"automargin\": true, \"gridcolor\": \"white\", \"linecolor\": \"white\", \"ticks\": \"\", \"title\": {\"standoff\": 15}, \"zerolinecolor\": \"white\", \"zerolinewidth\": 2}}}, \"title\": {\"text\": \"Final frontiers of firing error\"}, \"width\": 900, \"xaxis\": {\"anchor\": \"y\", \"domain\": [0.0, 0.2888888888888889]}, \"xaxis2\": {\"anchor\": \"y2\", \"domain\": [0.35555555555555557, 0.6444444444444445]}, \"xaxis3\": {\"anchor\": \"y3\", \"domain\": [0.7111111111111111, 1.0]}, \"xaxis4\": {\"anchor\": \"y4\", \"domain\": [0.0, 0.2888888888888889]}, \"xaxis5\": {\"anchor\": \"y5\", \"domain\": [0.35555555555555557, 0.6444444444444445]}, \"xaxis6\": {\"anchor\": \"y6\", \"domain\": [0.7111111111111111, 1.0]}, \"xaxis7\": {\"anchor\": \"y7\", \"domain\": [0.0, 0.2888888888888889]}, \"xaxis8\": {\"anchor\": \"y8\", \"domain\": [0.35555555555555557, 0.6444444444444445]}, \"xaxis9\": {\"anchor\": \"y9\", \"domain\": [0.7111111111111111, 1.0]}, \"yaxis\": {\"anchor\": \"x\", \"domain\": [0.7777777777777778, 1.0]}, \"yaxis2\": {\"anchor\": \"x2\", \"domain\": [0.7777777777777778, 1.0]}, \"yaxis3\": {\"anchor\": \"x3\", \"domain\": [0.7777777777777778, 1.0]}, \"yaxis4\": {\"anchor\": \"x4\", \"domain\": [0.3888888888888889, 0.6111111111111112]}, \"yaxis5\": {\"anchor\": \"x5\", \"domain\": [0.3888888888888889, 0.6111111111111112]}, \"yaxis6\": {\"anchor\": \"x6\", \"domain\": [0.3888888888888889, 0.6111111111111112]}, \"yaxis7\": {\"anchor\": \"x7\", \"domain\": [0.0, 0.22222222222222224]}, \"yaxis8\": {\"anchor\": \"x8\", \"domain\": [0.0, 0.22222222222222224]}, \"yaxis9\": {\"anchor\": \"x9\", \"domain\": [0.0, 0.22222222222222224]}},                        {\"responsive\": true}                    ).then(function(){\n",
       "                            \n",
       "var gd = document.getElementById('6fb9c0f1-1812-4d0e-9ec6-053a08f8e2a5');\n",
       "var x = new MutationObserver(function (mutations, observer) {{\n",
       "        var display = window.getComputedStyle(gd).display;\n",
       "        if (!display || display === 'none') {{\n",
       "            console.log([gd, 'removed!']);\n",
       "            Plotly.purge(gd);\n",
       "            observer.disconnect();\n",
       "        }}\n",
       "}});\n",
       "\n",
       "// Listen for the removal of the full notebook cells\n",
       "var notebookContainer = gd.closest('#notebook-container');\n",
       "if (notebookContainer) {{\n",
       "    x.observe(notebookContainer, {childList: true});\n",
       "}}\n",
       "\n",
       "// Listen for the clearing of the current output cell\n",
       "var outputEl = gd.closest('.output');\n",
       "if (outputEl) {{\n",
       "    x.observe(outputEl, {childList: true});\n",
       "}}\n",
       "\n",
       "                        })                };                });            </script>        </div>"
      ]
     },
     "metadata": {},
     "output_type": "display_data"
    }
   ],
   "source": [
    "plot_3x3_grid('/Users/fitzgerald/thesis/src/results/constrained-firing/constraint')"
   ]
  },
  {
   "cell_type": "markdown",
   "metadata": {},
   "source": [
    "## Combined firing optimisation\n",
    "Attempted to reduce errors by minimising the sum of the errors\n",
    "$ r_3 = r_1 + r_2 $"
   ]
  },
  {
   "cell_type": "code",
   "execution_count": 12,
   "metadata": {},
   "outputs": [
    {
     "data": {
      "application/vnd.plotly.v1+json": {
       "config": {
        "plotlyServerURL": "https://plot.ly"
       },
       "data": [
        {
         "marker": {
          "color": "black"
         },
         "mode": "markers",
         "name": "excitatory connections",
         "type": "scatter",
         "x": [
          0.655,
          0.6612499999999999,
          0.48,
          0.7324999999999999,
          0.017500000000000068,
          0.4975000000000001,
          0.18500000000000005,
          1.17375,
          0.51125,
          0.0012500000000001956,
          0.03374999999999995,
          0.7775000000000001,
          0.008750000000000036
         ],
         "xaxis": "x",
         "y": [
          0.2450000000000001,
          0.17499999999999982,
          0.4437499999999997,
          0.13874999999999993,
          0.9524999999999996,
          0.4424999999999999,
          0.4512499999999999,
          0,
          0.2474999999999996,
          1.0700000000000005,
          0.7625000000000002,
          0.001249999999999751,
          1.0112500000000004
         ],
         "yaxis": "y"
        },
        {
         "marker": {
          "color": "black"
         },
         "mode": "markers",
         "name": "excitatory connections",
         "type": "scatter",
         "x": [
          0.3300000000000001,
          0.77875,
          0.003750000000000142,
          1.33,
          0.57375,
          0.77,
          1.0825,
          0.0012499999999999734,
          1.5275,
          0.92375,
          0.006250000000000089,
          0.76,
          1.215,
          0.47875,
          0.96625,
          1.48,
          0,
          1.06125,
          1.575,
          1.4725,
          0.99625,
          0.685,
          1.0625,
          1.32125,
          1.51875,
          1.115,
          0.57125,
          1.38125,
          1.15875,
          1.5175,
          0.8625,
          0.7224999999999999,
          0.5874999999999999,
          1.1637499999999998,
          1.29125,
          0.8125,
          0.7675000000000001,
          0.0037499999999999205,
          1.525,
          1.24625,
          1.455,
          0.1312500000000001,
          1.5925,
          0.4875,
          0.024999999999999908,
          1.1775,
          1.47,
          0.12749999999999995,
          0.4437500000000001,
          0.96375,
          1.30625,
          1.375,
          0.6212500000000001,
          1.145,
          1.16875,
          1.37375,
          0.7762500000000001
         ],
         "xaxis": "x2",
         "y": [
          3.5250000000000004,
          3.06625,
          4.14375,
          2.14625,
          3.335,
          3.1362500000000004,
          2.59375,
          4.17875,
          1.535,
          2.95875,
          3.8775,
          3.1775,
          2.38875,
          3.3825000000000003,
          2.785,
          1.7937500000000002,
          4.19375,
          2.69625,
          1.42125,
          1.825,
          2.70625,
          3.2212500000000004,
          2.6825,
          2.17875,
          1.6575000000000002,
          2.5825,
          3.3525,
          1.88125,
          2.53125,
          1.79,
          2.96,
          3.1900000000000004,
          3.3025,
          2.50625,
          2.3325,
          2.9725,
          3.1637500000000003,
          4.15875,
          1.645,
          2.3425,
          1.87625,
          3.535,
          1.4162499999999998,
          3.3625,
          3.85,
          2.46875,
          1.8725,
          3.77125,
          3.45875,
          2.92875,
          2.2375,
          2.0650000000000004,
          3.29125,
          2.56125,
          2.47875,
          2.13,
          3.1025
         ],
         "yaxis": "y2"
        },
        {
         "marker": {
          "color": "black"
         },
         "mode": "markers",
         "name": "excitatory connections",
         "type": "scatter",
         "x": [
          0.03375000000000039,
          4.64,
          2,
          2.1925,
          0.1037499999999998,
          0.2649999999999997,
          2.05875,
          1.04,
          1.7062499999999998,
          2.25375,
          0.05250000000000021,
          2.2825,
          0.44125000000000014,
          1.70375,
          1.2174999999999998,
          2.47625,
          2.53375,
          0.6412500000000003,
          0.9387499999999998,
          0.9887499999999996,
          1.2525,
          2.28375,
          0.7112499999999997,
          1.0074999999999998,
          0.625,
          2.685,
          2.5475,
          3.14625,
          4.3625,
          2.375,
          2.41,
          0.7537500000000001,
          4.59,
          0.8862500000000004,
          2.98125,
          1.395,
          2.47375,
          4.58125,
          3.9575,
          4.42625,
          4.0725,
          0.5575000000000001,
          2.39875,
          3.8175,
          2.7575,
          3.7175,
          3.2425,
          3.72875,
          3.6625,
          0.9087500000000004,
          2.77,
          3.2125,
          4.335,
          0.4737499999999999,
          0.5800000000000001,
          4.4875,
          3.88375,
          2.725,
          3.92625,
          4.09375,
          2.79875,
          4.3125,
          0.5612500000000002,
          2.85875,
          0.4537500000000003,
          4.14625,
          4.22125,
          2.69375,
          2.91625,
          3.94625,
          4.2825,
          3.6175,
          4.25375,
          3.60625,
          2.7825,
          2.88125,
          2.68875,
          4.16375,
          4.53625,
          4.50875,
          4.195,
          2.97875,
          4.36,
          4.19625,
          2.95375,
          0.5637499999999998,
          4.54875,
          4.305,
          4.58,
          4.35625,
          3.89875,
          1.60875,
          1.40125,
          3.295
         ],
         "xaxis": "x3",
         "y": [
          15.107500000000002,
          1.30875,
          8.7525,
          6.94,
          14.38,
          13.9125,
          7.0600000000000005,
          11.415,
          9.24625,
          6.60125,
          15.048749999999998,
          6.168749999999998,
          13.43875,
          9.51625,
          10.7475,
          5.19875,
          5.025,
          12.7325,
          12.0925,
          11.77125,
          10.695,
          5.94375,
          12.5225,
          11.665,
          12.9625,
          4.65125,
          4.66375,
          3.785,
          2.0025000000000004,
          5.78625,
          5.5775,
          12.37125,
          1.38,
          12.27625,
          3.82125,
          10.5725,
          5.52125,
          1.6,
          2.74875,
          1.81875,
          2.7075,
          13.28,
          5.6675,
          3.03125,
          4.41625,
          3.2025,
          3.6225,
          3.035,
          3.2875,
          12.2,
          4.27375,
          3.6475,
          2.18,
          13.3025,
          13.0825,
          1.815,
          2.96,
          4.4675,
          2.94625,
          2.64375,
          4.14,
          2.2625,
          13.155,
          4.13125,
          13.3125,
          2.60625,
          2.42375,
          4.55125,
          4.05,
          2.80875,
          2.33125,
          3.3625,
          2.3875,
          3.3975,
          4.23875,
          4.085,
          4.58125,
          2.55125,
          1.74625,
          1.775,
          2.54875,
          3.955,
          2.1675000000000004,
          2.43625,
          4.0025,
          13.1025,
          1.6949999999999998,
          2.32625,
          1.625,
          2.17625,
          2.95625,
          9.7525,
          9.8375,
          3.41
         ],
         "yaxis": "y3"
        },
        {
         "marker": {
          "color": "black"
         },
         "mode": "markers",
         "name": "excitatory connections",
         "type": "scatter",
         "x": [
          0.23875,
          0.4775,
          0.99125,
          0.2887500000000001,
          0.8300000000000001,
          0.56,
          0.35749999999999993,
          0.5974999999999999,
          0.92125,
          0.052499999999999984,
          0.3975,
          0.08624999999999994,
          0.8912500000000001,
          0.115,
          0,
          0.52,
          0.8162499999999999,
          0.24125,
          0.2337499999999999,
          0.6675,
          0.2437499999999999,
          0.10375,
          0.26875000000000004,
          0.14625,
          0.9675
         ],
         "xaxis": "x4",
         "y": [
          1.005,
          0.5475000000000003,
          0,
          0.8200000000000003,
          0.1224999999999996,
          0.4987500000000002,
          0.7787499999999996,
          0.3487499999999999,
          0.02625000000000011,
          1.4562499999999998,
          0.5487500000000001,
          1.4400000000000004,
          0.09750000000000014,
          1.1712499999999997,
          1.4574999999999996,
          0.5324999999999998,
          0.16875000000000018,
          0.8937499999999998,
          1.0237499999999995,
          0.21,
          0.8887499999999999,
          1.37125,
          0.8849999999999998,
          1.06625,
          0.012500000000000178
         ],
         "yaxis": "y4"
        },
        {
         "marker": {
          "color": "black"
         },
         "mode": "markers",
         "name": "excitatory connections",
         "type": "scatter",
         "x": [
          1.1800000000000002,
          1.32625,
          1.335,
          1.13625,
          1.035,
          0.5275000000000001,
          0.4750000000000001,
          1.1075,
          0.9775,
          1.405,
          0.9125,
          0.5674999999999999,
          0.7975000000000001,
          0.73125,
          0.6575,
          1.3175,
          1.02625,
          1.34625,
          0.5575000000000001,
          1.45125,
          0.3062499999999999,
          0.25249999999999995,
          1.10875,
          0.97875,
          1.2737500000000002,
          1.01,
          0.8087500000000001,
          0.59375,
          1.2574999999999998,
          0.675,
          1.49875,
          0.1825000000000001,
          0.3125,
          0.36375,
          0.635,
          0.2,
          1.42,
          0.30000000000000004,
          1.36375,
          1.265,
          0.98625,
          0.8187500000000001,
          0.43625,
          1.015,
          0.895,
          0.9925,
          0.3287500000000001,
          1.55,
          0.007499999999999841,
          0.5425,
          0.28,
          1.19875,
          0.06000000000000005,
          0.04875000000000007,
          0.0012499999999999734,
          0.8300000000000001,
          1.185
         ],
         "xaxis": "x5",
         "y": [
          2.6225,
          2.29125,
          2.24125,
          2.66,
          2.7925000000000004,
          3.58625,
          3.5962500000000004,
          2.71875,
          3.0225,
          2.08125,
          3.02625,
          3.54375,
          3.22,
          3.24625,
          3.3525,
          2.34375,
          2.90125,
          2.1625,
          3.545,
          1.83125,
          3.96625,
          4.03375,
          2.6950000000000003,
          2.9925,
          2.41,
          2.93875,
          3.2,
          3.4525,
          2.455,
          3.33,
          1.65875,
          4.16875,
          3.88,
          3.66625,
          3.44125,
          4.0675,
          2.02375,
          3.97125,
          2.14375,
          2.4525,
          2.9825,
          3.12375,
          3.605,
          2.9225000000000003,
          3.0962500000000004,
          2.9487500000000004,
          3.6775,
          1.6324999999999998,
          4.61125,
          3.5700000000000003,
          4.02125,
          2.53125,
          4.1725,
          4.51,
          4.90375,
          3.11375,
          2.54375
         ],
         "yaxis": "y5"
        },
        {
         "marker": {
          "color": "black"
         },
         "mode": "markers",
         "name": "excitatory connections",
         "type": "scatter",
         "x": [
          0.003750000000000142,
          4.5575,
          4.58375,
          1.875,
          1.705,
          2.00875,
          1.69375,
          0.9087500000000004,
          0.6224999999999996,
          0.7975000000000003,
          0.7087500000000002,
          1.80625,
          0.665,
          0.5674999999999999,
          2.375,
          2.21,
          0.07749999999999968,
          0.6150000000000002,
          2.32375,
          2.1525,
          0.3137499999999997,
          1.5,
          2.105,
          4.3825,
          0.9837499999999996,
          3.47875,
          0.3650000000000002,
          4.2775,
          2.29875,
          0.3487499999999999,
          0.06874999999999963,
          4.16875,
          3.66875,
          2.84125,
          1.34875,
          0.43625000000000025,
          4.475,
          0.02374999999999972,
          2.22,
          4.27375,
          2.96,
          1.185,
          1.31875,
          2.6025,
          0.585,
          0.12375000000000025,
          4.145,
          2.47125,
          3.3425,
          0.042500000000000426,
          1.07875,
          3.2475,
          3.05875,
          0.27749999999999986,
          3.92375,
          1.45375,
          2.8825,
          3.3975,
          1.3849999999999998,
          3.2037500000000003,
          2.95,
          3.82625,
          1.1675,
          2.80625,
          3.18875,
          0.20500000000000007,
          0.19625000000000006,
          1.24625,
          3.4525,
          1.55625,
          1.29875,
          1.1349999999999998,
          2.7425,
          1.20375,
          1.605,
          1.03125,
          3.13375,
          4.045,
          3.71125,
          2.02875,
          1.0750000000000002,
          2.6625,
          2.57625,
          2.6775,
          1.69125,
          0.5199999999999996,
          3.7725,
          2.71875,
          4.50875,
          2.6475,
          3.0825,
          4.00375,
          4.0125,
          2.49125,
          2.535,
          1.0675,
          4.0075,
          2.5325,
          0.30375,
          4.54625
         ],
         "xaxis": "x6",
         "y": [
          15.89125,
          1.6437499999999998,
          1.63625,
          8.1925,
          8.72375,
          7.61125,
          9.34375,
          11.85125,
          13.0325,
          11.9275,
          12.685,
          8.55625,
          12.70125,
          13.72875,
          6.195,
          7.055,
          15.19125,
          13.395,
          6.49,
          7.15,
          14.49875,
          9.8825,
          7.449999999999998,
          1.94625,
          11.61,
          3.44125,
          13.9,
          2.2825,
          6.6275,
          14.485,
          15.475,
          2.5562500000000004,
          3.4000000000000004,
          4.87,
          10.2175,
          13.77625,
          1.93625,
          15.73875,
          6.696249999999999,
          2.3550000000000004,
          4.53,
          10.84875,
          10.4525,
          5.66625,
          13.485,
          14.978750000000002,
          2.7025,
          6.09375,
          3.85,
          15.56375,
          11.21125,
          3.86125,
          4.38875,
          14.72,
          3.13,
          10.07875,
          4.74875,
          3.75125,
          10.10375,
          4.055,
          4.6625,
          3.1875,
          11.025,
          5.07625,
          4.14625,
          14.83875,
          14.975,
          10.65,
          3.6275,
          9.65125,
          10.5175,
          11.08125,
          5.12125,
          10.71125,
          9.6125,
          11.45125,
          4.29,
          2.73875,
          3.2662500000000003,
          7.52875,
          11.3275,
          5.51875,
          5.82375,
          5.35125,
          9.47,
          13.76625,
          3.25625,
          5.32,
          1.78375,
          5.5425,
          4.31125,
          3.1025,
          2.77125,
          5.96875,
          5.85125,
          11.44,
          2.9762500000000003,
          5.9325,
          14.7025,
          1.7400000000000002
         ],
         "yaxis": "y6"
        },
        {
         "marker": {
          "color": "black"
         },
         "mode": "markers",
         "name": "excitatory connections",
         "type": "scatter",
         "x": [
          0.9875,
          0.8062499999999999,
          0.7662500000000001,
          0.6325000000000001,
          0.965,
          0.3875,
          0.6200000000000001,
          0.3775,
          0.675,
          0.4850000000000001,
          0.12250000000000005,
          0.0012500000000001956,
          0.68875,
          0.93,
          0.35375,
          0.2649999999999999,
          0.3999999999999999,
          0.9475,
          0.8387500000000001,
          0.0037499999999999205,
          0.0625,
          0.030000000000000027,
          0.78125,
          1.0125,
          0.6412500000000001,
          0.13250000000000006,
          0.4762500000000001,
          0.22249999999999992,
          0,
          0.8574999999999999,
          0.64625,
          0.4737499999999999,
          0.09499999999999996,
          0.6475,
          0.325,
          0.9775,
          0.3787499999999999
         ],
         "xaxis": "x7",
         "y": [
          0.003750000000000142,
          0.21499999999999986,
          0.2737499999999997,
          0.4937500000000004,
          0.01625000000000032,
          0.7649999999999997,
          0.4987500000000002,
          0.8237500000000004,
          0.3387500000000001,
          0.5125000000000002,
          1.17875,
          1.8237500000000004,
          0.31125000000000025,
          0.07500000000000018,
          0.8337500000000002,
          0.8787500000000001,
          0.7287499999999998,
          0.02625000000000011,
          0.10500000000000044,
          1.6012500000000005,
          1.3624999999999998,
          1.5062499999999996,
          0.2474999999999996,
          0,
          0.4550000000000001,
          1.1487499999999995,
          0.5687499999999996,
          1.03125,
          1.83625,
          0.10125000000000027,
          0.4537500000000003,
          0.6675000000000004,
          1.2575000000000005,
          0.4024999999999999,
          0.86625,
          0.0049999999999998926,
          0.82125
         ],
         "yaxis": "y7"
        },
        {
         "marker": {
          "color": "black"
         },
         "mode": "markers",
         "name": "excitatory connections",
         "type": "scatter",
         "x": [
          1.505,
          1.44375,
          1.1324999999999998,
          0.3675,
          1.50875,
          0.7975000000000001,
          0.17874999999999994,
          1.40875,
          0.4137500000000001,
          0.88625,
          1.2325,
          0.34624999999999995,
          0.016250000000000098,
          1.41625,
          1.51875,
          1.35625,
          0.5787500000000001,
          1.13,
          1.53,
          0.8075000000000001,
          0.91125,
          0.21625000000000005,
          0.0012499999999999734,
          1.46875,
          0.87375,
          0.0024999999999999467,
          0.10749999999999993,
          1.51625,
          0.2975000000000001,
          0.018750000000000044,
          0.017500000000000068,
          0.7,
          0.006250000000000089,
          1.1075,
          0.26875000000000004,
          0.3612500000000001,
          1.30375,
          0.05125000000000002,
          1.3512499999999998,
          0.51,
          0.010000000000000007,
          1.51125,
          0.2762500000000001,
          1.09,
          0.24750000000000005,
          0.2875000000000001,
          0.07499999999999996,
          1.35375,
          1.1975,
          0.9925,
          1.4675,
          0.615,
          1.25125,
          0.5162500000000001,
          0.44625,
          0.5862499999999999,
          1.21625,
          0.3075000000000001,
          1.0550000000000002,
          0.7437499999999999,
          0.6074999999999999,
          0.003750000000000142,
          0.1612499999999999,
          0.6275,
          1.00625,
          0.4575,
          0.3025,
          0.42875,
          0.50125,
          0.7337499999999999,
          0.07250000000000001,
          1.435
         ],
         "xaxis": "x8",
         "y": [
          1.90625,
          2.02875,
          2.64,
          3.7575,
          1.87875,
          3.26,
          4.17625,
          2.11625,
          3.7375,
          3.0675,
          2.5075000000000003,
          3.88625,
          4.69625,
          2.06625,
          1.82,
          2.135,
          3.48875,
          2.7037500000000003,
          1.75625,
          3.1925,
          3.02875,
          4.1525,
          5.19625,
          1.9225,
          3.18375,
          4.92875,
          4.34,
          1.865,
          3.9675,
          4.52625,
          4.6675,
          3.34875,
          4.7525,
          2.7875,
          4.1025,
          3.87125,
          2.29375,
          4.51,
          2.25,
          3.5737500000000004,
          4.73375,
          1.86875,
          4.07875,
          2.8175,
          4.13125,
          4.00875,
          4.39125,
          2.2325,
          2.62625,
          2.955,
          1.96625,
          3.4487500000000004,
          2.40375,
          3.49,
          3.70625,
          3.4850000000000003,
          2.6,
          3.91875,
          2.81875,
          3.305,
          3.46625,
          4.77,
          4.27125,
          3.42875,
          2.9325,
          3.5875000000000004,
          3.96375,
          3.7175,
          3.5787500000000003,
          3.3425,
          4.4625,
          2.055
         ],
         "yaxis": "y8"
        },
        {
         "marker": {
          "color": "black"
         },
         "mode": "markers",
         "name": "excitatory connections",
         "type": "scatter",
         "x": [
          4.54875,
          0.0049999999999998926,
          0.07624999999999993,
          0.4325000000000001,
          0.006249999999999646,
          1.1575000000000002,
          0.43874999999999975,
          0.3962500000000002,
          0.8150000000000004,
          1.9575,
          1.125,
          1.7025,
          1.75,
          1.025,
          2.04,
          1.0499999999999998,
          0.5999999999999996,
          3.72875,
          0.2400000000000002,
          0.6325000000000003,
          0.9025,
          0.049999999999999815,
          1.50375,
          0.8700000000000001,
          0.7999999999999998,
          3.60375,
          0.5575000000000001,
          0.7137500000000001,
          2.09,
          2.36,
          1.25,
          2.275,
          0.9362500000000002,
          2.2625,
          2.1,
          1.3112499999999998,
          1.22375,
          0.16000000000000014,
          1.6549999999999998,
          1.3375,
          2.0775,
          1.9225,
          0.3449999999999997,
          3.2887500000000003,
          0.17250000000000032,
          2.9325,
          1.3624999999999998,
          3.40375,
          3.1275,
          1.67,
          4.35,
          3.07375,
          2.6775,
          1.40875,
          2.98125,
          3.8525,
          4.445,
          2.1825,
          2.8475,
          1.48625,
          2.575,
          4.43375,
          0.2625000000000002,
          2.65,
          2.53375,
          3.34625,
          2.43,
          1.9125,
          1.5525000000000002,
          1.86875,
          3.4762500000000003,
          2.62375,
          2.77125,
          3.8875,
          4.11375,
          1.815,
          3.98375,
          4.24375,
          4.48625,
          1.77875,
          4.17,
          2.8275,
          0.0625,
          4.03625,
          1.58,
          3.1775,
          3.5225,
          4.29,
          0.5887500000000001,
          2.48375,
          3.06375,
          2.3475,
          0.7324999999999999,
          4.32875,
          2.77375,
          2.48125,
          2.3525,
          2.47375,
          1.4674999999999998,
          4.10875
         ],
         "xaxis": "x9",
         "y": [
          1.78375,
          16.2775,
          15.1825,
          13.89375,
          15.64125,
          10.81125,
          13.57125,
          14.2475,
          12.26375,
          7.786250000000001,
          11.17,
          8.91,
          8.5225,
          11.59,
          7.7174999999999985,
          11.26,
          13.08625,
          3.27,
          14.63,
          12.9775,
          11.89375,
          15.63625,
          9.5025,
          12.075,
          12.55875,
          3.5475000000000003,
          13.47875,
          12.72,
          7.244999999999999,
          6.2875,
          10.495,
          6.6,
          11.68,
          6.901249999999999,
          6.91375,
          10.3425,
          10.67625,
          14.9175,
          9.20375,
          10.17375,
          7.2512500000000015,
          8.03,
          14.41375,
          4.0525,
          14.87,
          4.77,
          10.015,
          3.80125,
          4.31875,
          8.9725,
          2.20625,
          4.48125,
          5.31375,
          9.89375,
          4.66,
          3.24,
          1.96375,
          6.911250000000001,
          4.925,
          9.76,
          5.62,
          2.1525,
          14.41875,
          5.39,
          5.79125,
          3.83,
          6.071249999999999,
          8.12,
          9.3725,
          8.26625,
          3.67875,
          5.5825,
          5.235,
          3.11375,
          2.8475,
          8.31875,
          3.08125,
          2.52375,
          1.865,
          8.4625,
          2.7025,
          5.0125,
          15.6175,
          3.0075000000000003,
          9.285,
          4.20375,
          3.55375,
          2.39875,
          13.44625,
          5.845,
          4.61875,
          6.477499999999999,
          12.6325,
          2.3525,
          5.045,
          5.98375,
          6.43125,
          6.055,
          9.77875,
          2.9800000000000004
         ],
         "yaxis": "y9"
        }
       ],
       "layout": {
        "annotations": [
         {
          "font": {
           "size": 16
          },
          "showarrow": false,
          "text": "f: 1, exc: 5, inh: 2",
          "x": 0.14444444444444446,
          "xanchor": "center",
          "xref": "paper",
          "y": 1,
          "yanchor": "bottom",
          "yref": "paper"
         },
         {
          "font": {
           "size": 16
          },
          "showarrow": false,
          "text": "f: 1, exc: 2, inh: 2",
          "x": 0.5,
          "xanchor": "center",
          "xref": "paper",
          "y": 1,
          "yanchor": "bottom",
          "yref": "paper"
         },
         {
          "font": {
           "size": 16
          },
          "showarrow": false,
          "text": "f: 1, exc: 2, inh: 5",
          "x": 0.8555555555555556,
          "xanchor": "center",
          "xref": "paper",
          "y": 1,
          "yanchor": "bottom",
          "yref": "paper"
         },
         {
          "font": {
           "size": 16
          },
          "showarrow": false,
          "text": "f: 0.5, exc: 5, inh: 2",
          "x": 0.14444444444444446,
          "xanchor": "center",
          "xref": "paper",
          "y": 0.6111111111111112,
          "yanchor": "bottom",
          "yref": "paper"
         },
         {
          "font": {
           "size": 16
          },
          "showarrow": false,
          "text": "f: 0.5, exc: 2, inh: 2",
          "x": 0.5,
          "xanchor": "center",
          "xref": "paper",
          "y": 0.6111111111111112,
          "yanchor": "bottom",
          "yref": "paper"
         },
         {
          "font": {
           "size": 16
          },
          "showarrow": false,
          "text": "f: 0.5, exc: 2, inh: 5",
          "x": 0.8555555555555556,
          "xanchor": "center",
          "xref": "paper",
          "y": 0.6111111111111112,
          "yanchor": "bottom",
          "yref": "paper"
         },
         {
          "font": {
           "size": 16
          },
          "showarrow": false,
          "text": "f: 0.2, exc: 5, inh: 2",
          "x": 0.14444444444444446,
          "xanchor": "center",
          "xref": "paper",
          "y": 0.22222222222222224,
          "yanchor": "bottom",
          "yref": "paper"
         },
         {
          "font": {
           "size": 16
          },
          "showarrow": false,
          "text": "f: 0.2, exc: 2, inh: 2",
          "x": 0.5,
          "xanchor": "center",
          "xref": "paper",
          "y": 0.22222222222222224,
          "yanchor": "bottom",
          "yref": "paper"
         },
         {
          "font": {
           "size": 16
          },
          "showarrow": false,
          "text": "f: 0.2, exc: 2, inh: 5",
          "x": 0.8555555555555556,
          "xanchor": "center",
          "xref": "paper",
          "y": 0.22222222222222224,
          "yanchor": "bottom",
          "yref": "paper"
         },
         {
          "font": {
           "size": 16
          },
          "showarrow": false,
          "text": "Excitatory neural firing rate error (Hz)",
          "x": 0.5,
          "xanchor": "center",
          "xref": "paper",
          "y": 0,
          "yanchor": "top",
          "yref": "paper",
          "yshift": -30
         },
         {
          "font": {
           "size": 16
          },
          "showarrow": false,
          "text": "Inhibitory neural firing rate error (Hz)",
          "textangle": -90,
          "x": 0,
          "xanchor": "right",
          "xref": "paper",
          "xshift": -40,
          "y": 0.5,
          "yanchor": "middle",
          "yref": "paper"
         }
        ],
        "height": 900,
        "template": {
         "data": {
          "bar": [
           {
            "error_x": {
             "color": "#2a3f5f"
            },
            "error_y": {
             "color": "#2a3f5f"
            },
            "marker": {
             "line": {
              "color": "#E5ECF6",
              "width": 0.5
             }
            },
            "type": "bar"
           }
          ],
          "barpolar": [
           {
            "marker": {
             "line": {
              "color": "#E5ECF6",
              "width": 0.5
             }
            },
            "type": "barpolar"
           }
          ],
          "carpet": [
           {
            "aaxis": {
             "endlinecolor": "#2a3f5f",
             "gridcolor": "white",
             "linecolor": "white",
             "minorgridcolor": "white",
             "startlinecolor": "#2a3f5f"
            },
            "baxis": {
             "endlinecolor": "#2a3f5f",
             "gridcolor": "white",
             "linecolor": "white",
             "minorgridcolor": "white",
             "startlinecolor": "#2a3f5f"
            },
            "type": "carpet"
           }
          ],
          "choropleth": [
           {
            "colorbar": {
             "outlinewidth": 0,
             "ticks": ""
            },
            "type": "choropleth"
           }
          ],
          "contour": [
           {
            "colorbar": {
             "outlinewidth": 0,
             "ticks": ""
            },
            "colorscale": [
             [
              0,
              "#0d0887"
             ],
             [
              0.1111111111111111,
              "#46039f"
             ],
             [
              0.2222222222222222,
              "#7201a8"
             ],
             [
              0.3333333333333333,
              "#9c179e"
             ],
             [
              0.4444444444444444,
              "#bd3786"
             ],
             [
              0.5555555555555556,
              "#d8576b"
             ],
             [
              0.6666666666666666,
              "#ed7953"
             ],
             [
              0.7777777777777778,
              "#fb9f3a"
             ],
             [
              0.8888888888888888,
              "#fdca26"
             ],
             [
              1,
              "#f0f921"
             ]
            ],
            "type": "contour"
           }
          ],
          "contourcarpet": [
           {
            "colorbar": {
             "outlinewidth": 0,
             "ticks": ""
            },
            "type": "contourcarpet"
           }
          ],
          "heatmap": [
           {
            "colorbar": {
             "outlinewidth": 0,
             "ticks": ""
            },
            "colorscale": [
             [
              0,
              "#0d0887"
             ],
             [
              0.1111111111111111,
              "#46039f"
             ],
             [
              0.2222222222222222,
              "#7201a8"
             ],
             [
              0.3333333333333333,
              "#9c179e"
             ],
             [
              0.4444444444444444,
              "#bd3786"
             ],
             [
              0.5555555555555556,
              "#d8576b"
             ],
             [
              0.6666666666666666,
              "#ed7953"
             ],
             [
              0.7777777777777778,
              "#fb9f3a"
             ],
             [
              0.8888888888888888,
              "#fdca26"
             ],
             [
              1,
              "#f0f921"
             ]
            ],
            "type": "heatmap"
           }
          ],
          "heatmapgl": [
           {
            "colorbar": {
             "outlinewidth": 0,
             "ticks": ""
            },
            "colorscale": [
             [
              0,
              "#0d0887"
             ],
             [
              0.1111111111111111,
              "#46039f"
             ],
             [
              0.2222222222222222,
              "#7201a8"
             ],
             [
              0.3333333333333333,
              "#9c179e"
             ],
             [
              0.4444444444444444,
              "#bd3786"
             ],
             [
              0.5555555555555556,
              "#d8576b"
             ],
             [
              0.6666666666666666,
              "#ed7953"
             ],
             [
              0.7777777777777778,
              "#fb9f3a"
             ],
             [
              0.8888888888888888,
              "#fdca26"
             ],
             [
              1,
              "#f0f921"
             ]
            ],
            "type": "heatmapgl"
           }
          ],
          "histogram": [
           {
            "marker": {
             "colorbar": {
              "outlinewidth": 0,
              "ticks": ""
             }
            },
            "type": "histogram"
           }
          ],
          "histogram2d": [
           {
            "colorbar": {
             "outlinewidth": 0,
             "ticks": ""
            },
            "colorscale": [
             [
              0,
              "#0d0887"
             ],
             [
              0.1111111111111111,
              "#46039f"
             ],
             [
              0.2222222222222222,
              "#7201a8"
             ],
             [
              0.3333333333333333,
              "#9c179e"
             ],
             [
              0.4444444444444444,
              "#bd3786"
             ],
             [
              0.5555555555555556,
              "#d8576b"
             ],
             [
              0.6666666666666666,
              "#ed7953"
             ],
             [
              0.7777777777777778,
              "#fb9f3a"
             ],
             [
              0.8888888888888888,
              "#fdca26"
             ],
             [
              1,
              "#f0f921"
             ]
            ],
            "type": "histogram2d"
           }
          ],
          "histogram2dcontour": [
           {
            "colorbar": {
             "outlinewidth": 0,
             "ticks": ""
            },
            "colorscale": [
             [
              0,
              "#0d0887"
             ],
             [
              0.1111111111111111,
              "#46039f"
             ],
             [
              0.2222222222222222,
              "#7201a8"
             ],
             [
              0.3333333333333333,
              "#9c179e"
             ],
             [
              0.4444444444444444,
              "#bd3786"
             ],
             [
              0.5555555555555556,
              "#d8576b"
             ],
             [
              0.6666666666666666,
              "#ed7953"
             ],
             [
              0.7777777777777778,
              "#fb9f3a"
             ],
             [
              0.8888888888888888,
              "#fdca26"
             ],
             [
              1,
              "#f0f921"
             ]
            ],
            "type": "histogram2dcontour"
           }
          ],
          "mesh3d": [
           {
            "colorbar": {
             "outlinewidth": 0,
             "ticks": ""
            },
            "type": "mesh3d"
           }
          ],
          "parcoords": [
           {
            "line": {
             "colorbar": {
              "outlinewidth": 0,
              "ticks": ""
             }
            },
            "type": "parcoords"
           }
          ],
          "pie": [
           {
            "automargin": true,
            "type": "pie"
           }
          ],
          "scatter": [
           {
            "marker": {
             "colorbar": {
              "outlinewidth": 0,
              "ticks": ""
             }
            },
            "type": "scatter"
           }
          ],
          "scatter3d": [
           {
            "line": {
             "colorbar": {
              "outlinewidth": 0,
              "ticks": ""
             }
            },
            "marker": {
             "colorbar": {
              "outlinewidth": 0,
              "ticks": ""
             }
            },
            "type": "scatter3d"
           }
          ],
          "scattercarpet": [
           {
            "marker": {
             "colorbar": {
              "outlinewidth": 0,
              "ticks": ""
             }
            },
            "type": "scattercarpet"
           }
          ],
          "scattergeo": [
           {
            "marker": {
             "colorbar": {
              "outlinewidth": 0,
              "ticks": ""
             }
            },
            "type": "scattergeo"
           }
          ],
          "scattergl": [
           {
            "marker": {
             "colorbar": {
              "outlinewidth": 0,
              "ticks": ""
             }
            },
            "type": "scattergl"
           }
          ],
          "scattermapbox": [
           {
            "marker": {
             "colorbar": {
              "outlinewidth": 0,
              "ticks": ""
             }
            },
            "type": "scattermapbox"
           }
          ],
          "scatterpolar": [
           {
            "marker": {
             "colorbar": {
              "outlinewidth": 0,
              "ticks": ""
             }
            },
            "type": "scatterpolar"
           }
          ],
          "scatterpolargl": [
           {
            "marker": {
             "colorbar": {
              "outlinewidth": 0,
              "ticks": ""
             }
            },
            "type": "scatterpolargl"
           }
          ],
          "scatterternary": [
           {
            "marker": {
             "colorbar": {
              "outlinewidth": 0,
              "ticks": ""
             }
            },
            "type": "scatterternary"
           }
          ],
          "surface": [
           {
            "colorbar": {
             "outlinewidth": 0,
             "ticks": ""
            },
            "colorscale": [
             [
              0,
              "#0d0887"
             ],
             [
              0.1111111111111111,
              "#46039f"
             ],
             [
              0.2222222222222222,
              "#7201a8"
             ],
             [
              0.3333333333333333,
              "#9c179e"
             ],
             [
              0.4444444444444444,
              "#bd3786"
             ],
             [
              0.5555555555555556,
              "#d8576b"
             ],
             [
              0.6666666666666666,
              "#ed7953"
             ],
             [
              0.7777777777777778,
              "#fb9f3a"
             ],
             [
              0.8888888888888888,
              "#fdca26"
             ],
             [
              1,
              "#f0f921"
             ]
            ],
            "type": "surface"
           }
          ],
          "table": [
           {
            "cells": {
             "fill": {
              "color": "#EBF0F8"
             },
             "line": {
              "color": "white"
             }
            },
            "header": {
             "fill": {
              "color": "#C8D4E3"
             },
             "line": {
              "color": "white"
             }
            },
            "type": "table"
           }
          ]
         },
         "layout": {
          "annotationdefaults": {
           "arrowcolor": "#2a3f5f",
           "arrowhead": 0,
           "arrowwidth": 1
          },
          "coloraxis": {
           "colorbar": {
            "outlinewidth": 0,
            "ticks": ""
           }
          },
          "colorscale": {
           "diverging": [
            [
             0,
             "#8e0152"
            ],
            [
             0.1,
             "#c51b7d"
            ],
            [
             0.2,
             "#de77ae"
            ],
            [
             0.3,
             "#f1b6da"
            ],
            [
             0.4,
             "#fde0ef"
            ],
            [
             0.5,
             "#f7f7f7"
            ],
            [
             0.6,
             "#e6f5d0"
            ],
            [
             0.7,
             "#b8e186"
            ],
            [
             0.8,
             "#7fbc41"
            ],
            [
             0.9,
             "#4d9221"
            ],
            [
             1,
             "#276419"
            ]
           ],
           "sequential": [
            [
             0,
             "#0d0887"
            ],
            [
             0.1111111111111111,
             "#46039f"
            ],
            [
             0.2222222222222222,
             "#7201a8"
            ],
            [
             0.3333333333333333,
             "#9c179e"
            ],
            [
             0.4444444444444444,
             "#bd3786"
            ],
            [
             0.5555555555555556,
             "#d8576b"
            ],
            [
             0.6666666666666666,
             "#ed7953"
            ],
            [
             0.7777777777777778,
             "#fb9f3a"
            ],
            [
             0.8888888888888888,
             "#fdca26"
            ],
            [
             1,
             "#f0f921"
            ]
           ],
           "sequentialminus": [
            [
             0,
             "#0d0887"
            ],
            [
             0.1111111111111111,
             "#46039f"
            ],
            [
             0.2222222222222222,
             "#7201a8"
            ],
            [
             0.3333333333333333,
             "#9c179e"
            ],
            [
             0.4444444444444444,
             "#bd3786"
            ],
            [
             0.5555555555555556,
             "#d8576b"
            ],
            [
             0.6666666666666666,
             "#ed7953"
            ],
            [
             0.7777777777777778,
             "#fb9f3a"
            ],
            [
             0.8888888888888888,
             "#fdca26"
            ],
            [
             1,
             "#f0f921"
            ]
           ]
          },
          "colorway": [
           "#636efa",
           "#EF553B",
           "#00cc96",
           "#ab63fa",
           "#FFA15A",
           "#19d3f3",
           "#FF6692",
           "#B6E880",
           "#FF97FF",
           "#FECB52"
          ],
          "font": {
           "color": "#2a3f5f"
          },
          "geo": {
           "bgcolor": "white",
           "lakecolor": "white",
           "landcolor": "#E5ECF6",
           "showlakes": true,
           "showland": true,
           "subunitcolor": "white"
          },
          "hoverlabel": {
           "align": "left"
          },
          "hovermode": "closest",
          "mapbox": {
           "style": "light"
          },
          "paper_bgcolor": "white",
          "plot_bgcolor": "#E5ECF6",
          "polar": {
           "angularaxis": {
            "gridcolor": "white",
            "linecolor": "white",
            "ticks": ""
           },
           "bgcolor": "#E5ECF6",
           "radialaxis": {
            "gridcolor": "white",
            "linecolor": "white",
            "ticks": ""
           }
          },
          "scene": {
           "xaxis": {
            "backgroundcolor": "#E5ECF6",
            "gridcolor": "white",
            "gridwidth": 2,
            "linecolor": "white",
            "showbackground": true,
            "ticks": "",
            "zerolinecolor": "white"
           },
           "yaxis": {
            "backgroundcolor": "#E5ECF6",
            "gridcolor": "white",
            "gridwidth": 2,
            "linecolor": "white",
            "showbackground": true,
            "ticks": "",
            "zerolinecolor": "white"
           },
           "zaxis": {
            "backgroundcolor": "#E5ECF6",
            "gridcolor": "white",
            "gridwidth": 2,
            "linecolor": "white",
            "showbackground": true,
            "ticks": "",
            "zerolinecolor": "white"
           }
          },
          "shapedefaults": {
           "line": {
            "color": "#2a3f5f"
           }
          },
          "ternary": {
           "aaxis": {
            "gridcolor": "white",
            "linecolor": "white",
            "ticks": ""
           },
           "baxis": {
            "gridcolor": "white",
            "linecolor": "white",
            "ticks": ""
           },
           "bgcolor": "#E5ECF6",
           "caxis": {
            "gridcolor": "white",
            "linecolor": "white",
            "ticks": ""
           }
          },
          "title": {
           "x": 0.05
          },
          "xaxis": {
           "automargin": true,
           "gridcolor": "white",
           "linecolor": "white",
           "ticks": "",
           "title": {
            "standoff": 15
           },
           "zerolinecolor": "white",
           "zerolinewidth": 2
          },
          "yaxis": {
           "automargin": true,
           "gridcolor": "white",
           "linecolor": "white",
           "ticks": "",
           "title": {
            "standoff": 15
           },
           "zerolinecolor": "white",
           "zerolinewidth": 2
          }
         }
        },
        "title": {
         "text": "Final frontiers of firing error"
        },
        "width": 900,
        "xaxis": {
         "anchor": "y",
         "domain": [
          0,
          0.2888888888888889
         ]
        },
        "xaxis2": {
         "anchor": "y2",
         "domain": [
          0.35555555555555557,
          0.6444444444444445
         ]
        },
        "xaxis3": {
         "anchor": "y3",
         "domain": [
          0.7111111111111111,
          1
         ]
        },
        "xaxis4": {
         "anchor": "y4",
         "domain": [
          0,
          0.2888888888888889
         ]
        },
        "xaxis5": {
         "anchor": "y5",
         "domain": [
          0.35555555555555557,
          0.6444444444444445
         ]
        },
        "xaxis6": {
         "anchor": "y6",
         "domain": [
          0.7111111111111111,
          1
         ]
        },
        "xaxis7": {
         "anchor": "y7",
         "domain": [
          0,
          0.2888888888888889
         ]
        },
        "xaxis8": {
         "anchor": "y8",
         "domain": [
          0.35555555555555557,
          0.6444444444444445
         ]
        },
        "xaxis9": {
         "anchor": "y9",
         "domain": [
          0.7111111111111111,
          1
         ]
        },
        "yaxis": {
         "anchor": "x",
         "domain": [
          0.7777777777777778,
          1
         ]
        },
        "yaxis2": {
         "anchor": "x2",
         "domain": [
          0.7777777777777778,
          1
         ]
        },
        "yaxis3": {
         "anchor": "x3",
         "domain": [
          0.7777777777777778,
          1
         ]
        },
        "yaxis4": {
         "anchor": "x4",
         "domain": [
          0.3888888888888889,
          0.6111111111111112
         ]
        },
        "yaxis5": {
         "anchor": "x5",
         "domain": [
          0.3888888888888889,
          0.6111111111111112
         ]
        },
        "yaxis6": {
         "anchor": "x6",
         "domain": [
          0.3888888888888889,
          0.6111111111111112
         ]
        },
        "yaxis7": {
         "anchor": "x7",
         "domain": [
          0,
          0.22222222222222224
         ]
        },
        "yaxis8": {
         "anchor": "x8",
         "domain": [
          0,
          0.22222222222222224
         ]
        },
        "yaxis9": {
         "anchor": "x9",
         "domain": [
          0,
          0.22222222222222224
         ]
        }
       }
      },
      "text/html": [
       "<div>                            <div id=\"2218de0d-3b03-4856-a234-8c2a84c6fda9\" class=\"plotly-graph-div\" style=\"height:900px; width:900px;\"></div>            <script type=\"text/javascript\">                require([\"plotly\"], function(Plotly) {                    window.PLOTLYENV=window.PLOTLYENV || {};                                    if (document.getElementById(\"2218de0d-3b03-4856-a234-8c2a84c6fda9\")) {                    Plotly.newPlot(                        \"2218de0d-3b03-4856-a234-8c2a84c6fda9\",                        [{\"marker\": {\"color\": \"black\"}, \"mode\": \"markers\", \"name\": \"excitatory connections\", \"type\": \"scatter\", \"x\": [0.655, 0.6612499999999999, 0.48, 0.7324999999999999, 0.017500000000000068, 0.4975000000000001, 0.18500000000000005, 1.17375, 0.51125, 0.0012500000000001956, 0.03374999999999995, 0.7775000000000001, 0.008750000000000036], \"xaxis\": \"x\", \"y\": [0.2450000000000001, 0.17499999999999982, 0.4437499999999997, 0.13874999999999993, 0.9524999999999996, 0.4424999999999999, 0.4512499999999999, 0.0, 0.2474999999999996, 1.0700000000000005, 0.7625000000000002, 0.001249999999999751, 1.0112500000000004], \"yaxis\": \"y\"}, {\"marker\": {\"color\": \"black\"}, \"mode\": \"markers\", \"name\": \"excitatory connections\", \"type\": \"scatter\", \"x\": [0.3300000000000001, 0.77875, 0.003750000000000142, 1.33, 0.57375, 0.77, 1.0825, 0.0012499999999999734, 1.5275, 0.92375, 0.006250000000000089, 0.76, 1.215, 0.47875, 0.96625, 1.48, 0.0, 1.06125, 1.575, 1.4725, 0.99625, 0.685, 1.0625, 1.32125, 1.51875, 1.115, 0.57125, 1.38125, 1.15875, 1.5175, 0.8625, 0.7224999999999999, 0.5874999999999999, 1.1637499999999998, 1.29125, 0.8125, 0.7675000000000001, 0.0037499999999999205, 1.525, 1.24625, 1.455, 0.1312500000000001, 1.5925, 0.4875, 0.024999999999999908, 1.1775, 1.47, 0.12749999999999995, 0.4437500000000001, 0.96375, 1.30625, 1.375, 0.6212500000000001, 1.145, 1.16875, 1.37375, 0.7762500000000001], \"xaxis\": \"x2\", \"y\": [3.5250000000000004, 3.06625, 4.14375, 2.14625, 3.335, 3.1362500000000004, 2.59375, 4.17875, 1.535, 2.95875, 3.8775, 3.1775, 2.38875, 3.3825000000000003, 2.785, 1.7937500000000002, 4.19375, 2.69625, 1.42125, 1.825, 2.70625, 3.2212500000000004, 2.6825, 2.17875, 1.6575000000000002, 2.5825, 3.3525, 1.88125, 2.53125, 1.79, 2.96, 3.1900000000000004, 3.3025, 2.50625, 2.3325, 2.9725, 3.1637500000000003, 4.15875, 1.645, 2.3425, 1.87625, 3.535, 1.4162499999999998, 3.3625, 3.85, 2.46875, 1.8725, 3.77125, 3.45875, 2.92875, 2.2375, 2.0650000000000004, 3.29125, 2.56125, 2.47875, 2.13, 3.1025], \"yaxis\": \"y2\"}, {\"marker\": {\"color\": \"black\"}, \"mode\": \"markers\", \"name\": \"excitatory connections\", \"type\": \"scatter\", \"x\": [0.03375000000000039, 4.64, 2.0, 2.1925, 0.1037499999999998, 0.2649999999999997, 2.05875, 1.04, 1.7062499999999998, 2.25375, 0.05250000000000021, 2.2825, 0.44125000000000014, 1.70375, 1.2174999999999998, 2.47625, 2.53375, 0.6412500000000003, 0.9387499999999998, 0.9887499999999996, 1.2525, 2.28375, 0.7112499999999997, 1.0074999999999998, 0.625, 2.685, 2.5475, 3.14625, 4.3625, 2.375, 2.41, 0.7537500000000001, 4.59, 0.8862500000000004, 2.98125, 1.395, 2.47375, 4.58125, 3.9575, 4.42625, 4.0725, 0.5575000000000001, 2.39875, 3.8175, 2.7575, 3.7175, 3.2425, 3.72875, 3.6625, 0.9087500000000004, 2.77, 3.2125, 4.335, 0.4737499999999999, 0.5800000000000001, 4.4875, 3.88375, 2.725, 3.92625, 4.09375, 2.79875, 4.3125, 0.5612500000000002, 2.85875, 0.4537500000000003, 4.14625, 4.22125, 2.69375, 2.91625, 3.94625, 4.2825, 3.6175, 4.25375, 3.60625, 2.7825, 2.88125, 2.68875, 4.16375, 4.53625, 4.50875, 4.195, 2.97875, 4.36, 4.19625, 2.95375, 0.5637499999999998, 4.54875, 4.305, 4.58, 4.35625, 3.89875, 1.60875, 1.40125, 3.295], \"xaxis\": \"x3\", \"y\": [15.107500000000002, 1.30875, 8.7525, 6.94, 14.38, 13.9125, 7.0600000000000005, 11.415, 9.24625, 6.60125, 15.048749999999998, 6.168749999999998, 13.43875, 9.51625, 10.7475, 5.19875, 5.025, 12.7325, 12.0925, 11.77125, 10.695, 5.94375, 12.5225, 11.665, 12.9625, 4.65125, 4.66375, 3.785, 2.0025000000000004, 5.78625, 5.5775, 12.37125, 1.38, 12.27625, 3.82125, 10.5725, 5.52125, 1.6, 2.74875, 1.81875, 2.7075, 13.28, 5.6675, 3.03125, 4.41625, 3.2025, 3.6225, 3.035, 3.2875, 12.2, 4.27375, 3.6475, 2.18, 13.3025, 13.0825, 1.815, 2.96, 4.4675, 2.94625, 2.64375, 4.14, 2.2625, 13.155, 4.13125, 13.3125, 2.60625, 2.42375, 4.55125, 4.05, 2.80875, 2.33125, 3.3625, 2.3875, 3.3975, 4.23875, 4.085, 4.58125, 2.55125, 1.74625, 1.775, 2.54875, 3.955, 2.1675000000000004, 2.43625, 4.0025, 13.1025, 1.6949999999999998, 2.32625, 1.625, 2.17625, 2.95625, 9.7525, 9.8375, 3.41], \"yaxis\": \"y3\"}, {\"marker\": {\"color\": \"black\"}, \"mode\": \"markers\", \"name\": \"excitatory connections\", \"type\": \"scatter\", \"x\": [0.23875, 0.4775, 0.99125, 0.2887500000000001, 0.8300000000000001, 0.56, 0.35749999999999993, 0.5974999999999999, 0.92125, 0.052499999999999984, 0.3975, 0.08624999999999994, 0.8912500000000001, 0.115, 0.0, 0.52, 0.8162499999999999, 0.24125, 0.2337499999999999, 0.6675, 0.2437499999999999, 0.10375, 0.26875000000000004, 0.14625, 0.9675], \"xaxis\": \"x4\", \"y\": [1.005, 0.5475000000000003, 0.0, 0.8200000000000003, 0.1224999999999996, 0.4987500000000002, 0.7787499999999996, 0.3487499999999999, 0.02625000000000011, 1.4562499999999998, 0.5487500000000001, 1.4400000000000004, 0.09750000000000014, 1.1712499999999997, 1.4574999999999996, 0.5324999999999998, 0.16875000000000018, 0.8937499999999998, 1.0237499999999995, 0.21, 0.8887499999999999, 1.37125, 0.8849999999999998, 1.06625, 0.012500000000000178], \"yaxis\": \"y4\"}, {\"marker\": {\"color\": \"black\"}, \"mode\": \"markers\", \"name\": \"excitatory connections\", \"type\": \"scatter\", \"x\": [1.1800000000000002, 1.32625, 1.335, 1.13625, 1.035, 0.5275000000000001, 0.4750000000000001, 1.1075, 0.9775, 1.405, 0.9125, 0.5674999999999999, 0.7975000000000001, 0.73125, 0.6575, 1.3175, 1.02625, 1.34625, 0.5575000000000001, 1.45125, 0.3062499999999999, 0.25249999999999995, 1.10875, 0.97875, 1.2737500000000002, 1.01, 0.8087500000000001, 0.59375, 1.2574999999999998, 0.675, 1.49875, 0.1825000000000001, 0.3125, 0.36375, 0.635, 0.2, 1.42, 0.30000000000000004, 1.36375, 1.265, 0.98625, 0.8187500000000001, 0.43625, 1.015, 0.895, 0.9925, 0.3287500000000001, 1.55, 0.007499999999999841, 0.5425, 0.28, 1.19875, 0.06000000000000005, 0.04875000000000007, 0.0012499999999999734, 0.8300000000000001, 1.185], \"xaxis\": \"x5\", \"y\": [2.6225, 2.29125, 2.24125, 2.66, 2.7925000000000004, 3.58625, 3.5962500000000004, 2.71875, 3.0225, 2.08125, 3.02625, 3.54375, 3.22, 3.24625, 3.3525, 2.34375, 2.90125, 2.1625, 3.545, 1.83125, 3.96625, 4.03375, 2.6950000000000003, 2.9925, 2.41, 2.93875, 3.2, 3.4525, 2.455, 3.33, 1.65875, 4.16875, 3.88, 3.66625, 3.44125, 4.0675, 2.02375, 3.97125, 2.14375, 2.4525, 2.9825, 3.12375, 3.605, 2.9225000000000003, 3.0962500000000004, 2.9487500000000004, 3.6775, 1.6324999999999998, 4.61125, 3.5700000000000003, 4.02125, 2.53125, 4.1725, 4.51, 4.90375, 3.11375, 2.54375], \"yaxis\": \"y5\"}, {\"marker\": {\"color\": \"black\"}, \"mode\": \"markers\", \"name\": \"excitatory connections\", \"type\": \"scatter\", \"x\": [0.003750000000000142, 4.5575, 4.58375, 1.875, 1.705, 2.00875, 1.69375, 0.9087500000000004, 0.6224999999999996, 0.7975000000000003, 0.7087500000000002, 1.80625, 0.665, 0.5674999999999999, 2.375, 2.21, 0.07749999999999968, 0.6150000000000002, 2.32375, 2.1525, 0.3137499999999997, 1.5, 2.105, 4.3825, 0.9837499999999996, 3.47875, 0.3650000000000002, 4.2775, 2.29875, 0.3487499999999999, 0.06874999999999963, 4.16875, 3.66875, 2.84125, 1.34875, 0.43625000000000025, 4.475, 0.02374999999999972, 2.22, 4.27375, 2.96, 1.185, 1.31875, 2.6025, 0.585, 0.12375000000000025, 4.145, 2.47125, 3.3425, 0.042500000000000426, 1.07875, 3.2475, 3.05875, 0.27749999999999986, 3.92375, 1.45375, 2.8825, 3.3975, 1.3849999999999998, 3.2037500000000003, 2.95, 3.82625, 1.1675, 2.80625, 3.18875, 0.20500000000000007, 0.19625000000000006, 1.24625, 3.4525, 1.55625, 1.29875, 1.1349999999999998, 2.7425, 1.20375, 1.605, 1.03125, 3.13375, 4.045, 3.71125, 2.02875, 1.0750000000000002, 2.6625, 2.57625, 2.6775, 1.69125, 0.5199999999999996, 3.7725, 2.71875, 4.50875, 2.6475, 3.0825, 4.00375, 4.0125, 2.49125, 2.535, 1.0675, 4.0075, 2.5325, 0.30375, 4.54625], \"xaxis\": \"x6\", \"y\": [15.89125, 1.6437499999999998, 1.63625, 8.1925, 8.72375, 7.61125, 9.34375, 11.85125, 13.0325, 11.9275, 12.685, 8.55625, 12.70125, 13.72875, 6.195, 7.055, 15.19125, 13.395, 6.49, 7.15, 14.49875, 9.8825, 7.449999999999998, 1.94625, 11.61, 3.44125, 13.9, 2.2825, 6.6275, 14.485, 15.475, 2.5562500000000004, 3.4000000000000004, 4.87, 10.2175, 13.77625, 1.93625, 15.73875, 6.696249999999999, 2.3550000000000004, 4.53, 10.84875, 10.4525, 5.66625, 13.485, 14.978750000000002, 2.7025, 6.09375, 3.85, 15.56375, 11.21125, 3.86125, 4.38875, 14.72, 3.13, 10.07875, 4.74875, 3.75125, 10.10375, 4.055, 4.6625, 3.1875, 11.025, 5.07625, 4.14625, 14.83875, 14.975, 10.65, 3.6275, 9.65125, 10.5175, 11.08125, 5.12125, 10.71125, 9.6125, 11.45125, 4.29, 2.73875, 3.2662500000000003, 7.52875, 11.3275, 5.51875, 5.82375, 5.35125, 9.47, 13.76625, 3.25625, 5.32, 1.78375, 5.5425, 4.31125, 3.1025, 2.77125, 5.96875, 5.85125, 11.44, 2.9762500000000003, 5.9325, 14.7025, 1.7400000000000002], \"yaxis\": \"y6\"}, {\"marker\": {\"color\": \"black\"}, \"mode\": \"markers\", \"name\": \"excitatory connections\", \"type\": \"scatter\", \"x\": [0.9875, 0.8062499999999999, 0.7662500000000001, 0.6325000000000001, 0.965, 0.3875, 0.6200000000000001, 0.3775, 0.675, 0.4850000000000001, 0.12250000000000005, 0.0012500000000001956, 0.68875, 0.93, 0.35375, 0.2649999999999999, 0.3999999999999999, 0.9475, 0.8387500000000001, 0.0037499999999999205, 0.0625, 0.030000000000000027, 0.78125, 1.0125, 0.6412500000000001, 0.13250000000000006, 0.4762500000000001, 0.22249999999999992, 0.0, 0.8574999999999999, 0.64625, 0.4737499999999999, 0.09499999999999996, 0.6475, 0.325, 0.9775, 0.3787499999999999], \"xaxis\": \"x7\", \"y\": [0.003750000000000142, 0.21499999999999986, 0.2737499999999997, 0.4937500000000004, 0.01625000000000032, 0.7649999999999997, 0.4987500000000002, 0.8237500000000004, 0.3387500000000001, 0.5125000000000002, 1.17875, 1.8237500000000004, 0.31125000000000025, 0.07500000000000018, 0.8337500000000002, 0.8787500000000001, 0.7287499999999998, 0.02625000000000011, 0.10500000000000044, 1.6012500000000005, 1.3624999999999998, 1.5062499999999996, 0.2474999999999996, 0.0, 0.4550000000000001, 1.1487499999999995, 0.5687499999999996, 1.03125, 1.83625, 0.10125000000000027, 0.4537500000000003, 0.6675000000000004, 1.2575000000000005, 0.4024999999999999, 0.86625, 0.0049999999999998926, 0.82125], \"yaxis\": \"y7\"}, {\"marker\": {\"color\": \"black\"}, \"mode\": \"markers\", \"name\": \"excitatory connections\", \"type\": \"scatter\", \"x\": [1.505, 1.44375, 1.1324999999999998, 0.3675, 1.50875, 0.7975000000000001, 0.17874999999999994, 1.40875, 0.4137500000000001, 0.88625, 1.2325, 0.34624999999999995, 0.016250000000000098, 1.41625, 1.51875, 1.35625, 0.5787500000000001, 1.13, 1.53, 0.8075000000000001, 0.91125, 0.21625000000000005, 0.0012499999999999734, 1.46875, 0.87375, 0.0024999999999999467, 0.10749999999999993, 1.51625, 0.2975000000000001, 0.018750000000000044, 0.017500000000000068, 0.7, 0.006250000000000089, 1.1075, 0.26875000000000004, 0.3612500000000001, 1.30375, 0.05125000000000002, 1.3512499999999998, 0.51, 0.010000000000000007, 1.51125, 0.2762500000000001, 1.09, 0.24750000000000005, 0.2875000000000001, 0.07499999999999996, 1.35375, 1.1975, 0.9925, 1.4675, 0.615, 1.25125, 0.5162500000000001, 0.44625, 0.5862499999999999, 1.21625, 0.3075000000000001, 1.0550000000000002, 0.7437499999999999, 0.6074999999999999, 0.003750000000000142, 0.1612499999999999, 0.6275, 1.00625, 0.4575, 0.3025, 0.42875, 0.50125, 0.7337499999999999, 0.07250000000000001, 1.435], \"xaxis\": \"x8\", \"y\": [1.90625, 2.02875, 2.64, 3.7575, 1.87875, 3.26, 4.17625, 2.11625, 3.7375, 3.0675, 2.5075000000000003, 3.88625, 4.69625, 2.06625, 1.82, 2.135, 3.48875, 2.7037500000000003, 1.75625, 3.1925, 3.02875, 4.1525, 5.19625, 1.9225, 3.18375, 4.92875, 4.34, 1.865, 3.9675, 4.52625, 4.6675, 3.34875, 4.7525, 2.7875, 4.1025, 3.87125, 2.29375, 4.51, 2.25, 3.5737500000000004, 4.73375, 1.86875, 4.07875, 2.8175, 4.13125, 4.00875, 4.39125, 2.2325, 2.62625, 2.955, 1.96625, 3.4487500000000004, 2.40375, 3.49, 3.70625, 3.4850000000000003, 2.6, 3.91875, 2.81875, 3.305, 3.46625, 4.77, 4.27125, 3.42875, 2.9325, 3.5875000000000004, 3.96375, 3.7175, 3.5787500000000003, 3.3425, 4.4625, 2.055], \"yaxis\": \"y8\"}, {\"marker\": {\"color\": \"black\"}, \"mode\": \"markers\", \"name\": \"excitatory connections\", \"type\": \"scatter\", \"x\": [4.54875, 0.0049999999999998926, 0.07624999999999993, 0.4325000000000001, 0.006249999999999646, 1.1575000000000002, 0.43874999999999975, 0.3962500000000002, 0.8150000000000004, 1.9575, 1.125, 1.7025, 1.75, 1.025, 2.04, 1.0499999999999998, 0.5999999999999996, 3.72875, 0.2400000000000002, 0.6325000000000003, 0.9025, 0.049999999999999815, 1.50375, 0.8700000000000001, 0.7999999999999998, 3.60375, 0.5575000000000001, 0.7137500000000001, 2.09, 2.36, 1.25, 2.275, 0.9362500000000002, 2.2625, 2.1, 1.3112499999999998, 1.22375, 0.16000000000000014, 1.6549999999999998, 1.3375, 2.0775, 1.9225, 0.3449999999999997, 3.2887500000000003, 0.17250000000000032, 2.9325, 1.3624999999999998, 3.40375, 3.1275, 1.67, 4.35, 3.07375, 2.6775, 1.40875, 2.98125, 3.8525, 4.445, 2.1825, 2.8475, 1.48625, 2.575, 4.43375, 0.2625000000000002, 2.65, 2.53375, 3.34625, 2.43, 1.9125, 1.5525000000000002, 1.86875, 3.4762500000000003, 2.62375, 2.77125, 3.8875, 4.11375, 1.815, 3.98375, 4.24375, 4.48625, 1.77875, 4.17, 2.8275, 0.0625, 4.03625, 1.58, 3.1775, 3.5225, 4.29, 0.5887500000000001, 2.48375, 3.06375, 2.3475, 0.7324999999999999, 4.32875, 2.77375, 2.48125, 2.3525, 2.47375, 1.4674999999999998, 4.10875], \"xaxis\": \"x9\", \"y\": [1.78375, 16.2775, 15.1825, 13.89375, 15.64125, 10.81125, 13.57125, 14.2475, 12.26375, 7.786250000000001, 11.17, 8.91, 8.5225, 11.59, 7.7174999999999985, 11.26, 13.08625, 3.27, 14.63, 12.9775, 11.89375, 15.63625, 9.5025, 12.075, 12.55875, 3.5475000000000003, 13.47875, 12.72, 7.244999999999999, 6.2875, 10.495, 6.6, 11.68, 6.901249999999999, 6.91375, 10.3425, 10.67625, 14.9175, 9.20375, 10.17375, 7.2512500000000015, 8.03, 14.41375, 4.0525, 14.87, 4.77, 10.015, 3.80125, 4.31875, 8.9725, 2.20625, 4.48125, 5.31375, 9.89375, 4.66, 3.24, 1.96375, 6.911250000000001, 4.925, 9.76, 5.62, 2.1525, 14.41875, 5.39, 5.79125, 3.83, 6.071249999999999, 8.12, 9.3725, 8.26625, 3.67875, 5.5825, 5.235, 3.11375, 2.8475, 8.31875, 3.08125, 2.52375, 1.865, 8.4625, 2.7025, 5.0125, 15.6175, 3.0075000000000003, 9.285, 4.20375, 3.55375, 2.39875, 13.44625, 5.845, 4.61875, 6.477499999999999, 12.6325, 2.3525, 5.045, 5.98375, 6.43125, 6.055, 9.77875, 2.9800000000000004], \"yaxis\": \"y9\"}],                        {\"annotations\": [{\"font\": {\"size\": 16}, \"showarrow\": false, \"text\": \"f: 1, exc: 5, inh: 2\", \"x\": 0.14444444444444446, \"xanchor\": \"center\", \"xref\": \"paper\", \"y\": 1.0, \"yanchor\": \"bottom\", \"yref\": \"paper\"}, {\"font\": {\"size\": 16}, \"showarrow\": false, \"text\": \"f: 1, exc: 2, inh: 2\", \"x\": 0.5, \"xanchor\": \"center\", \"xref\": \"paper\", \"y\": 1.0, \"yanchor\": \"bottom\", \"yref\": \"paper\"}, {\"font\": {\"size\": 16}, \"showarrow\": false, \"text\": \"f: 1, exc: 2, inh: 5\", \"x\": 0.8555555555555556, \"xanchor\": \"center\", \"xref\": \"paper\", \"y\": 1.0, \"yanchor\": \"bottom\", \"yref\": \"paper\"}, {\"font\": {\"size\": 16}, \"showarrow\": false, \"text\": \"f: 0.5, exc: 5, inh: 2\", \"x\": 0.14444444444444446, \"xanchor\": \"center\", \"xref\": \"paper\", \"y\": 0.6111111111111112, \"yanchor\": \"bottom\", \"yref\": \"paper\"}, {\"font\": {\"size\": 16}, \"showarrow\": false, \"text\": \"f: 0.5, exc: 2, inh: 2\", \"x\": 0.5, \"xanchor\": \"center\", \"xref\": \"paper\", \"y\": 0.6111111111111112, \"yanchor\": \"bottom\", \"yref\": \"paper\"}, {\"font\": {\"size\": 16}, \"showarrow\": false, \"text\": \"f: 0.5, exc: 2, inh: 5\", \"x\": 0.8555555555555556, \"xanchor\": \"center\", \"xref\": \"paper\", \"y\": 0.6111111111111112, \"yanchor\": \"bottom\", \"yref\": \"paper\"}, {\"font\": {\"size\": 16}, \"showarrow\": false, \"text\": \"f: 0.2, exc: 5, inh: 2\", \"x\": 0.14444444444444446, \"xanchor\": \"center\", \"xref\": \"paper\", \"y\": 0.22222222222222224, \"yanchor\": \"bottom\", \"yref\": \"paper\"}, {\"font\": {\"size\": 16}, \"showarrow\": false, \"text\": \"f: 0.2, exc: 2, inh: 2\", \"x\": 0.5, \"xanchor\": \"center\", \"xref\": \"paper\", \"y\": 0.22222222222222224, \"yanchor\": \"bottom\", \"yref\": \"paper\"}, {\"font\": {\"size\": 16}, \"showarrow\": false, \"text\": \"f: 0.2, exc: 2, inh: 5\", \"x\": 0.8555555555555556, \"xanchor\": \"center\", \"xref\": \"paper\", \"y\": 0.22222222222222224, \"yanchor\": \"bottom\", \"yref\": \"paper\"}, {\"font\": {\"size\": 16}, \"showarrow\": false, \"text\": \"Excitatory neural firing rate error (Hz)\", \"x\": 0.5, \"xanchor\": \"center\", \"xref\": \"paper\", \"y\": 0, \"yanchor\": \"top\", \"yref\": \"paper\", \"yshift\": -30}, {\"font\": {\"size\": 16}, \"showarrow\": false, \"text\": \"Inhibitory neural firing rate error (Hz)\", \"textangle\": -90, \"x\": 0, \"xanchor\": \"right\", \"xref\": \"paper\", \"xshift\": -40, \"y\": 0.5, \"yanchor\": \"middle\", \"yref\": \"paper\"}], \"height\": 900, \"template\": {\"data\": {\"bar\": [{\"error_x\": {\"color\": \"#2a3f5f\"}, \"error_y\": {\"color\": \"#2a3f5f\"}, \"marker\": {\"line\": {\"color\": \"#E5ECF6\", \"width\": 0.5}}, \"type\": \"bar\"}], \"barpolar\": [{\"marker\": {\"line\": {\"color\": \"#E5ECF6\", \"width\": 0.5}}, \"type\": \"barpolar\"}], \"carpet\": [{\"aaxis\": {\"endlinecolor\": \"#2a3f5f\", \"gridcolor\": \"white\", \"linecolor\": \"white\", \"minorgridcolor\": \"white\", \"startlinecolor\": \"#2a3f5f\"}, \"baxis\": {\"endlinecolor\": \"#2a3f5f\", \"gridcolor\": \"white\", \"linecolor\": \"white\", \"minorgridcolor\": \"white\", \"startlinecolor\": \"#2a3f5f\"}, \"type\": \"carpet\"}], \"choropleth\": [{\"colorbar\": {\"outlinewidth\": 0, \"ticks\": \"\"}, \"type\": \"choropleth\"}], \"contour\": [{\"colorbar\": {\"outlinewidth\": 0, \"ticks\": \"\"}, \"colorscale\": [[0.0, \"#0d0887\"], [0.1111111111111111, \"#46039f\"], [0.2222222222222222, \"#7201a8\"], [0.3333333333333333, \"#9c179e\"], [0.4444444444444444, \"#bd3786\"], [0.5555555555555556, \"#d8576b\"], [0.6666666666666666, \"#ed7953\"], [0.7777777777777778, \"#fb9f3a\"], [0.8888888888888888, \"#fdca26\"], [1.0, \"#f0f921\"]], \"type\": \"contour\"}], \"contourcarpet\": [{\"colorbar\": {\"outlinewidth\": 0, \"ticks\": \"\"}, \"type\": \"contourcarpet\"}], \"heatmap\": [{\"colorbar\": {\"outlinewidth\": 0, \"ticks\": \"\"}, \"colorscale\": [[0.0, \"#0d0887\"], [0.1111111111111111, \"#46039f\"], [0.2222222222222222, \"#7201a8\"], [0.3333333333333333, \"#9c179e\"], [0.4444444444444444, \"#bd3786\"], [0.5555555555555556, \"#d8576b\"], [0.6666666666666666, \"#ed7953\"], [0.7777777777777778, \"#fb9f3a\"], [0.8888888888888888, \"#fdca26\"], [1.0, \"#f0f921\"]], \"type\": \"heatmap\"}], \"heatmapgl\": [{\"colorbar\": {\"outlinewidth\": 0, \"ticks\": \"\"}, \"colorscale\": [[0.0, \"#0d0887\"], [0.1111111111111111, \"#46039f\"], [0.2222222222222222, \"#7201a8\"], [0.3333333333333333, \"#9c179e\"], [0.4444444444444444, \"#bd3786\"], [0.5555555555555556, \"#d8576b\"], [0.6666666666666666, \"#ed7953\"], [0.7777777777777778, \"#fb9f3a\"], [0.8888888888888888, \"#fdca26\"], [1.0, \"#f0f921\"]], \"type\": \"heatmapgl\"}], \"histogram\": [{\"marker\": {\"colorbar\": {\"outlinewidth\": 0, \"ticks\": \"\"}}, \"type\": \"histogram\"}], \"histogram2d\": [{\"colorbar\": {\"outlinewidth\": 0, \"ticks\": \"\"}, \"colorscale\": [[0.0, \"#0d0887\"], [0.1111111111111111, \"#46039f\"], [0.2222222222222222, \"#7201a8\"], [0.3333333333333333, \"#9c179e\"], [0.4444444444444444, \"#bd3786\"], [0.5555555555555556, \"#d8576b\"], [0.6666666666666666, \"#ed7953\"], [0.7777777777777778, \"#fb9f3a\"], [0.8888888888888888, \"#fdca26\"], [1.0, \"#f0f921\"]], \"type\": \"histogram2d\"}], \"histogram2dcontour\": [{\"colorbar\": {\"outlinewidth\": 0, \"ticks\": \"\"}, \"colorscale\": [[0.0, \"#0d0887\"], [0.1111111111111111, \"#46039f\"], [0.2222222222222222, \"#7201a8\"], [0.3333333333333333, \"#9c179e\"], [0.4444444444444444, \"#bd3786\"], [0.5555555555555556, \"#d8576b\"], [0.6666666666666666, \"#ed7953\"], [0.7777777777777778, \"#fb9f3a\"], [0.8888888888888888, \"#fdca26\"], [1.0, \"#f0f921\"]], \"type\": \"histogram2dcontour\"}], \"mesh3d\": [{\"colorbar\": {\"outlinewidth\": 0, \"ticks\": \"\"}, \"type\": \"mesh3d\"}], \"parcoords\": [{\"line\": {\"colorbar\": {\"outlinewidth\": 0, \"ticks\": \"\"}}, \"type\": \"parcoords\"}], \"pie\": [{\"automargin\": true, \"type\": \"pie\"}], \"scatter\": [{\"marker\": {\"colorbar\": {\"outlinewidth\": 0, \"ticks\": \"\"}}, \"type\": \"scatter\"}], \"scatter3d\": [{\"line\": {\"colorbar\": {\"outlinewidth\": 0, \"ticks\": \"\"}}, \"marker\": {\"colorbar\": {\"outlinewidth\": 0, \"ticks\": \"\"}}, \"type\": \"scatter3d\"}], \"scattercarpet\": [{\"marker\": {\"colorbar\": {\"outlinewidth\": 0, \"ticks\": \"\"}}, \"type\": \"scattercarpet\"}], \"scattergeo\": [{\"marker\": {\"colorbar\": {\"outlinewidth\": 0, \"ticks\": \"\"}}, \"type\": \"scattergeo\"}], \"scattergl\": [{\"marker\": {\"colorbar\": {\"outlinewidth\": 0, \"ticks\": \"\"}}, \"type\": \"scattergl\"}], \"scattermapbox\": [{\"marker\": {\"colorbar\": {\"outlinewidth\": 0, \"ticks\": \"\"}}, \"type\": \"scattermapbox\"}], \"scatterpolar\": [{\"marker\": {\"colorbar\": {\"outlinewidth\": 0, \"ticks\": \"\"}}, \"type\": \"scatterpolar\"}], \"scatterpolargl\": [{\"marker\": {\"colorbar\": {\"outlinewidth\": 0, \"ticks\": \"\"}}, \"type\": \"scatterpolargl\"}], \"scatterternary\": [{\"marker\": {\"colorbar\": {\"outlinewidth\": 0, \"ticks\": \"\"}}, \"type\": \"scatterternary\"}], \"surface\": [{\"colorbar\": {\"outlinewidth\": 0, \"ticks\": \"\"}, \"colorscale\": [[0.0, \"#0d0887\"], [0.1111111111111111, \"#46039f\"], [0.2222222222222222, \"#7201a8\"], [0.3333333333333333, \"#9c179e\"], [0.4444444444444444, \"#bd3786\"], [0.5555555555555556, \"#d8576b\"], [0.6666666666666666, \"#ed7953\"], [0.7777777777777778, \"#fb9f3a\"], [0.8888888888888888, \"#fdca26\"], [1.0, \"#f0f921\"]], \"type\": \"surface\"}], \"table\": [{\"cells\": {\"fill\": {\"color\": \"#EBF0F8\"}, \"line\": {\"color\": \"white\"}}, \"header\": {\"fill\": {\"color\": \"#C8D4E3\"}, \"line\": {\"color\": \"white\"}}, \"type\": \"table\"}]}, \"layout\": {\"annotationdefaults\": {\"arrowcolor\": \"#2a3f5f\", \"arrowhead\": 0, \"arrowwidth\": 1}, \"coloraxis\": {\"colorbar\": {\"outlinewidth\": 0, \"ticks\": \"\"}}, \"colorscale\": {\"diverging\": [[0, \"#8e0152\"], [0.1, \"#c51b7d\"], [0.2, \"#de77ae\"], [0.3, \"#f1b6da\"], [0.4, \"#fde0ef\"], [0.5, \"#f7f7f7\"], [0.6, \"#e6f5d0\"], [0.7, \"#b8e186\"], [0.8, \"#7fbc41\"], [0.9, \"#4d9221\"], [1, \"#276419\"]], \"sequential\": [[0.0, \"#0d0887\"], [0.1111111111111111, \"#46039f\"], [0.2222222222222222, \"#7201a8\"], [0.3333333333333333, \"#9c179e\"], [0.4444444444444444, \"#bd3786\"], [0.5555555555555556, \"#d8576b\"], [0.6666666666666666, \"#ed7953\"], [0.7777777777777778, \"#fb9f3a\"], [0.8888888888888888, \"#fdca26\"], [1.0, \"#f0f921\"]], \"sequentialminus\": [[0.0, \"#0d0887\"], [0.1111111111111111, \"#46039f\"], [0.2222222222222222, \"#7201a8\"], [0.3333333333333333, \"#9c179e\"], [0.4444444444444444, \"#bd3786\"], [0.5555555555555556, \"#d8576b\"], [0.6666666666666666, \"#ed7953\"], [0.7777777777777778, \"#fb9f3a\"], [0.8888888888888888, \"#fdca26\"], [1.0, \"#f0f921\"]]}, \"colorway\": [\"#636efa\", \"#EF553B\", \"#00cc96\", \"#ab63fa\", \"#FFA15A\", \"#19d3f3\", \"#FF6692\", \"#B6E880\", \"#FF97FF\", \"#FECB52\"], \"font\": {\"color\": \"#2a3f5f\"}, \"geo\": {\"bgcolor\": \"white\", \"lakecolor\": \"white\", \"landcolor\": \"#E5ECF6\", \"showlakes\": true, \"showland\": true, \"subunitcolor\": \"white\"}, \"hoverlabel\": {\"align\": \"left\"}, \"hovermode\": \"closest\", \"mapbox\": {\"style\": \"light\"}, \"paper_bgcolor\": \"white\", \"plot_bgcolor\": \"#E5ECF6\", \"polar\": {\"angularaxis\": {\"gridcolor\": \"white\", \"linecolor\": \"white\", \"ticks\": \"\"}, \"bgcolor\": \"#E5ECF6\", \"radialaxis\": {\"gridcolor\": \"white\", \"linecolor\": \"white\", \"ticks\": \"\"}}, \"scene\": {\"xaxis\": {\"backgroundcolor\": \"#E5ECF6\", \"gridcolor\": \"white\", \"gridwidth\": 2, \"linecolor\": \"white\", \"showbackground\": true, \"ticks\": \"\", \"zerolinecolor\": \"white\"}, \"yaxis\": {\"backgroundcolor\": \"#E5ECF6\", \"gridcolor\": \"white\", \"gridwidth\": 2, \"linecolor\": \"white\", \"showbackground\": true, \"ticks\": \"\", \"zerolinecolor\": \"white\"}, \"zaxis\": {\"backgroundcolor\": \"#E5ECF6\", \"gridcolor\": \"white\", \"gridwidth\": 2, \"linecolor\": \"white\", \"showbackground\": true, \"ticks\": \"\", \"zerolinecolor\": \"white\"}}, \"shapedefaults\": {\"line\": {\"color\": \"#2a3f5f\"}}, \"ternary\": {\"aaxis\": {\"gridcolor\": \"white\", \"linecolor\": \"white\", \"ticks\": \"\"}, \"baxis\": {\"gridcolor\": \"white\", \"linecolor\": \"white\", \"ticks\": \"\"}, \"bgcolor\": \"#E5ECF6\", \"caxis\": {\"gridcolor\": \"white\", \"linecolor\": \"white\", \"ticks\": \"\"}}, \"title\": {\"x\": 0.05}, \"xaxis\": {\"automargin\": true, \"gridcolor\": \"white\", \"linecolor\": \"white\", \"ticks\": \"\", \"title\": {\"standoff\": 15}, \"zerolinecolor\": \"white\", \"zerolinewidth\": 2}, \"yaxis\": {\"automargin\": true, \"gridcolor\": \"white\", \"linecolor\": \"white\", \"ticks\": \"\", \"title\": {\"standoff\": 15}, \"zerolinecolor\": \"white\", \"zerolinewidth\": 2}}}, \"title\": {\"text\": \"Final frontiers of firing error\"}, \"width\": 900, \"xaxis\": {\"anchor\": \"y\", \"domain\": [0.0, 0.2888888888888889]}, \"xaxis2\": {\"anchor\": \"y2\", \"domain\": [0.35555555555555557, 0.6444444444444445]}, \"xaxis3\": {\"anchor\": \"y3\", \"domain\": [0.7111111111111111, 1.0]}, \"xaxis4\": {\"anchor\": \"y4\", \"domain\": [0.0, 0.2888888888888889]}, \"xaxis5\": {\"anchor\": \"y5\", \"domain\": [0.35555555555555557, 0.6444444444444445]}, \"xaxis6\": {\"anchor\": \"y6\", \"domain\": [0.7111111111111111, 1.0]}, \"xaxis7\": {\"anchor\": \"y7\", \"domain\": [0.0, 0.2888888888888889]}, \"xaxis8\": {\"anchor\": \"y8\", \"domain\": [0.35555555555555557, 0.6444444444444445]}, \"xaxis9\": {\"anchor\": \"y9\", \"domain\": [0.7111111111111111, 1.0]}, \"yaxis\": {\"anchor\": \"x\", \"domain\": [0.7777777777777778, 1.0]}, \"yaxis2\": {\"anchor\": \"x2\", \"domain\": [0.7777777777777778, 1.0]}, \"yaxis3\": {\"anchor\": \"x3\", \"domain\": [0.7777777777777778, 1.0]}, \"yaxis4\": {\"anchor\": \"x4\", \"domain\": [0.3888888888888889, 0.6111111111111112]}, \"yaxis5\": {\"anchor\": \"x5\", \"domain\": [0.3888888888888889, 0.6111111111111112]}, \"yaxis6\": {\"anchor\": \"x6\", \"domain\": [0.3888888888888889, 0.6111111111111112]}, \"yaxis7\": {\"anchor\": \"x7\", \"domain\": [0.0, 0.22222222222222224]}, \"yaxis8\": {\"anchor\": \"x8\", \"domain\": [0.0, 0.22222222222222224]}, \"yaxis9\": {\"anchor\": \"x9\", \"domain\": [0.0, 0.22222222222222224]}},                        {\"responsive\": true}                    ).then(function(){\n",
       "                            \n",
       "var gd = document.getElementById('2218de0d-3b03-4856-a234-8c2a84c6fda9');\n",
       "var x = new MutationObserver(function (mutations, observer) {{\n",
       "        var display = window.getComputedStyle(gd).display;\n",
       "        if (!display || display === 'none') {{\n",
       "            console.log([gd, 'removed!']);\n",
       "            Plotly.purge(gd);\n",
       "            observer.disconnect();\n",
       "        }}\n",
       "}});\n",
       "\n",
       "// Listen for the removal of the full notebook cells\n",
       "var notebookContainer = gd.closest('#notebook-container');\n",
       "if (notebookContainer) {{\n",
       "    x.observe(notebookContainer, {childList: true});\n",
       "}}\n",
       "\n",
       "// Listen for the clearing of the current output cell\n",
       "var outputEl = gd.closest('.output');\n",
       "if (outputEl) {{\n",
       "    x.observe(outputEl, {childList: true});\n",
       "}}\n",
       "\n",
       "                        })                };                });            </script>        </div>"
      ]
     },
     "metadata": {},
     "output_type": "display_data"
    }
   ],
   "source": [
    "plot_3x3_grid('/Users/fitzgerald/thesis/src/results/combined')"
   ]
  },
  {
   "cell_type": "markdown",
   "metadata": {},
   "source": [
    "## Sum squared errors\n",
    "An attempt to minimse the distance from the origin $ r_3 = \\sqrt{r_1^2 + r_2^2} $"
   ]
  },
  {
   "cell_type": "code",
   "execution_count": 14,
   "metadata": {},
   "outputs": [
    {
     "data": {
      "application/vnd.plotly.v1+json": {
       "config": {
        "plotlyServerURL": "https://plot.ly"
       },
       "data": [
        {
         "marker": {
          "color": "black"
         },
         "mode": "markers",
         "name": "excitatory connections",
         "type": "scatter",
         "x": [
          0.86375,
          0.845,
          0,
          0.5774999999999999,
          0.0024999999999999467,
          0.6512500000000001,
          0.10250000000000004,
          0.013749999999999929,
          0.0049999999999998926,
          0.006250000000000089,
          0.11874999999999993,
          0.565,
          0.6425000000000001,
          0.7024999999999999,
          0.69875
         ],
         "xaxis": "x",
         "y": [
          0,
          0.001249999999999751,
          1.1050000000000004,
          0.2850000000000001,
          1.01375,
          0.1900000000000004,
          0.8487499999999999,
          0.8737500000000002,
          1.0099999999999998,
          0.9812500000000002,
          0.3775000000000004,
          0.34375,
          0.19125000000000011,
          0.011250000000000426,
          0.08999999999999986
         ],
         "yaxis": "y"
        },
        {
         "marker": {
          "color": "black"
         },
         "mode": "markers",
         "name": "excitatory connections",
         "type": "scatter",
         "x": [
          1.3975,
          0.72875,
          0.02750000000000008,
          1.4975,
          0.49875,
          1.485,
          1.10625,
          1.54,
          0.80375,
          1.4475,
          1.4025,
          1.2825,
          0.5925,
          0.4925,
          1.11125,
          1.41625,
          0.3225,
          1.3425,
          0.12874999999999992,
          0.4424999999999999,
          1.01375,
          1.47375,
          0.1625000000000001,
          1.59625,
          0.6799999999999999,
          0.6937500000000001,
          0.06000000000000005,
          0.71,
          1.1575,
          0.6637500000000001,
          0.08374999999999999,
          0.0012499999999999734,
          1.4762499999999998,
          1.36,
          0.12749999999999995,
          0.018749999999999826,
          0.0049999999999998926,
          0.04249999999999998,
          1.53125,
          1.16125,
          0.44625,
          0.98,
          0.3474999999999999,
          1.24,
          1.4825,
          1.3725,
          1.63,
          0.3587499999999999,
          1.4075,
          1.25,
          0.6675,
          0.04374999999999996,
          1.24375,
          0.30125,
          0.34375,
          1.56875,
          0.0024999999999999467,
          0.8500000000000001,
          0.74125,
          0.0012500000000001956,
          1.55,
          0.21750000000000005,
          1.08375
         ],
         "xaxis": "x2",
         "y": [
          2.02875,
          3.1587500000000004,
          4.0025,
          1.765,
          3.36125,
          1.7712500000000002,
          2.62625,
          1.7374999999999998,
          3.0175,
          1.9075,
          2.01,
          2.175,
          3.31125,
          3.42,
          2.54625,
          1.94375,
          3.6675,
          2.11625,
          3.86375,
          3.4875,
          2.7175,
          1.895,
          3.7475,
          1.395,
          3.28,
          3.26,
          3.9375,
          3.16625,
          2.45125,
          3.29875,
          3.88875,
          4.4375,
          1.8875,
          2.06625,
          3.86875,
          4.0325,
          4.0825,
          3.955,
          1.7525,
          2.33375,
          3.4825,
          2.7725,
          3.6375,
          2.3275,
          1.88,
          2.0337500000000004,
          1.38,
          3.575,
          1.98625,
          2.2675,
          3.285,
          3.94125,
          2.3200000000000003,
          3.67,
          3.6475,
          1.4075000000000002,
          4.22,
          2.87,
          3.1187500000000004,
          4.38375,
          1.5612499999999998,
          3.6925,
          2.6500000000000004
         ],
         "yaxis": "y2"
        },
        {
         "marker": {
          "color": "black"
         },
         "mode": "markers",
         "name": "excitatory connections",
         "type": "scatter",
         "x": [
          4.27625,
          4.6525,
          1.95375,
          2.09125,
          0.035000000000000135,
          1.87125,
          2.19375,
          0.8162500000000001,
          1,
          1.5225,
          0.054999999999999716,
          1.11,
          2.23125,
          2.25125,
          1.705,
          0.6799999999999997,
          0.8724999999999996,
          1.7275,
          0.4550000000000001,
          0.3949999999999996,
          0.5650000000000004,
          1.28125,
          1.3275,
          2.65125,
          0.13250000000000028,
          2.61625,
          1.4700000000000002,
          2.7675,
          1.3849999999999998,
          2.4675,
          2.43,
          2.6825,
          1.25,
          1.2675,
          2.85125,
          2.4475,
          0.6662499999999998,
          3.725,
          3.3625,
          3.05625,
          3.2575000000000003,
          0.6712499999999997,
          3.61625,
          3.1025,
          2.9675,
          1.46375,
          3.1825,
          3.57125,
          4.37,
          3.48,
          3.8175,
          3.2275,
          2.9425,
          3.4325,
          4.4350000000000005,
          4.26,
          4.4,
          3.89375,
          4.1375,
          3.47375,
          3.44625,
          3.77625,
          4.615,
          3.77,
          4.2675,
          2.96,
          4.1525,
          4.08625,
          4.54125,
          4.01625,
          4.4475,
          4.27375,
          4.59,
          3.605,
          4.5025,
          4.47125,
          4.5225,
          4.00125,
          3.9125,
          4.62875,
          3.94,
          4.0025,
          4.56625,
          4.52,
          4.0600000000000005,
          3.96125,
          3.97875,
          2.82125,
          0.2699999999999996,
          4.15875,
          0,
          2.48,
          0.1825000000000001,
          2.6225
         ],
         "xaxis": "x3",
         "y": [
          2.1362500000000004,
          1.3937499999999998,
          8.0825,
          7.35375,
          15.3975,
          8.8725,
          6.725,
          12.265,
          11.73125,
          9.7,
          14.64125,
          11.12625,
          6.25,
          5.74625,
          9.4025,
          12.6375,
          11.83875,
          9.11,
          13.2575,
          13.56125,
          13.06,
          10.72625,
          10.3975,
          4.525,
          14.4975,
          5.0725,
          10.125,
          4.22375,
          10.22375,
          5.28375,
          5.605,
          4.4625,
          11.05625,
          10.9775,
          4.0975,
          5.57875,
          12.8875,
          3.16125,
          3.6,
          3.87375,
          3.6175,
          12.88,
          3.2662500000000003,
          3.79375,
          3.96,
          10.14375,
          3.76875,
          3.345,
          2.125,
          3.3462500000000004,
          3.03125,
          3.735,
          4.0925,
          3.59125,
          1.96875,
          2.39875,
          2.0975,
          3.02125,
          2.7125000000000004,
          3.43625,
          3.53,
          3.0625,
          1.46375,
          3.1525,
          2.29125,
          4.07625,
          2.62,
          2.7175,
          1.63875,
          2.78625,
          1.88,
          2.165,
          1.5475,
          3.3,
          1.84125,
          1.85375,
          1.7200000000000002,
          2.9375,
          2.99125,
          1.3975,
          2.97375,
          2.8225,
          1.6150000000000002,
          1.7912499999999998,
          2.77375,
          2.95625,
          2.9450000000000003,
          4.12375,
          13.85875,
          2.4087500000000004,
          15.95625,
          5.0875,
          14.3475,
          4.88625
         ],
         "yaxis": "y3"
        },
        {
         "marker": {
          "color": "black"
         },
         "mode": "markers",
         "name": "excitatory connections",
         "type": "scatter",
         "x": [
          0.5049999999999999,
          0.029999999999999805,
          0.8925000000000001,
          0.4112499999999999,
          0.64375,
          1.01875,
          0.0674999999999999,
          0.115,
          0.2,
          0.5175000000000001,
          0.6225,
          0.017500000000000068,
          0.0037499999999999205,
          0.34375,
          0.0049999999999998926,
          0.2562500000000001,
          0.31499999999999995,
          0.7925,
          1.1525,
          0.06499999999999995,
          0.3487499999999999,
          0.9625,
          0.08125000000000004,
          0.77875,
          0.87625,
          0.7275,
          0.02875000000000005,
          0.0012500000000001956,
          0.5575000000000001,
          0.0012499999999999734
         ],
         "xaxis": "x4",
         "y": [
          0.5487500000000001,
          1.5462499999999997,
          0.02625000000000011,
          0.6137499999999996,
          0.3274999999999997,
          0.001249999999999751,
          1.38375,
          1.0675,
          0.9812500000000002,
          0.4874999999999998,
          0.40749999999999975,
          1.6574999999999998,
          1.795,
          0.8362499999999997,
          1.7024999999999997,
          0.9074999999999998,
          0.88375,
          0.08124999999999982,
          0,
          1.4662499999999996,
          0.7112499999999997,
          0.003750000000000142,
          1.295,
          0.17124999999999968,
          0.057500000000000114,
          0.2387499999999996,
          1.6087499999999997,
          1.81,
          0.4675000000000002,
          2.0525
         ],
         "yaxis": "y4"
        },
        {
         "marker": {
          "color": "black"
         },
         "mode": "markers",
         "name": "excitatory connections",
         "type": "scatter",
         "x": [
          1.1800000000000002,
          1.45125,
          1.2275,
          0.5037499999999999,
          1.12875,
          1.135,
          1.30625,
          1.465,
          0.0012499999999999734,
          0.7562500000000001,
          0.0037499999999999205,
          0.7537499999999999,
          0.21750000000000005,
          1.3512499999999998,
          1.39375,
          0.07125000000000004,
          0.07374999999999997,
          0.8374999999999999,
          1.3675000000000002,
          0.26125,
          1.16,
          0,
          0.41875,
          0.5075000000000001,
          0.6837500000000001,
          1.1925,
          1.0475,
          0.35375,
          0.52125,
          1.3075,
          0.12250000000000005,
          0.4325000000000001,
          1.2075,
          1.52,
          0.6412500000000001,
          1.29875,
          1.5175,
          1.3362500000000002,
          0.97125,
          1.145,
          1.06625,
          0.58125,
          1.58375,
          1.345,
          1.3775,
          1.51,
          0.885,
          0.08374999999999999,
          0.09499999999999996,
          0.3487499999999999,
          1.26,
          1.225,
          0.99125,
          0.7987500000000001,
          0.3600000000000001,
          1.4525,
          1.25375,
          0.6025,
          0.11375000000000003,
          1.4449999999999998,
          1.44125,
          0.013749999999999929,
          0.13874999999999993,
          1.2975,
          0.2875000000000001,
          0.006250000000000089,
          0.915,
          0.8025,
          1.50875,
          1.55625,
          0.012499999999999956,
          0.35250000000000004,
          0.7462500000000001,
          0.2250000000000001
         ],
         "xaxis": "x5",
         "y": [
          2.6225,
          1.97375,
          2.515,
          3.60875,
          2.75125,
          2.72875,
          2.33625,
          1.84375,
          4.77875,
          3.2325,
          4.67875,
          3.265,
          4.0475,
          2.24,
          2.05,
          4.3975,
          4.395,
          3.12,
          2.21375,
          3.95375,
          2.6625,
          5.04125,
          3.745,
          3.6075,
          3.3200000000000003,
          2.5775,
          2.795,
          3.78,
          3.55,
          2.2887500000000003,
          4.1175,
          3.62375,
          2.5725,
          1.64,
          3.3675,
          2.42375,
          1.80125,
          2.27125,
          2.89625,
          2.67375,
          2.7612500000000004,
          3.5225,
          1.6,
          2.245,
          2.16125,
          1.835,
          3.0675,
          4.38,
          4.34625,
          3.84,
          2.4450000000000003,
          2.54875,
          2.8550000000000004,
          3.19375,
          3.7575,
          1.91625,
          2.46,
          3.4537500000000003,
          4.245,
          2.03125,
          2.0337500000000004,
          4.49,
          4.0775,
          2.435,
          3.88625,
          4.6775,
          3.00375,
          3.15125,
          1.84125,
          1.63875,
          4.51375,
          3.79125,
          3.31625,
          4.02875
         ],
         "yaxis": "y5"
        },
        {
         "marker": {
          "color": "black"
         },
         "mode": "markers",
         "name": "excitatory connections",
         "type": "scatter",
         "x": [
          4.62,
          4.4925,
          0.012500000000000178,
          0.02374999999999972,
          0.4424999999999999,
          0.22499999999999964,
          0.40625,
          0.8487499999999999,
          0.057500000000000114,
          0.8475000000000001,
          1.5975,
          0.2750000000000004,
          2.03,
          0.6124999999999998,
          1.6175000000000002,
          0.7737499999999997,
          0.5462499999999997,
          1.0625,
          2.3975,
          2.01875,
          2.1925,
          2.44,
          1.22375,
          1.4725,
          1.5625,
          1.79875,
          1.2325,
          1.1324999999999998,
          1.01625,
          0.9325,
          2.1725,
          1.415,
          0.3362499999999997,
          1.9225,
          3.04875,
          1.9675,
          1.7712500000000002,
          1.9475,
          1.7912499999999998,
          4.325,
          2.05875,
          2.645,
          4.4275,
          2.25625,
          1.38,
          3.11625,
          1.27875,
          0.8049999999999997,
          0.9825,
          3.79375,
          2.1425,
          4.09625,
          1.205,
          3.67875,
          4.1625,
          1.6875,
          2.745,
          2.69625,
          2.6375,
          2.99,
          1.55875,
          3.8675,
          4.54,
          4.45625,
          0.9400000000000004,
          2.795,
          4.015,
          3.45625,
          3.51,
          2.4825,
          3.14375,
          3.92125,
          2.30375,
          3.25875,
          3.6325,
          3.23625,
          2.37375,
          3.5725,
          4.2575,
          3.20125,
          3.3375,
          3.985,
          2.85625,
          2.34375,
          4.28,
          2.60125,
          1.2625000000000002,
          2.5625,
          2.88875,
          1.545,
          2.5525,
          2.3475,
          2.91875,
          3.38875,
          2.55875,
          2.7625,
          2.97375,
          3.43125,
          1.40125,
          2.94
         ],
         "xaxis": "x6",
         "y": [
          1.62125,
          1.805,
          16.0175,
          15.263750000000002,
          13.44125,
          14.67625,
          14.0575,
          12.11125,
          14.99375,
          12.7,
          9.47375,
          14.2975,
          7.647500000000001,
          13.10125,
          9.05875,
          12.94375,
          13.24375,
          11.4,
          6.463749999999999,
          8.07875,
          7.0462500000000015,
          6.0950000000000015,
          10.96875,
          9.9925,
          9.67125,
          8.6075,
          10.665,
          11.16375,
          11.56,
          11.91875,
          7.31875,
          10.275,
          14.21,
          8.43625,
          4.51625,
          8.1125,
          8.9475,
          8.38,
          8.7525,
          2.33625,
          7.50375,
          5.47,
          2.135,
          6.88125,
          10.37125,
          4.3425,
          10.5175,
          12.78,
          11.7275,
          3.25125,
          7.41625,
          2.7875,
          11.15125,
          3.33375,
          2.63,
          9.0025,
          5.275,
          5.3675,
          5.68125,
          4.62375,
          9.91,
          3.16875,
          1.70125,
          1.9525,
          11.8,
          5.1175,
          2.8575,
          3.6825,
          3.5575,
          6.018750000000002,
          4.23625,
          3.04,
          6.817500000000001,
          3.93625,
          3.4450000000000003,
          4.09375,
          6.5787499999999985,
          3.4775,
          2.60375,
          4.16,
          3.89625,
          2.9800000000000004,
          4.99625,
          6.73625,
          2.50375,
          5.72375,
          10.5625,
          5.81125,
          4.90375,
          9.925,
          5.99375,
          6.645,
          4.80625,
          3.8725,
          5.89,
          5.12625,
          4.735,
          3.77,
          10.32125,
          4.76
         ],
         "yaxis": "y6"
        },
        {
         "marker": {
          "color": "black"
         },
         "mode": "markers",
         "name": "excitatory connections",
         "type": "scatter",
         "x": [
          0.7324999999999999,
          0.8925000000000001,
          0.6100000000000001,
          0.95375,
          0.17999999999999994,
          0.3174999999999999,
          0,
          0.58375,
          0.92,
          0.0462499999999999,
          0.4537500000000001,
          0.2749999999999999,
          0.2725,
          0.74875,
          0.6125,
          0.20500000000000007,
          0.24125,
          0.8287500000000001,
          0.3899999999999999,
          0.3925000000000001,
          0.7,
          0.9575,
          0.13749999999999996,
          0.05624999999999991,
          0.032499999999999966,
          0.3887499999999999,
          0.8225,
          0.0049999999999998926,
          0.0012500000000001956,
          0.7224999999999999,
          0.99875,
          0.82375,
          0.07624999999999993,
          0.5575000000000001,
          0.66875,
          0.18375000000000008,
          0.01124999999999998,
          0.16999999999999993,
          0.89625,
          0.4950000000000001,
          0.80375,
          0.5562499999999999,
          1.04375
         ],
         "xaxis": "x7",
         "y": [
          0.2725,
          0.11000000000000032,
          0.4675000000000002,
          0.027499999999999858,
          1.1825,
          0.8125,
          1.8425,
          0.4737499999999999,
          0.043750000000000185,
          1.5,
          0.5949999999999998,
          0.9574999999999996,
          1.0625,
          0.2549999999999999,
          0.4325000000000001,
          1.1025,
          1.07125,
          0.13750000000000018,
          0.7562499999999996,
          0.6037499999999998,
          0.3687500000000004,
          0.0049999999999998926,
          1.2312500000000002,
          1.4662499999999996,
          1.5275,
          0.7975000000000003,
          0.2162499999999996,
          1.5475000000000003,
          1.825,
          0.2999999999999998,
          0.001249999999999751,
          0.20500000000000007,
          1.3250000000000002,
          0.5300000000000002,
          0.37875000000000014,
          1.1362500000000004,
          1.53125,
          1.19125,
          0.08249999999999957,
          0.5350000000000001,
          0.23749999999999985,
          0.53125,
          0
         ],
         "yaxis": "y7"
        },
        {
         "marker": {
          "color": "black"
         },
         "mode": "markers",
         "name": "excitatory connections",
         "type": "scatter",
         "x": [
          0.9525,
          1,
          1.2475,
          1.44125,
          0.905,
          0.5674999999999999,
          0.42625,
          1.20125,
          0.20124999999999996,
          1.51125,
          1.18875,
          1.05625,
          0.3600000000000001,
          0.4037500000000001,
          0.013749999999999929,
          0.115,
          1.39125,
          0.0024999999999999467,
          0,
          0.07000000000000006,
          1.1800000000000002,
          0.72125,
          0.3200000000000001,
          1.2375,
          1.35625,
          0.02875000000000005,
          1.0275,
          0.2137500000000001,
          0.02750000000000008,
          1.01625,
          0.39625,
          1.18125,
          0.62375,
          0.91125,
          0.325,
          0.16500000000000006,
          0.78125,
          0.44,
          0.7150000000000001,
          1.32125,
          0.7637499999999999,
          1.3675000000000002,
          0.10250000000000004,
          0.28374999999999995,
          1.515,
          1.085,
          1.4925000000000002,
          0.90125,
          1.505,
          1.38875,
          0.0012499999999999734,
          0.5375000000000001,
          0.9575,
          1.41625,
          0.6512500000000001,
          1.025,
          1.52
         ],
         "xaxis": "x8",
         "y": [
          3.0387500000000003,
          2.9425,
          2.3200000000000003,
          1.93625,
          3.145,
          3.4025,
          3.6325,
          2.5675,
          4.14125,
          1.87125,
          2.6100000000000003,
          2.70125,
          3.79875,
          3.715,
          4.61875,
          4.30125,
          2.0725,
          4.7975,
          4.98,
          4.455,
          2.6575,
          3.25875,
          3.88375,
          2.5325,
          2.2262500000000003,
          4.46875,
          2.84,
          4.03625,
          4.55625,
          2.90125,
          3.75625,
          2.6225,
          3.36375,
          3.0725,
          3.85875,
          4.17875,
          3.175,
          3.5375,
          3.3325,
          2.2925000000000004,
          3.22,
          2.1475,
          4.3525,
          3.935,
          1.87,
          2.69625,
          1.8925,
          3.16625,
          1.8725,
          2.1412500000000003,
          4.84625,
          3.4925,
          2.96875,
          1.99875,
          3.34125,
          2.86375,
          1.82125
         ],
         "yaxis": "y8"
        },
        {
         "marker": {
          "color": "black"
         },
         "mode": "markers",
         "name": "excitatory connections",
         "type": "scatter",
         "x": [
          4.5525,
          4.4525,
          0,
          0.02625000000000011,
          1.31875,
          1.17125,
          1.59125,
          0.3387500000000001,
          0.021250000000000213,
          0.5962500000000004,
          1.42375,
          0.4237500000000001,
          0.7737499999999997,
          0.1037499999999998,
          1.15125,
          1.7425000000000002,
          1.55125,
          0.2975000000000003,
          0.6200000000000001,
          0.7662500000000003,
          1.91125,
          2.0225,
          0.5300000000000002,
          0.9874999999999998,
          1.475,
          1.81,
          2.1,
          1.88875,
          2.5425,
          2.4175,
          0.835,
          2.29625,
          2.73875,
          3.81625,
          2.605,
          2.3275,
          1.75875,
          2.1525,
          3.24375,
          2.945,
          3.07125,
          3.19,
          1.11625,
          0.9500000000000002,
          3.34625,
          0.6812500000000004,
          4.03875,
          2.26625,
          2.905,
          4.25,
          2.7,
          2.19875,
          2.43625,
          0.8499999999999996,
          1.5299999999999998,
          2.1125,
          2.85125,
          0.7350000000000003,
          1.04875,
          2.65875,
          0.18374999999999986,
          2.78875,
          1.11875,
          1.0637500000000002,
          2.9525,
          3.18625,
          3.705,
          2.23,
          3.035,
          3.58375,
          2.2375,
          3.8875,
          0.23749999999999985,
          3.9025,
          2.00375,
          0.1349999999999998,
          3.68625,
          2.4575,
          2.52125,
          1.9775,
          1.04625,
          0.4837499999999997,
          4.10125,
          3.37375,
          4.19875,
          4.40625,
          3.5700000000000003,
          0.5274999999999999,
          3.45875,
          4.125,
          0.9325,
          4.43125,
          1.8675,
          1.8475,
          2.96125,
          3.505,
          0.2699999999999996,
          0.28125,
          4.3425,
          1.0412499999999998
         ],
         "xaxis": "x9",
         "y": [
          1.82625,
          1.88875,
          16.145,
          15.3525,
          9.9975,
          10.48,
          8.8925,
          14.1525,
          16.03,
          13.27875,
          9.6625,
          13.72625,
          12.2625,
          14.88,
          10.9225,
          8.5675,
          9.2825,
          14.45,
          12.8925,
          12.70875,
          7.79125,
          7.5012500000000015,
          13.485,
          11.68875,
          9.485,
          8.275,
          7.3225,
          8.07375,
          5.7375,
          6.1862499999999985,
          12.125,
          6.4275,
          5.23375,
          3.27375,
          5.5725,
          6.300000000000002,
          8.52,
          7.08375,
          3.9025,
          4.7975,
          4.305,
          4.17,
          11.16,
          11.88625,
          3.875,
          12.88875,
          2.94125,
          6.635,
          4.91875,
          2.39875,
          5.37875,
          6.9275,
          6.0175,
          11.965,
          9.3775,
          7.19875,
          5.03625,
          12.71125,
          11.35375,
          5.4775,
          14.739999999999998,
          5.06875,
          11.045,
          11.315,
          4.5775,
          4.285,
          3.31625,
          6.865,
          4.47375,
          3.455,
          6.692500000000001,
          3.04125,
          14.72,
          2.96125,
          7.6625,
          14.87,
          3.4425,
          5.91625,
          5.89625,
          7.705,
          11.585,
          13.64375,
          2.895,
          3.72375,
          2.5975,
          2.19125,
          3.655,
          13.6275,
          3.71,
          2.715,
          11.95375,
          2.085,
          8.14875,
          8.22125,
          4.4975,
          3.65625,
          14.6,
          14.59125,
          2.28,
          11.58625
         ],
         "yaxis": "y9"
        }
       ],
       "layout": {
        "annotations": [
         {
          "font": {
           "size": 16
          },
          "showarrow": false,
          "text": "f: 1, exc: 5, inh: 2",
          "x": 0.14444444444444446,
          "xanchor": "center",
          "xref": "paper",
          "y": 1,
          "yanchor": "bottom",
          "yref": "paper"
         },
         {
          "font": {
           "size": 16
          },
          "showarrow": false,
          "text": "f: 1, exc: 2, inh: 2",
          "x": 0.5,
          "xanchor": "center",
          "xref": "paper",
          "y": 1,
          "yanchor": "bottom",
          "yref": "paper"
         },
         {
          "font": {
           "size": 16
          },
          "showarrow": false,
          "text": "f: 1, exc: 2, inh: 5",
          "x": 0.8555555555555556,
          "xanchor": "center",
          "xref": "paper",
          "y": 1,
          "yanchor": "bottom",
          "yref": "paper"
         },
         {
          "font": {
           "size": 16
          },
          "showarrow": false,
          "text": "f: 0.5, exc: 5, inh: 2",
          "x": 0.14444444444444446,
          "xanchor": "center",
          "xref": "paper",
          "y": 0.6111111111111112,
          "yanchor": "bottom",
          "yref": "paper"
         },
         {
          "font": {
           "size": 16
          },
          "showarrow": false,
          "text": "f: 0.5, exc: 2, inh: 2",
          "x": 0.5,
          "xanchor": "center",
          "xref": "paper",
          "y": 0.6111111111111112,
          "yanchor": "bottom",
          "yref": "paper"
         },
         {
          "font": {
           "size": 16
          },
          "showarrow": false,
          "text": "f: 0.5, exc: 2, inh: 5",
          "x": 0.8555555555555556,
          "xanchor": "center",
          "xref": "paper",
          "y": 0.6111111111111112,
          "yanchor": "bottom",
          "yref": "paper"
         },
         {
          "font": {
           "size": 16
          },
          "showarrow": false,
          "text": "f: 0.2, exc: 5, inh: 2",
          "x": 0.14444444444444446,
          "xanchor": "center",
          "xref": "paper",
          "y": 0.22222222222222224,
          "yanchor": "bottom",
          "yref": "paper"
         },
         {
          "font": {
           "size": 16
          },
          "showarrow": false,
          "text": "f: 0.2, exc: 2, inh: 2",
          "x": 0.5,
          "xanchor": "center",
          "xref": "paper",
          "y": 0.22222222222222224,
          "yanchor": "bottom",
          "yref": "paper"
         },
         {
          "font": {
           "size": 16
          },
          "showarrow": false,
          "text": "f: 0.2, exc: 2, inh: 5",
          "x": 0.8555555555555556,
          "xanchor": "center",
          "xref": "paper",
          "y": 0.22222222222222224,
          "yanchor": "bottom",
          "yref": "paper"
         },
         {
          "font": {
           "size": 16
          },
          "showarrow": false,
          "text": "Excitatory neural firing rate error (Hz)",
          "x": 0.5,
          "xanchor": "center",
          "xref": "paper",
          "y": 0,
          "yanchor": "top",
          "yref": "paper",
          "yshift": -30
         },
         {
          "font": {
           "size": 16
          },
          "showarrow": false,
          "text": "Inhibitory neural firing rate error (Hz)",
          "textangle": -90,
          "x": 0,
          "xanchor": "right",
          "xref": "paper",
          "xshift": -40,
          "y": 0.5,
          "yanchor": "middle",
          "yref": "paper"
         }
        ],
        "height": 900,
        "template": {
         "data": {
          "bar": [
           {
            "error_x": {
             "color": "#2a3f5f"
            },
            "error_y": {
             "color": "#2a3f5f"
            },
            "marker": {
             "line": {
              "color": "#E5ECF6",
              "width": 0.5
             }
            },
            "type": "bar"
           }
          ],
          "barpolar": [
           {
            "marker": {
             "line": {
              "color": "#E5ECF6",
              "width": 0.5
             }
            },
            "type": "barpolar"
           }
          ],
          "carpet": [
           {
            "aaxis": {
             "endlinecolor": "#2a3f5f",
             "gridcolor": "white",
             "linecolor": "white",
             "minorgridcolor": "white",
             "startlinecolor": "#2a3f5f"
            },
            "baxis": {
             "endlinecolor": "#2a3f5f",
             "gridcolor": "white",
             "linecolor": "white",
             "minorgridcolor": "white",
             "startlinecolor": "#2a3f5f"
            },
            "type": "carpet"
           }
          ],
          "choropleth": [
           {
            "colorbar": {
             "outlinewidth": 0,
             "ticks": ""
            },
            "type": "choropleth"
           }
          ],
          "contour": [
           {
            "colorbar": {
             "outlinewidth": 0,
             "ticks": ""
            },
            "colorscale": [
             [
              0,
              "#0d0887"
             ],
             [
              0.1111111111111111,
              "#46039f"
             ],
             [
              0.2222222222222222,
              "#7201a8"
             ],
             [
              0.3333333333333333,
              "#9c179e"
             ],
             [
              0.4444444444444444,
              "#bd3786"
             ],
             [
              0.5555555555555556,
              "#d8576b"
             ],
             [
              0.6666666666666666,
              "#ed7953"
             ],
             [
              0.7777777777777778,
              "#fb9f3a"
             ],
             [
              0.8888888888888888,
              "#fdca26"
             ],
             [
              1,
              "#f0f921"
             ]
            ],
            "type": "contour"
           }
          ],
          "contourcarpet": [
           {
            "colorbar": {
             "outlinewidth": 0,
             "ticks": ""
            },
            "type": "contourcarpet"
           }
          ],
          "heatmap": [
           {
            "colorbar": {
             "outlinewidth": 0,
             "ticks": ""
            },
            "colorscale": [
             [
              0,
              "#0d0887"
             ],
             [
              0.1111111111111111,
              "#46039f"
             ],
             [
              0.2222222222222222,
              "#7201a8"
             ],
             [
              0.3333333333333333,
              "#9c179e"
             ],
             [
              0.4444444444444444,
              "#bd3786"
             ],
             [
              0.5555555555555556,
              "#d8576b"
             ],
             [
              0.6666666666666666,
              "#ed7953"
             ],
             [
              0.7777777777777778,
              "#fb9f3a"
             ],
             [
              0.8888888888888888,
              "#fdca26"
             ],
             [
              1,
              "#f0f921"
             ]
            ],
            "type": "heatmap"
           }
          ],
          "heatmapgl": [
           {
            "colorbar": {
             "outlinewidth": 0,
             "ticks": ""
            },
            "colorscale": [
             [
              0,
              "#0d0887"
             ],
             [
              0.1111111111111111,
              "#46039f"
             ],
             [
              0.2222222222222222,
              "#7201a8"
             ],
             [
              0.3333333333333333,
              "#9c179e"
             ],
             [
              0.4444444444444444,
              "#bd3786"
             ],
             [
              0.5555555555555556,
              "#d8576b"
             ],
             [
              0.6666666666666666,
              "#ed7953"
             ],
             [
              0.7777777777777778,
              "#fb9f3a"
             ],
             [
              0.8888888888888888,
              "#fdca26"
             ],
             [
              1,
              "#f0f921"
             ]
            ],
            "type": "heatmapgl"
           }
          ],
          "histogram": [
           {
            "marker": {
             "colorbar": {
              "outlinewidth": 0,
              "ticks": ""
             }
            },
            "type": "histogram"
           }
          ],
          "histogram2d": [
           {
            "colorbar": {
             "outlinewidth": 0,
             "ticks": ""
            },
            "colorscale": [
             [
              0,
              "#0d0887"
             ],
             [
              0.1111111111111111,
              "#46039f"
             ],
             [
              0.2222222222222222,
              "#7201a8"
             ],
             [
              0.3333333333333333,
              "#9c179e"
             ],
             [
              0.4444444444444444,
              "#bd3786"
             ],
             [
              0.5555555555555556,
              "#d8576b"
             ],
             [
              0.6666666666666666,
              "#ed7953"
             ],
             [
              0.7777777777777778,
              "#fb9f3a"
             ],
             [
              0.8888888888888888,
              "#fdca26"
             ],
             [
              1,
              "#f0f921"
             ]
            ],
            "type": "histogram2d"
           }
          ],
          "histogram2dcontour": [
           {
            "colorbar": {
             "outlinewidth": 0,
             "ticks": ""
            },
            "colorscale": [
             [
              0,
              "#0d0887"
             ],
             [
              0.1111111111111111,
              "#46039f"
             ],
             [
              0.2222222222222222,
              "#7201a8"
             ],
             [
              0.3333333333333333,
              "#9c179e"
             ],
             [
              0.4444444444444444,
              "#bd3786"
             ],
             [
              0.5555555555555556,
              "#d8576b"
             ],
             [
              0.6666666666666666,
              "#ed7953"
             ],
             [
              0.7777777777777778,
              "#fb9f3a"
             ],
             [
              0.8888888888888888,
              "#fdca26"
             ],
             [
              1,
              "#f0f921"
             ]
            ],
            "type": "histogram2dcontour"
           }
          ],
          "mesh3d": [
           {
            "colorbar": {
             "outlinewidth": 0,
             "ticks": ""
            },
            "type": "mesh3d"
           }
          ],
          "parcoords": [
           {
            "line": {
             "colorbar": {
              "outlinewidth": 0,
              "ticks": ""
             }
            },
            "type": "parcoords"
           }
          ],
          "pie": [
           {
            "automargin": true,
            "type": "pie"
           }
          ],
          "scatter": [
           {
            "marker": {
             "colorbar": {
              "outlinewidth": 0,
              "ticks": ""
             }
            },
            "type": "scatter"
           }
          ],
          "scatter3d": [
           {
            "line": {
             "colorbar": {
              "outlinewidth": 0,
              "ticks": ""
             }
            },
            "marker": {
             "colorbar": {
              "outlinewidth": 0,
              "ticks": ""
             }
            },
            "type": "scatter3d"
           }
          ],
          "scattercarpet": [
           {
            "marker": {
             "colorbar": {
              "outlinewidth": 0,
              "ticks": ""
             }
            },
            "type": "scattercarpet"
           }
          ],
          "scattergeo": [
           {
            "marker": {
             "colorbar": {
              "outlinewidth": 0,
              "ticks": ""
             }
            },
            "type": "scattergeo"
           }
          ],
          "scattergl": [
           {
            "marker": {
             "colorbar": {
              "outlinewidth": 0,
              "ticks": ""
             }
            },
            "type": "scattergl"
           }
          ],
          "scattermapbox": [
           {
            "marker": {
             "colorbar": {
              "outlinewidth": 0,
              "ticks": ""
             }
            },
            "type": "scattermapbox"
           }
          ],
          "scatterpolar": [
           {
            "marker": {
             "colorbar": {
              "outlinewidth": 0,
              "ticks": ""
             }
            },
            "type": "scatterpolar"
           }
          ],
          "scatterpolargl": [
           {
            "marker": {
             "colorbar": {
              "outlinewidth": 0,
              "ticks": ""
             }
            },
            "type": "scatterpolargl"
           }
          ],
          "scatterternary": [
           {
            "marker": {
             "colorbar": {
              "outlinewidth": 0,
              "ticks": ""
             }
            },
            "type": "scatterternary"
           }
          ],
          "surface": [
           {
            "colorbar": {
             "outlinewidth": 0,
             "ticks": ""
            },
            "colorscale": [
             [
              0,
              "#0d0887"
             ],
             [
              0.1111111111111111,
              "#46039f"
             ],
             [
              0.2222222222222222,
              "#7201a8"
             ],
             [
              0.3333333333333333,
              "#9c179e"
             ],
             [
              0.4444444444444444,
              "#bd3786"
             ],
             [
              0.5555555555555556,
              "#d8576b"
             ],
             [
              0.6666666666666666,
              "#ed7953"
             ],
             [
              0.7777777777777778,
              "#fb9f3a"
             ],
             [
              0.8888888888888888,
              "#fdca26"
             ],
             [
              1,
              "#f0f921"
             ]
            ],
            "type": "surface"
           }
          ],
          "table": [
           {
            "cells": {
             "fill": {
              "color": "#EBF0F8"
             },
             "line": {
              "color": "white"
             }
            },
            "header": {
             "fill": {
              "color": "#C8D4E3"
             },
             "line": {
              "color": "white"
             }
            },
            "type": "table"
           }
          ]
         },
         "layout": {
          "annotationdefaults": {
           "arrowcolor": "#2a3f5f",
           "arrowhead": 0,
           "arrowwidth": 1
          },
          "coloraxis": {
           "colorbar": {
            "outlinewidth": 0,
            "ticks": ""
           }
          },
          "colorscale": {
           "diverging": [
            [
             0,
             "#8e0152"
            ],
            [
             0.1,
             "#c51b7d"
            ],
            [
             0.2,
             "#de77ae"
            ],
            [
             0.3,
             "#f1b6da"
            ],
            [
             0.4,
             "#fde0ef"
            ],
            [
             0.5,
             "#f7f7f7"
            ],
            [
             0.6,
             "#e6f5d0"
            ],
            [
             0.7,
             "#b8e186"
            ],
            [
             0.8,
             "#7fbc41"
            ],
            [
             0.9,
             "#4d9221"
            ],
            [
             1,
             "#276419"
            ]
           ],
           "sequential": [
            [
             0,
             "#0d0887"
            ],
            [
             0.1111111111111111,
             "#46039f"
            ],
            [
             0.2222222222222222,
             "#7201a8"
            ],
            [
             0.3333333333333333,
             "#9c179e"
            ],
            [
             0.4444444444444444,
             "#bd3786"
            ],
            [
             0.5555555555555556,
             "#d8576b"
            ],
            [
             0.6666666666666666,
             "#ed7953"
            ],
            [
             0.7777777777777778,
             "#fb9f3a"
            ],
            [
             0.8888888888888888,
             "#fdca26"
            ],
            [
             1,
             "#f0f921"
            ]
           ],
           "sequentialminus": [
            [
             0,
             "#0d0887"
            ],
            [
             0.1111111111111111,
             "#46039f"
            ],
            [
             0.2222222222222222,
             "#7201a8"
            ],
            [
             0.3333333333333333,
             "#9c179e"
            ],
            [
             0.4444444444444444,
             "#bd3786"
            ],
            [
             0.5555555555555556,
             "#d8576b"
            ],
            [
             0.6666666666666666,
             "#ed7953"
            ],
            [
             0.7777777777777778,
             "#fb9f3a"
            ],
            [
             0.8888888888888888,
             "#fdca26"
            ],
            [
             1,
             "#f0f921"
            ]
           ]
          },
          "colorway": [
           "#636efa",
           "#EF553B",
           "#00cc96",
           "#ab63fa",
           "#FFA15A",
           "#19d3f3",
           "#FF6692",
           "#B6E880",
           "#FF97FF",
           "#FECB52"
          ],
          "font": {
           "color": "#2a3f5f"
          },
          "geo": {
           "bgcolor": "white",
           "lakecolor": "white",
           "landcolor": "#E5ECF6",
           "showlakes": true,
           "showland": true,
           "subunitcolor": "white"
          },
          "hoverlabel": {
           "align": "left"
          },
          "hovermode": "closest",
          "mapbox": {
           "style": "light"
          },
          "paper_bgcolor": "white",
          "plot_bgcolor": "#E5ECF6",
          "polar": {
           "angularaxis": {
            "gridcolor": "white",
            "linecolor": "white",
            "ticks": ""
           },
           "bgcolor": "#E5ECF6",
           "radialaxis": {
            "gridcolor": "white",
            "linecolor": "white",
            "ticks": ""
           }
          },
          "scene": {
           "xaxis": {
            "backgroundcolor": "#E5ECF6",
            "gridcolor": "white",
            "gridwidth": 2,
            "linecolor": "white",
            "showbackground": true,
            "ticks": "",
            "zerolinecolor": "white"
           },
           "yaxis": {
            "backgroundcolor": "#E5ECF6",
            "gridcolor": "white",
            "gridwidth": 2,
            "linecolor": "white",
            "showbackground": true,
            "ticks": "",
            "zerolinecolor": "white"
           },
           "zaxis": {
            "backgroundcolor": "#E5ECF6",
            "gridcolor": "white",
            "gridwidth": 2,
            "linecolor": "white",
            "showbackground": true,
            "ticks": "",
            "zerolinecolor": "white"
           }
          },
          "shapedefaults": {
           "line": {
            "color": "#2a3f5f"
           }
          },
          "ternary": {
           "aaxis": {
            "gridcolor": "white",
            "linecolor": "white",
            "ticks": ""
           },
           "baxis": {
            "gridcolor": "white",
            "linecolor": "white",
            "ticks": ""
           },
           "bgcolor": "#E5ECF6",
           "caxis": {
            "gridcolor": "white",
            "linecolor": "white",
            "ticks": ""
           }
          },
          "title": {
           "x": 0.05
          },
          "xaxis": {
           "automargin": true,
           "gridcolor": "white",
           "linecolor": "white",
           "ticks": "",
           "title": {
            "standoff": 15
           },
           "zerolinecolor": "white",
           "zerolinewidth": 2
          },
          "yaxis": {
           "automargin": true,
           "gridcolor": "white",
           "linecolor": "white",
           "ticks": "",
           "title": {
            "standoff": 15
           },
           "zerolinecolor": "white",
           "zerolinewidth": 2
          }
         }
        },
        "title": {
         "text": "Final frontiers of firing error"
        },
        "width": 900,
        "xaxis": {
         "anchor": "y",
         "domain": [
          0,
          0.2888888888888889
         ]
        },
        "xaxis2": {
         "anchor": "y2",
         "domain": [
          0.35555555555555557,
          0.6444444444444445
         ]
        },
        "xaxis3": {
         "anchor": "y3",
         "domain": [
          0.7111111111111111,
          1
         ]
        },
        "xaxis4": {
         "anchor": "y4",
         "domain": [
          0,
          0.2888888888888889
         ]
        },
        "xaxis5": {
         "anchor": "y5",
         "domain": [
          0.35555555555555557,
          0.6444444444444445
         ]
        },
        "xaxis6": {
         "anchor": "y6",
         "domain": [
          0.7111111111111111,
          1
         ]
        },
        "xaxis7": {
         "anchor": "y7",
         "domain": [
          0,
          0.2888888888888889
         ]
        },
        "xaxis8": {
         "anchor": "y8",
         "domain": [
          0.35555555555555557,
          0.6444444444444445
         ]
        },
        "xaxis9": {
         "anchor": "y9",
         "domain": [
          0.7111111111111111,
          1
         ]
        },
        "yaxis": {
         "anchor": "x",
         "domain": [
          0.7777777777777778,
          1
         ]
        },
        "yaxis2": {
         "anchor": "x2",
         "domain": [
          0.7777777777777778,
          1
         ]
        },
        "yaxis3": {
         "anchor": "x3",
         "domain": [
          0.7777777777777778,
          1
         ]
        },
        "yaxis4": {
         "anchor": "x4",
         "domain": [
          0.3888888888888889,
          0.6111111111111112
         ]
        },
        "yaxis5": {
         "anchor": "x5",
         "domain": [
          0.3888888888888889,
          0.6111111111111112
         ]
        },
        "yaxis6": {
         "anchor": "x6",
         "domain": [
          0.3888888888888889,
          0.6111111111111112
         ]
        },
        "yaxis7": {
         "anchor": "x7",
         "domain": [
          0,
          0.22222222222222224
         ]
        },
        "yaxis8": {
         "anchor": "x8",
         "domain": [
          0,
          0.22222222222222224
         ]
        },
        "yaxis9": {
         "anchor": "x9",
         "domain": [
          0,
          0.22222222222222224
         ]
        }
       }
      },
      "text/html": [
       "<div>                            <div id=\"e9dd06e7-4bd1-48fd-81a8-d3d3d18de129\" class=\"plotly-graph-div\" style=\"height:900px; width:900px;\"></div>            <script type=\"text/javascript\">                require([\"plotly\"], function(Plotly) {                    window.PLOTLYENV=window.PLOTLYENV || {};                                    if (document.getElementById(\"e9dd06e7-4bd1-48fd-81a8-d3d3d18de129\")) {                    Plotly.newPlot(                        \"e9dd06e7-4bd1-48fd-81a8-d3d3d18de129\",                        [{\"marker\": {\"color\": \"black\"}, \"mode\": \"markers\", \"name\": \"excitatory connections\", \"type\": \"scatter\", \"x\": [0.86375, 0.845, 0.0, 0.5774999999999999, 0.0024999999999999467, 0.6512500000000001, 0.10250000000000004, 0.013749999999999929, 0.0049999999999998926, 0.006250000000000089, 0.11874999999999993, 0.565, 0.6425000000000001, 0.7024999999999999, 0.69875], \"xaxis\": \"x\", \"y\": [0.0, 0.001249999999999751, 1.1050000000000004, 0.2850000000000001, 1.01375, 0.1900000000000004, 0.8487499999999999, 0.8737500000000002, 1.0099999999999998, 0.9812500000000002, 0.3775000000000004, 0.34375, 0.19125000000000011, 0.011250000000000426, 0.08999999999999986], \"yaxis\": \"y\"}, {\"marker\": {\"color\": \"black\"}, \"mode\": \"markers\", \"name\": \"excitatory connections\", \"type\": \"scatter\", \"x\": [1.3975, 0.72875, 0.02750000000000008, 1.4975, 0.49875, 1.485, 1.10625, 1.54, 0.80375, 1.4475, 1.4025, 1.2825, 0.5925, 0.4925, 1.11125, 1.41625, 0.3225, 1.3425, 0.12874999999999992, 0.4424999999999999, 1.01375, 1.47375, 0.1625000000000001, 1.59625, 0.6799999999999999, 0.6937500000000001, 0.06000000000000005, 0.71, 1.1575, 0.6637500000000001, 0.08374999999999999, 0.0012499999999999734, 1.4762499999999998, 1.36, 0.12749999999999995, 0.018749999999999826, 0.0049999999999998926, 0.04249999999999998, 1.53125, 1.16125, 0.44625, 0.98, 0.3474999999999999, 1.24, 1.4825, 1.3725, 1.63, 0.3587499999999999, 1.4075, 1.25, 0.6675, 0.04374999999999996, 1.24375, 0.30125, 0.34375, 1.56875, 0.0024999999999999467, 0.8500000000000001, 0.74125, 0.0012500000000001956, 1.55, 0.21750000000000005, 1.08375], \"xaxis\": \"x2\", \"y\": [2.02875, 3.1587500000000004, 4.0025, 1.765, 3.36125, 1.7712500000000002, 2.62625, 1.7374999999999998, 3.0175, 1.9075, 2.01, 2.175, 3.31125, 3.42, 2.54625, 1.94375, 3.6675, 2.11625, 3.86375, 3.4875, 2.7175, 1.895, 3.7475, 1.395, 3.28, 3.26, 3.9375, 3.16625, 2.45125, 3.29875, 3.88875, 4.4375, 1.8875, 2.06625, 3.86875, 4.0325, 4.0825, 3.955, 1.7525, 2.33375, 3.4825, 2.7725, 3.6375, 2.3275, 1.88, 2.0337500000000004, 1.38, 3.575, 1.98625, 2.2675, 3.285, 3.94125, 2.3200000000000003, 3.67, 3.6475, 1.4075000000000002, 4.22, 2.87, 3.1187500000000004, 4.38375, 1.5612499999999998, 3.6925, 2.6500000000000004], \"yaxis\": \"y2\"}, {\"marker\": {\"color\": \"black\"}, \"mode\": \"markers\", \"name\": \"excitatory connections\", \"type\": \"scatter\", \"x\": [4.27625, 4.6525, 1.95375, 2.09125, 0.035000000000000135, 1.87125, 2.19375, 0.8162500000000001, 1.0, 1.5225, 0.054999999999999716, 1.11, 2.23125, 2.25125, 1.705, 0.6799999999999997, 0.8724999999999996, 1.7275, 0.4550000000000001, 0.3949999999999996, 0.5650000000000004, 1.28125, 1.3275, 2.65125, 0.13250000000000028, 2.61625, 1.4700000000000002, 2.7675, 1.3849999999999998, 2.4675, 2.43, 2.6825, 1.25, 1.2675, 2.85125, 2.4475, 0.6662499999999998, 3.725, 3.3625, 3.05625, 3.2575000000000003, 0.6712499999999997, 3.61625, 3.1025, 2.9675, 1.46375, 3.1825, 3.57125, 4.37, 3.48, 3.8175, 3.2275, 2.9425, 3.4325, 4.4350000000000005, 4.26, 4.4, 3.89375, 4.1375, 3.47375, 3.44625, 3.77625, 4.615, 3.77, 4.2675, 2.96, 4.1525, 4.08625, 4.54125, 4.01625, 4.4475, 4.27375, 4.59, 3.605, 4.5025, 4.47125, 4.5225, 4.00125, 3.9125, 4.62875, 3.94, 4.0025, 4.56625, 4.52, 4.0600000000000005, 3.96125, 3.97875, 2.82125, 0.2699999999999996, 4.15875, 0.0, 2.48, 0.1825000000000001, 2.6225], \"xaxis\": \"x3\", \"y\": [2.1362500000000004, 1.3937499999999998, 8.0825, 7.35375, 15.3975, 8.8725, 6.725, 12.265, 11.73125, 9.7, 14.64125, 11.12625, 6.25, 5.74625, 9.4025, 12.6375, 11.83875, 9.11, 13.2575, 13.56125, 13.06, 10.72625, 10.3975, 4.525, 14.4975, 5.0725, 10.125, 4.22375, 10.22375, 5.28375, 5.605, 4.4625, 11.05625, 10.9775, 4.0975, 5.57875, 12.8875, 3.16125, 3.6, 3.87375, 3.6175, 12.88, 3.2662500000000003, 3.79375, 3.96, 10.14375, 3.76875, 3.345, 2.125, 3.3462500000000004, 3.03125, 3.735, 4.0925, 3.59125, 1.96875, 2.39875, 2.0975, 3.02125, 2.7125000000000004, 3.43625, 3.53, 3.0625, 1.46375, 3.1525, 2.29125, 4.07625, 2.62, 2.7175, 1.63875, 2.78625, 1.88, 2.165, 1.5475, 3.3, 1.84125, 1.85375, 1.7200000000000002, 2.9375, 2.99125, 1.3975, 2.97375, 2.8225, 1.6150000000000002, 1.7912499999999998, 2.77375, 2.95625, 2.9450000000000003, 4.12375, 13.85875, 2.4087500000000004, 15.95625, 5.0875, 14.3475, 4.88625], \"yaxis\": \"y3\"}, {\"marker\": {\"color\": \"black\"}, \"mode\": \"markers\", \"name\": \"excitatory connections\", \"type\": \"scatter\", \"x\": [0.5049999999999999, 0.029999999999999805, 0.8925000000000001, 0.4112499999999999, 0.64375, 1.01875, 0.0674999999999999, 0.115, 0.2, 0.5175000000000001, 0.6225, 0.017500000000000068, 0.0037499999999999205, 0.34375, 0.0049999999999998926, 0.2562500000000001, 0.31499999999999995, 0.7925, 1.1525, 0.06499999999999995, 0.3487499999999999, 0.9625, 0.08125000000000004, 0.77875, 0.87625, 0.7275, 0.02875000000000005, 0.0012500000000001956, 0.5575000000000001, 0.0012499999999999734], \"xaxis\": \"x4\", \"y\": [0.5487500000000001, 1.5462499999999997, 0.02625000000000011, 0.6137499999999996, 0.3274999999999997, 0.001249999999999751, 1.38375, 1.0675, 0.9812500000000002, 0.4874999999999998, 0.40749999999999975, 1.6574999999999998, 1.795, 0.8362499999999997, 1.7024999999999997, 0.9074999999999998, 0.88375, 0.08124999999999982, 0.0, 1.4662499999999996, 0.7112499999999997, 0.003750000000000142, 1.295, 0.17124999999999968, 0.057500000000000114, 0.2387499999999996, 1.6087499999999997, 1.81, 0.4675000000000002, 2.0525], \"yaxis\": \"y4\"}, {\"marker\": {\"color\": \"black\"}, \"mode\": \"markers\", \"name\": \"excitatory connections\", \"type\": \"scatter\", \"x\": [1.1800000000000002, 1.45125, 1.2275, 0.5037499999999999, 1.12875, 1.135, 1.30625, 1.465, 0.0012499999999999734, 0.7562500000000001, 0.0037499999999999205, 0.7537499999999999, 0.21750000000000005, 1.3512499999999998, 1.39375, 0.07125000000000004, 0.07374999999999997, 0.8374999999999999, 1.3675000000000002, 0.26125, 1.16, 0.0, 0.41875, 0.5075000000000001, 0.6837500000000001, 1.1925, 1.0475, 0.35375, 0.52125, 1.3075, 0.12250000000000005, 0.4325000000000001, 1.2075, 1.52, 0.6412500000000001, 1.29875, 1.5175, 1.3362500000000002, 0.97125, 1.145, 1.06625, 0.58125, 1.58375, 1.345, 1.3775, 1.51, 0.885, 0.08374999999999999, 0.09499999999999996, 0.3487499999999999, 1.26, 1.225, 0.99125, 0.7987500000000001, 0.3600000000000001, 1.4525, 1.25375, 0.6025, 0.11375000000000003, 1.4449999999999998, 1.44125, 0.013749999999999929, 0.13874999999999993, 1.2975, 0.2875000000000001, 0.006250000000000089, 0.915, 0.8025, 1.50875, 1.55625, 0.012499999999999956, 0.35250000000000004, 0.7462500000000001, 0.2250000000000001], \"xaxis\": \"x5\", \"y\": [2.6225, 1.97375, 2.515, 3.60875, 2.75125, 2.72875, 2.33625, 1.84375, 4.77875, 3.2325, 4.67875, 3.265, 4.0475, 2.24, 2.05, 4.3975, 4.395, 3.12, 2.21375, 3.95375, 2.6625, 5.04125, 3.745, 3.6075, 3.3200000000000003, 2.5775, 2.795, 3.78, 3.55, 2.2887500000000003, 4.1175, 3.62375, 2.5725, 1.64, 3.3675, 2.42375, 1.80125, 2.27125, 2.89625, 2.67375, 2.7612500000000004, 3.5225, 1.6, 2.245, 2.16125, 1.835, 3.0675, 4.38, 4.34625, 3.84, 2.4450000000000003, 2.54875, 2.8550000000000004, 3.19375, 3.7575, 1.91625, 2.46, 3.4537500000000003, 4.245, 2.03125, 2.0337500000000004, 4.49, 4.0775, 2.435, 3.88625, 4.6775, 3.00375, 3.15125, 1.84125, 1.63875, 4.51375, 3.79125, 3.31625, 4.02875], \"yaxis\": \"y5\"}, {\"marker\": {\"color\": \"black\"}, \"mode\": \"markers\", \"name\": \"excitatory connections\", \"type\": \"scatter\", \"x\": [4.62, 4.4925, 0.012500000000000178, 0.02374999999999972, 0.4424999999999999, 0.22499999999999964, 0.40625, 0.8487499999999999, 0.057500000000000114, 0.8475000000000001, 1.5975, 0.2750000000000004, 2.03, 0.6124999999999998, 1.6175000000000002, 0.7737499999999997, 0.5462499999999997, 1.0625, 2.3975, 2.01875, 2.1925, 2.44, 1.22375, 1.4725, 1.5625, 1.79875, 1.2325, 1.1324999999999998, 1.01625, 0.9325, 2.1725, 1.415, 0.3362499999999997, 1.9225, 3.04875, 1.9675, 1.7712500000000002, 1.9475, 1.7912499999999998, 4.325, 2.05875, 2.645, 4.4275, 2.25625, 1.38, 3.11625, 1.27875, 0.8049999999999997, 0.9825, 3.79375, 2.1425, 4.09625, 1.205, 3.67875, 4.1625, 1.6875, 2.745, 2.69625, 2.6375, 2.99, 1.55875, 3.8675, 4.54, 4.45625, 0.9400000000000004, 2.795, 4.015, 3.45625, 3.51, 2.4825, 3.14375, 3.92125, 2.30375, 3.25875, 3.6325, 3.23625, 2.37375, 3.5725, 4.2575, 3.20125, 3.3375, 3.985, 2.85625, 2.34375, 4.28, 2.60125, 1.2625000000000002, 2.5625, 2.88875, 1.545, 2.5525, 2.3475, 2.91875, 3.38875, 2.55875, 2.7625, 2.97375, 3.43125, 1.40125, 2.94], \"xaxis\": \"x6\", \"y\": [1.62125, 1.805, 16.0175, 15.263750000000002, 13.44125, 14.67625, 14.0575, 12.11125, 14.99375, 12.7, 9.47375, 14.2975, 7.647500000000001, 13.10125, 9.05875, 12.94375, 13.24375, 11.4, 6.463749999999999, 8.07875, 7.0462500000000015, 6.0950000000000015, 10.96875, 9.9925, 9.67125, 8.6075, 10.665, 11.16375, 11.56, 11.91875, 7.31875, 10.275, 14.21, 8.43625, 4.51625, 8.1125, 8.9475, 8.38, 8.7525, 2.33625, 7.50375, 5.47, 2.135, 6.88125, 10.37125, 4.3425, 10.5175, 12.78, 11.7275, 3.25125, 7.41625, 2.7875, 11.15125, 3.33375, 2.63, 9.0025, 5.275, 5.3675, 5.68125, 4.62375, 9.91, 3.16875, 1.70125, 1.9525, 11.8, 5.1175, 2.8575, 3.6825, 3.5575, 6.018750000000002, 4.23625, 3.04, 6.817500000000001, 3.93625, 3.4450000000000003, 4.09375, 6.5787499999999985, 3.4775, 2.60375, 4.16, 3.89625, 2.9800000000000004, 4.99625, 6.73625, 2.50375, 5.72375, 10.5625, 5.81125, 4.90375, 9.925, 5.99375, 6.645, 4.80625, 3.8725, 5.89, 5.12625, 4.735, 3.77, 10.32125, 4.76], \"yaxis\": \"y6\"}, {\"marker\": {\"color\": \"black\"}, \"mode\": \"markers\", \"name\": \"excitatory connections\", \"type\": \"scatter\", \"x\": [0.7324999999999999, 0.8925000000000001, 0.6100000000000001, 0.95375, 0.17999999999999994, 0.3174999999999999, 0.0, 0.58375, 0.92, 0.0462499999999999, 0.4537500000000001, 0.2749999999999999, 0.2725, 0.74875, 0.6125, 0.20500000000000007, 0.24125, 0.8287500000000001, 0.3899999999999999, 0.3925000000000001, 0.7, 0.9575, 0.13749999999999996, 0.05624999999999991, 0.032499999999999966, 0.3887499999999999, 0.8225, 0.0049999999999998926, 0.0012500000000001956, 0.7224999999999999, 0.99875, 0.82375, 0.07624999999999993, 0.5575000000000001, 0.66875, 0.18375000000000008, 0.01124999999999998, 0.16999999999999993, 0.89625, 0.4950000000000001, 0.80375, 0.5562499999999999, 1.04375], \"xaxis\": \"x7\", \"y\": [0.2725, 0.11000000000000032, 0.4675000000000002, 0.027499999999999858, 1.1825, 0.8125, 1.8425, 0.4737499999999999, 0.043750000000000185, 1.5, 0.5949999999999998, 0.9574999999999996, 1.0625, 0.2549999999999999, 0.4325000000000001, 1.1025, 1.07125, 0.13750000000000018, 0.7562499999999996, 0.6037499999999998, 0.3687500000000004, 0.0049999999999998926, 1.2312500000000002, 1.4662499999999996, 1.5275, 0.7975000000000003, 0.2162499999999996, 1.5475000000000003, 1.825, 0.2999999999999998, 0.001249999999999751, 0.20500000000000007, 1.3250000000000002, 0.5300000000000002, 0.37875000000000014, 1.1362500000000004, 1.53125, 1.19125, 0.08249999999999957, 0.5350000000000001, 0.23749999999999985, 0.53125, 0.0], \"yaxis\": \"y7\"}, {\"marker\": {\"color\": \"black\"}, \"mode\": \"markers\", \"name\": \"excitatory connections\", \"type\": \"scatter\", \"x\": [0.9525, 1.0, 1.2475, 1.44125, 0.905, 0.5674999999999999, 0.42625, 1.20125, 0.20124999999999996, 1.51125, 1.18875, 1.05625, 0.3600000000000001, 0.4037500000000001, 0.013749999999999929, 0.115, 1.39125, 0.0024999999999999467, 0.0, 0.07000000000000006, 1.1800000000000002, 0.72125, 0.3200000000000001, 1.2375, 1.35625, 0.02875000000000005, 1.0275, 0.2137500000000001, 0.02750000000000008, 1.01625, 0.39625, 1.18125, 0.62375, 0.91125, 0.325, 0.16500000000000006, 0.78125, 0.44, 0.7150000000000001, 1.32125, 0.7637499999999999, 1.3675000000000002, 0.10250000000000004, 0.28374999999999995, 1.515, 1.085, 1.4925000000000002, 0.90125, 1.505, 1.38875, 0.0012499999999999734, 0.5375000000000001, 0.9575, 1.41625, 0.6512500000000001, 1.025, 1.52], \"xaxis\": \"x8\", \"y\": [3.0387500000000003, 2.9425, 2.3200000000000003, 1.93625, 3.145, 3.4025, 3.6325, 2.5675, 4.14125, 1.87125, 2.6100000000000003, 2.70125, 3.79875, 3.715, 4.61875, 4.30125, 2.0725, 4.7975, 4.98, 4.455, 2.6575, 3.25875, 3.88375, 2.5325, 2.2262500000000003, 4.46875, 2.84, 4.03625, 4.55625, 2.90125, 3.75625, 2.6225, 3.36375, 3.0725, 3.85875, 4.17875, 3.175, 3.5375, 3.3325, 2.2925000000000004, 3.22, 2.1475, 4.3525, 3.935, 1.87, 2.69625, 1.8925, 3.16625, 1.8725, 2.1412500000000003, 4.84625, 3.4925, 2.96875, 1.99875, 3.34125, 2.86375, 1.82125], \"yaxis\": \"y8\"}, {\"marker\": {\"color\": \"black\"}, \"mode\": \"markers\", \"name\": \"excitatory connections\", \"type\": \"scatter\", \"x\": [4.5525, 4.4525, 0.0, 0.02625000000000011, 1.31875, 1.17125, 1.59125, 0.3387500000000001, 0.021250000000000213, 0.5962500000000004, 1.42375, 0.4237500000000001, 0.7737499999999997, 0.1037499999999998, 1.15125, 1.7425000000000002, 1.55125, 0.2975000000000003, 0.6200000000000001, 0.7662500000000003, 1.91125, 2.0225, 0.5300000000000002, 0.9874999999999998, 1.475, 1.81, 2.1, 1.88875, 2.5425, 2.4175, 0.835, 2.29625, 2.73875, 3.81625, 2.605, 2.3275, 1.75875, 2.1525, 3.24375, 2.945, 3.07125, 3.19, 1.11625, 0.9500000000000002, 3.34625, 0.6812500000000004, 4.03875, 2.26625, 2.905, 4.25, 2.7, 2.19875, 2.43625, 0.8499999999999996, 1.5299999999999998, 2.1125, 2.85125, 0.7350000000000003, 1.04875, 2.65875, 0.18374999999999986, 2.78875, 1.11875, 1.0637500000000002, 2.9525, 3.18625, 3.705, 2.23, 3.035, 3.58375, 2.2375, 3.8875, 0.23749999999999985, 3.9025, 2.00375, 0.1349999999999998, 3.68625, 2.4575, 2.52125, 1.9775, 1.04625, 0.4837499999999997, 4.10125, 3.37375, 4.19875, 4.40625, 3.5700000000000003, 0.5274999999999999, 3.45875, 4.125, 0.9325, 4.43125, 1.8675, 1.8475, 2.96125, 3.505, 0.2699999999999996, 0.28125, 4.3425, 1.0412499999999998], \"xaxis\": \"x9\", \"y\": [1.82625, 1.88875, 16.145, 15.3525, 9.9975, 10.48, 8.8925, 14.1525, 16.03, 13.27875, 9.6625, 13.72625, 12.2625, 14.88, 10.9225, 8.5675, 9.2825, 14.45, 12.8925, 12.70875, 7.79125, 7.5012500000000015, 13.485, 11.68875, 9.485, 8.275, 7.3225, 8.07375, 5.7375, 6.1862499999999985, 12.125, 6.4275, 5.23375, 3.27375, 5.5725, 6.300000000000002, 8.52, 7.08375, 3.9025, 4.7975, 4.305, 4.17, 11.16, 11.88625, 3.875, 12.88875, 2.94125, 6.635, 4.91875, 2.39875, 5.37875, 6.9275, 6.0175, 11.965, 9.3775, 7.19875, 5.03625, 12.71125, 11.35375, 5.4775, 14.739999999999998, 5.06875, 11.045, 11.315, 4.5775, 4.285, 3.31625, 6.865, 4.47375, 3.455, 6.692500000000001, 3.04125, 14.72, 2.96125, 7.6625, 14.87, 3.4425, 5.91625, 5.89625, 7.705, 11.585, 13.64375, 2.895, 3.72375, 2.5975, 2.19125, 3.655, 13.6275, 3.71, 2.715, 11.95375, 2.085, 8.14875, 8.22125, 4.4975, 3.65625, 14.6, 14.59125, 2.28, 11.58625], \"yaxis\": \"y9\"}],                        {\"annotations\": [{\"font\": {\"size\": 16}, \"showarrow\": false, \"text\": \"f: 1, exc: 5, inh: 2\", \"x\": 0.14444444444444446, \"xanchor\": \"center\", \"xref\": \"paper\", \"y\": 1.0, \"yanchor\": \"bottom\", \"yref\": \"paper\"}, {\"font\": {\"size\": 16}, \"showarrow\": false, \"text\": \"f: 1, exc: 2, inh: 2\", \"x\": 0.5, \"xanchor\": \"center\", \"xref\": \"paper\", \"y\": 1.0, \"yanchor\": \"bottom\", \"yref\": \"paper\"}, {\"font\": {\"size\": 16}, \"showarrow\": false, \"text\": \"f: 1, exc: 2, inh: 5\", \"x\": 0.8555555555555556, \"xanchor\": \"center\", \"xref\": \"paper\", \"y\": 1.0, \"yanchor\": \"bottom\", \"yref\": \"paper\"}, {\"font\": {\"size\": 16}, \"showarrow\": false, \"text\": \"f: 0.5, exc: 5, inh: 2\", \"x\": 0.14444444444444446, \"xanchor\": \"center\", \"xref\": \"paper\", \"y\": 0.6111111111111112, \"yanchor\": \"bottom\", \"yref\": \"paper\"}, {\"font\": {\"size\": 16}, \"showarrow\": false, \"text\": \"f: 0.5, exc: 2, inh: 2\", \"x\": 0.5, \"xanchor\": \"center\", \"xref\": \"paper\", \"y\": 0.6111111111111112, \"yanchor\": \"bottom\", \"yref\": \"paper\"}, {\"font\": {\"size\": 16}, \"showarrow\": false, \"text\": \"f: 0.5, exc: 2, inh: 5\", \"x\": 0.8555555555555556, \"xanchor\": \"center\", \"xref\": \"paper\", \"y\": 0.6111111111111112, \"yanchor\": \"bottom\", \"yref\": \"paper\"}, {\"font\": {\"size\": 16}, \"showarrow\": false, \"text\": \"f: 0.2, exc: 5, inh: 2\", \"x\": 0.14444444444444446, \"xanchor\": \"center\", \"xref\": \"paper\", \"y\": 0.22222222222222224, \"yanchor\": \"bottom\", \"yref\": \"paper\"}, {\"font\": {\"size\": 16}, \"showarrow\": false, \"text\": \"f: 0.2, exc: 2, inh: 2\", \"x\": 0.5, \"xanchor\": \"center\", \"xref\": \"paper\", \"y\": 0.22222222222222224, \"yanchor\": \"bottom\", \"yref\": \"paper\"}, {\"font\": {\"size\": 16}, \"showarrow\": false, \"text\": \"f: 0.2, exc: 2, inh: 5\", \"x\": 0.8555555555555556, \"xanchor\": \"center\", \"xref\": \"paper\", \"y\": 0.22222222222222224, \"yanchor\": \"bottom\", \"yref\": \"paper\"}, {\"font\": {\"size\": 16}, \"showarrow\": false, \"text\": \"Excitatory neural firing rate error (Hz)\", \"x\": 0.5, \"xanchor\": \"center\", \"xref\": \"paper\", \"y\": 0, \"yanchor\": \"top\", \"yref\": \"paper\", \"yshift\": -30}, {\"font\": {\"size\": 16}, \"showarrow\": false, \"text\": \"Inhibitory neural firing rate error (Hz)\", \"textangle\": -90, \"x\": 0, \"xanchor\": \"right\", \"xref\": \"paper\", \"xshift\": -40, \"y\": 0.5, \"yanchor\": \"middle\", \"yref\": \"paper\"}], \"height\": 900, \"template\": {\"data\": {\"bar\": [{\"error_x\": {\"color\": \"#2a3f5f\"}, \"error_y\": {\"color\": \"#2a3f5f\"}, \"marker\": {\"line\": {\"color\": \"#E5ECF6\", \"width\": 0.5}}, \"type\": \"bar\"}], \"barpolar\": [{\"marker\": {\"line\": {\"color\": \"#E5ECF6\", \"width\": 0.5}}, \"type\": \"barpolar\"}], \"carpet\": [{\"aaxis\": {\"endlinecolor\": \"#2a3f5f\", \"gridcolor\": \"white\", \"linecolor\": \"white\", \"minorgridcolor\": \"white\", \"startlinecolor\": \"#2a3f5f\"}, \"baxis\": {\"endlinecolor\": \"#2a3f5f\", \"gridcolor\": \"white\", \"linecolor\": \"white\", \"minorgridcolor\": \"white\", \"startlinecolor\": \"#2a3f5f\"}, \"type\": \"carpet\"}], \"choropleth\": [{\"colorbar\": {\"outlinewidth\": 0, \"ticks\": \"\"}, \"type\": \"choropleth\"}], \"contour\": [{\"colorbar\": {\"outlinewidth\": 0, \"ticks\": \"\"}, \"colorscale\": [[0.0, \"#0d0887\"], [0.1111111111111111, \"#46039f\"], [0.2222222222222222, \"#7201a8\"], [0.3333333333333333, \"#9c179e\"], [0.4444444444444444, \"#bd3786\"], [0.5555555555555556, \"#d8576b\"], [0.6666666666666666, \"#ed7953\"], [0.7777777777777778, \"#fb9f3a\"], [0.8888888888888888, \"#fdca26\"], [1.0, \"#f0f921\"]], \"type\": \"contour\"}], \"contourcarpet\": [{\"colorbar\": {\"outlinewidth\": 0, \"ticks\": \"\"}, \"type\": \"contourcarpet\"}], \"heatmap\": [{\"colorbar\": {\"outlinewidth\": 0, \"ticks\": \"\"}, \"colorscale\": [[0.0, \"#0d0887\"], [0.1111111111111111, \"#46039f\"], [0.2222222222222222, \"#7201a8\"], [0.3333333333333333, \"#9c179e\"], [0.4444444444444444, \"#bd3786\"], [0.5555555555555556, \"#d8576b\"], [0.6666666666666666, \"#ed7953\"], [0.7777777777777778, \"#fb9f3a\"], [0.8888888888888888, \"#fdca26\"], [1.0, \"#f0f921\"]], \"type\": \"heatmap\"}], \"heatmapgl\": [{\"colorbar\": {\"outlinewidth\": 0, \"ticks\": \"\"}, \"colorscale\": [[0.0, \"#0d0887\"], [0.1111111111111111, \"#46039f\"], [0.2222222222222222, \"#7201a8\"], [0.3333333333333333, \"#9c179e\"], [0.4444444444444444, \"#bd3786\"], [0.5555555555555556, \"#d8576b\"], [0.6666666666666666, \"#ed7953\"], [0.7777777777777778, \"#fb9f3a\"], [0.8888888888888888, \"#fdca26\"], [1.0, \"#f0f921\"]], \"type\": \"heatmapgl\"}], \"histogram\": [{\"marker\": {\"colorbar\": {\"outlinewidth\": 0, \"ticks\": \"\"}}, \"type\": \"histogram\"}], \"histogram2d\": [{\"colorbar\": {\"outlinewidth\": 0, \"ticks\": \"\"}, \"colorscale\": [[0.0, \"#0d0887\"], [0.1111111111111111, \"#46039f\"], [0.2222222222222222, \"#7201a8\"], [0.3333333333333333, \"#9c179e\"], [0.4444444444444444, \"#bd3786\"], [0.5555555555555556, \"#d8576b\"], [0.6666666666666666, \"#ed7953\"], [0.7777777777777778, \"#fb9f3a\"], [0.8888888888888888, \"#fdca26\"], [1.0, \"#f0f921\"]], \"type\": \"histogram2d\"}], \"histogram2dcontour\": [{\"colorbar\": {\"outlinewidth\": 0, \"ticks\": \"\"}, \"colorscale\": [[0.0, \"#0d0887\"], [0.1111111111111111, \"#46039f\"], [0.2222222222222222, \"#7201a8\"], [0.3333333333333333, \"#9c179e\"], [0.4444444444444444, \"#bd3786\"], [0.5555555555555556, \"#d8576b\"], [0.6666666666666666, \"#ed7953\"], [0.7777777777777778, \"#fb9f3a\"], [0.8888888888888888, \"#fdca26\"], [1.0, \"#f0f921\"]], \"type\": \"histogram2dcontour\"}], \"mesh3d\": [{\"colorbar\": {\"outlinewidth\": 0, \"ticks\": \"\"}, \"type\": \"mesh3d\"}], \"parcoords\": [{\"line\": {\"colorbar\": {\"outlinewidth\": 0, \"ticks\": \"\"}}, \"type\": \"parcoords\"}], \"pie\": [{\"automargin\": true, \"type\": \"pie\"}], \"scatter\": [{\"marker\": {\"colorbar\": {\"outlinewidth\": 0, \"ticks\": \"\"}}, \"type\": \"scatter\"}], \"scatter3d\": [{\"line\": {\"colorbar\": {\"outlinewidth\": 0, \"ticks\": \"\"}}, \"marker\": {\"colorbar\": {\"outlinewidth\": 0, \"ticks\": \"\"}}, \"type\": \"scatter3d\"}], \"scattercarpet\": [{\"marker\": {\"colorbar\": {\"outlinewidth\": 0, \"ticks\": \"\"}}, \"type\": \"scattercarpet\"}], \"scattergeo\": [{\"marker\": {\"colorbar\": {\"outlinewidth\": 0, \"ticks\": \"\"}}, \"type\": \"scattergeo\"}], \"scattergl\": [{\"marker\": {\"colorbar\": {\"outlinewidth\": 0, \"ticks\": \"\"}}, \"type\": \"scattergl\"}], \"scattermapbox\": [{\"marker\": {\"colorbar\": {\"outlinewidth\": 0, \"ticks\": \"\"}}, \"type\": \"scattermapbox\"}], \"scatterpolar\": [{\"marker\": {\"colorbar\": {\"outlinewidth\": 0, \"ticks\": \"\"}}, \"type\": \"scatterpolar\"}], \"scatterpolargl\": [{\"marker\": {\"colorbar\": {\"outlinewidth\": 0, \"ticks\": \"\"}}, \"type\": \"scatterpolargl\"}], \"scatterternary\": [{\"marker\": {\"colorbar\": {\"outlinewidth\": 0, \"ticks\": \"\"}}, \"type\": \"scatterternary\"}], \"surface\": [{\"colorbar\": {\"outlinewidth\": 0, \"ticks\": \"\"}, \"colorscale\": [[0.0, \"#0d0887\"], [0.1111111111111111, \"#46039f\"], [0.2222222222222222, \"#7201a8\"], [0.3333333333333333, \"#9c179e\"], [0.4444444444444444, \"#bd3786\"], [0.5555555555555556, \"#d8576b\"], [0.6666666666666666, \"#ed7953\"], [0.7777777777777778, \"#fb9f3a\"], [0.8888888888888888, \"#fdca26\"], [1.0, \"#f0f921\"]], \"type\": \"surface\"}], \"table\": [{\"cells\": {\"fill\": {\"color\": \"#EBF0F8\"}, \"line\": {\"color\": \"white\"}}, \"header\": {\"fill\": {\"color\": \"#C8D4E3\"}, \"line\": {\"color\": \"white\"}}, \"type\": \"table\"}]}, \"layout\": {\"annotationdefaults\": {\"arrowcolor\": \"#2a3f5f\", \"arrowhead\": 0, \"arrowwidth\": 1}, \"coloraxis\": {\"colorbar\": {\"outlinewidth\": 0, \"ticks\": \"\"}}, \"colorscale\": {\"diverging\": [[0, \"#8e0152\"], [0.1, \"#c51b7d\"], [0.2, \"#de77ae\"], [0.3, \"#f1b6da\"], [0.4, \"#fde0ef\"], [0.5, \"#f7f7f7\"], [0.6, \"#e6f5d0\"], [0.7, \"#b8e186\"], [0.8, \"#7fbc41\"], [0.9, \"#4d9221\"], [1, \"#276419\"]], \"sequential\": [[0.0, \"#0d0887\"], [0.1111111111111111, \"#46039f\"], [0.2222222222222222, \"#7201a8\"], [0.3333333333333333, \"#9c179e\"], [0.4444444444444444, \"#bd3786\"], [0.5555555555555556, \"#d8576b\"], [0.6666666666666666, \"#ed7953\"], [0.7777777777777778, \"#fb9f3a\"], [0.8888888888888888, \"#fdca26\"], [1.0, \"#f0f921\"]], \"sequentialminus\": [[0.0, \"#0d0887\"], [0.1111111111111111, \"#46039f\"], [0.2222222222222222, \"#7201a8\"], [0.3333333333333333, \"#9c179e\"], [0.4444444444444444, \"#bd3786\"], [0.5555555555555556, \"#d8576b\"], [0.6666666666666666, \"#ed7953\"], [0.7777777777777778, \"#fb9f3a\"], [0.8888888888888888, \"#fdca26\"], [1.0, \"#f0f921\"]]}, \"colorway\": [\"#636efa\", \"#EF553B\", \"#00cc96\", \"#ab63fa\", \"#FFA15A\", \"#19d3f3\", \"#FF6692\", \"#B6E880\", \"#FF97FF\", \"#FECB52\"], \"font\": {\"color\": \"#2a3f5f\"}, \"geo\": {\"bgcolor\": \"white\", \"lakecolor\": \"white\", \"landcolor\": \"#E5ECF6\", \"showlakes\": true, \"showland\": true, \"subunitcolor\": \"white\"}, \"hoverlabel\": {\"align\": \"left\"}, \"hovermode\": \"closest\", \"mapbox\": {\"style\": \"light\"}, \"paper_bgcolor\": \"white\", \"plot_bgcolor\": \"#E5ECF6\", \"polar\": {\"angularaxis\": {\"gridcolor\": \"white\", \"linecolor\": \"white\", \"ticks\": \"\"}, \"bgcolor\": \"#E5ECF6\", \"radialaxis\": {\"gridcolor\": \"white\", \"linecolor\": \"white\", \"ticks\": \"\"}}, \"scene\": {\"xaxis\": {\"backgroundcolor\": \"#E5ECF6\", \"gridcolor\": \"white\", \"gridwidth\": 2, \"linecolor\": \"white\", \"showbackground\": true, \"ticks\": \"\", \"zerolinecolor\": \"white\"}, \"yaxis\": {\"backgroundcolor\": \"#E5ECF6\", \"gridcolor\": \"white\", \"gridwidth\": 2, \"linecolor\": \"white\", \"showbackground\": true, \"ticks\": \"\", \"zerolinecolor\": \"white\"}, \"zaxis\": {\"backgroundcolor\": \"#E5ECF6\", \"gridcolor\": \"white\", \"gridwidth\": 2, \"linecolor\": \"white\", \"showbackground\": true, \"ticks\": \"\", \"zerolinecolor\": \"white\"}}, \"shapedefaults\": {\"line\": {\"color\": \"#2a3f5f\"}}, \"ternary\": {\"aaxis\": {\"gridcolor\": \"white\", \"linecolor\": \"white\", \"ticks\": \"\"}, \"baxis\": {\"gridcolor\": \"white\", \"linecolor\": \"white\", \"ticks\": \"\"}, \"bgcolor\": \"#E5ECF6\", \"caxis\": {\"gridcolor\": \"white\", \"linecolor\": \"white\", \"ticks\": \"\"}}, \"title\": {\"x\": 0.05}, \"xaxis\": {\"automargin\": true, \"gridcolor\": \"white\", \"linecolor\": \"white\", \"ticks\": \"\", \"title\": {\"standoff\": 15}, \"zerolinecolor\": \"white\", \"zerolinewidth\": 2}, \"yaxis\": {\"automargin\": true, \"gridcolor\": \"white\", \"linecolor\": \"white\", \"ticks\": \"\", \"title\": {\"standoff\": 15}, \"zerolinecolor\": \"white\", \"zerolinewidth\": 2}}}, \"title\": {\"text\": \"Final frontiers of firing error\"}, \"width\": 900, \"xaxis\": {\"anchor\": \"y\", \"domain\": [0.0, 0.2888888888888889]}, \"xaxis2\": {\"anchor\": \"y2\", \"domain\": [0.35555555555555557, 0.6444444444444445]}, \"xaxis3\": {\"anchor\": \"y3\", \"domain\": [0.7111111111111111, 1.0]}, \"xaxis4\": {\"anchor\": \"y4\", \"domain\": [0.0, 0.2888888888888889]}, \"xaxis5\": {\"anchor\": \"y5\", \"domain\": [0.35555555555555557, 0.6444444444444445]}, \"xaxis6\": {\"anchor\": \"y6\", \"domain\": [0.7111111111111111, 1.0]}, \"xaxis7\": {\"anchor\": \"y7\", \"domain\": [0.0, 0.2888888888888889]}, \"xaxis8\": {\"anchor\": \"y8\", \"domain\": [0.35555555555555557, 0.6444444444444445]}, \"xaxis9\": {\"anchor\": \"y9\", \"domain\": [0.7111111111111111, 1.0]}, \"yaxis\": {\"anchor\": \"x\", \"domain\": [0.7777777777777778, 1.0]}, \"yaxis2\": {\"anchor\": \"x2\", \"domain\": [0.7777777777777778, 1.0]}, \"yaxis3\": {\"anchor\": \"x3\", \"domain\": [0.7777777777777778, 1.0]}, \"yaxis4\": {\"anchor\": \"x4\", \"domain\": [0.3888888888888889, 0.6111111111111112]}, \"yaxis5\": {\"anchor\": \"x5\", \"domain\": [0.3888888888888889, 0.6111111111111112]}, \"yaxis6\": {\"anchor\": \"x6\", \"domain\": [0.3888888888888889, 0.6111111111111112]}, \"yaxis7\": {\"anchor\": \"x7\", \"domain\": [0.0, 0.22222222222222224]}, \"yaxis8\": {\"anchor\": \"x8\", \"domain\": [0.0, 0.22222222222222224]}, \"yaxis9\": {\"anchor\": \"x9\", \"domain\": [0.0, 0.22222222222222224]}},                        {\"responsive\": true}                    ).then(function(){\n",
       "                            \n",
       "var gd = document.getElementById('e9dd06e7-4bd1-48fd-81a8-d3d3d18de129');\n",
       "var x = new MutationObserver(function (mutations, observer) {{\n",
       "        var display = window.getComputedStyle(gd).display;\n",
       "        if (!display || display === 'none') {{\n",
       "            console.log([gd, 'removed!']);\n",
       "            Plotly.purge(gd);\n",
       "            observer.disconnect();\n",
       "        }}\n",
       "}});\n",
       "\n",
       "// Listen for the removal of the full notebook cells\n",
       "var notebookContainer = gd.closest('#notebook-container');\n",
       "if (notebookContainer) {{\n",
       "    x.observe(notebookContainer, {childList: true});\n",
       "}}\n",
       "\n",
       "// Listen for the clearing of the current output cell\n",
       "var outputEl = gd.closest('.output');\n",
       "if (outputEl) {{\n",
       "    x.observe(outputEl, {childList: true});\n",
       "}}\n",
       "\n",
       "                        })                };                });            </script>        </div>"
      ]
     },
     "metadata": {},
     "output_type": "display_data"
    }
   ],
   "source": [
    "plot_3x3_grid('/Users/fitzgerald/thesis/src/results/squared_error')"
   ]
  },
  {
   "cell_type": "markdown",
   "metadata": {},
   "source": [
    "## Time bin firing optimisation\n",
    "Oo="
   ]
  },
  {
   "cell_type": "code",
   "execution_count": null,
   "metadata": {},
   "outputs": [],
   "source": []
  }
 ],
 "metadata": {
  "kernelspec": {
   "display_name": "Python 3",
   "language": "python",
   "name": "python3"
  },
  "language_info": {
   "codemirror_mode": {
    "name": "ipython",
    "version": 3
   },
   "file_extension": ".py",
   "mimetype": "text/x-python",
   "name": "python",
   "nbconvert_exporter": "python",
   "pygments_lexer": "ipython3",
   "version": "3.8.5"
  }
 },
 "nbformat": 4,
 "nbformat_minor": 4
}
